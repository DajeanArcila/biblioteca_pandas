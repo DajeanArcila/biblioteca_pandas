{
  "nbformat": 4,
  "nbformat_minor": 0,
  "metadata": {
    "colab": {
      "provenance": [],
      "collapsed_sections": []
    },
    "kernelspec": {
      "display_name": "Python 3",
      "language": "python",
      "name": "python3"
    },
    "language_info": {
      "codemirror_mode": {
        "name": "ipython",
        "version": 3
      },
      "file_extension": ".py",
      "mimetype": "text/x-python",
      "name": "python",
      "nbconvert_exporter": "python",
      "pygments_lexer": "ipython3",
      "version": "3.7.8"
    }
  },
  "cells": [
    {
      "cell_type": "markdown",
      "metadata": {
        "id": "8N75nlABpnBk"
      },
      "source": [
        "# Otimização de Hiperparâmetros"
      ]
    },
    {
      "cell_type": "markdown",
      "metadata": {
        "id": "NVAMjgY4ps5q"
      },
      "source": [
        "## Carregando os dados"
      ]
    },
    {
      "cell_type": "code",
      "metadata": {
        "id": "xW4VcUFmpdBy"
      },
      "source": [
        "# carregando os pacotes\n",
        "import os\n",
        "import numpy as np\n",
        "import pandas as pd"
      ],
      "execution_count": 64,
      "outputs": []
    },
    {
      "cell_type": "markdown",
      "source": [],
      "metadata": {
        "id": "MJilbs0ENAMm"
      }
    },
    {
      "cell_type": "code",
      "metadata": {
        "id": "g7AAClHZpjRb",
        "outputId": "93de134f-2b89-4e3e-9196-7faca650aac8",
        "colab": {
          "base_uri": "https://localhost:8080/",
          "height": 206
        }
      },
      "source": [
        "df_abt = pd.read_excel('/content/Bank_Personal_Loan_Modelling.xlsx')\n",
        "df_abt.head()"
      ],
      "execution_count": 65,
      "outputs": [
        {
          "output_type": "execute_result",
          "data": {
            "text/plain": [
              "   ID  Age  Experience  Income  Family  CCAvg  Education  Mortgage  \\\n",
              "0   1   25           1      49       4    1.6          1         0   \n",
              "1   2   45          19      34       3    1.5          1         0   \n",
              "2   3   39          15      11       1    1.0          1         0   \n",
              "3   4   35           9     100       1    2.7          2         0   \n",
              "4   5   35           8      45       4    1.0          2         0   \n",
              "\n",
              "   Personal_Loan  Securities_Account  CD_Account  Online  CreditCard  \n",
              "0              0                   1           0       0           0  \n",
              "1              0                   1           0       0           0  \n",
              "2              0                   0           0       0           0  \n",
              "3              0                   0           0       0           0  \n",
              "4              0                   0           0       0           1  "
            ],
            "text/html": [
              "\n",
              "  <div id=\"df-b27d07ee-0387-49ff-ab98-f9ebf7bbe201\">\n",
              "    <div class=\"colab-df-container\">\n",
              "      <div>\n",
              "<style scoped>\n",
              "    .dataframe tbody tr th:only-of-type {\n",
              "        vertical-align: middle;\n",
              "    }\n",
              "\n",
              "    .dataframe tbody tr th {\n",
              "        vertical-align: top;\n",
              "    }\n",
              "\n",
              "    .dataframe thead th {\n",
              "        text-align: right;\n",
              "    }\n",
              "</style>\n",
              "<table border=\"1\" class=\"dataframe\">\n",
              "  <thead>\n",
              "    <tr style=\"text-align: right;\">\n",
              "      <th></th>\n",
              "      <th>ID</th>\n",
              "      <th>Age</th>\n",
              "      <th>Experience</th>\n",
              "      <th>Income</th>\n",
              "      <th>Family</th>\n",
              "      <th>CCAvg</th>\n",
              "      <th>Education</th>\n",
              "      <th>Mortgage</th>\n",
              "      <th>Personal_Loan</th>\n",
              "      <th>Securities_Account</th>\n",
              "      <th>CD_Account</th>\n",
              "      <th>Online</th>\n",
              "      <th>CreditCard</th>\n",
              "    </tr>\n",
              "  </thead>\n",
              "  <tbody>\n",
              "    <tr>\n",
              "      <th>0</th>\n",
              "      <td>1</td>\n",
              "      <td>25</td>\n",
              "      <td>1</td>\n",
              "      <td>49</td>\n",
              "      <td>4</td>\n",
              "      <td>1.6</td>\n",
              "      <td>1</td>\n",
              "      <td>0</td>\n",
              "      <td>0</td>\n",
              "      <td>1</td>\n",
              "      <td>0</td>\n",
              "      <td>0</td>\n",
              "      <td>0</td>\n",
              "    </tr>\n",
              "    <tr>\n",
              "      <th>1</th>\n",
              "      <td>2</td>\n",
              "      <td>45</td>\n",
              "      <td>19</td>\n",
              "      <td>34</td>\n",
              "      <td>3</td>\n",
              "      <td>1.5</td>\n",
              "      <td>1</td>\n",
              "      <td>0</td>\n",
              "      <td>0</td>\n",
              "      <td>1</td>\n",
              "      <td>0</td>\n",
              "      <td>0</td>\n",
              "      <td>0</td>\n",
              "    </tr>\n",
              "    <tr>\n",
              "      <th>2</th>\n",
              "      <td>3</td>\n",
              "      <td>39</td>\n",
              "      <td>15</td>\n",
              "      <td>11</td>\n",
              "      <td>1</td>\n",
              "      <td>1.0</td>\n",
              "      <td>1</td>\n",
              "      <td>0</td>\n",
              "      <td>0</td>\n",
              "      <td>0</td>\n",
              "      <td>0</td>\n",
              "      <td>0</td>\n",
              "      <td>0</td>\n",
              "    </tr>\n",
              "    <tr>\n",
              "      <th>3</th>\n",
              "      <td>4</td>\n",
              "      <td>35</td>\n",
              "      <td>9</td>\n",
              "      <td>100</td>\n",
              "      <td>1</td>\n",
              "      <td>2.7</td>\n",
              "      <td>2</td>\n",
              "      <td>0</td>\n",
              "      <td>0</td>\n",
              "      <td>0</td>\n",
              "      <td>0</td>\n",
              "      <td>0</td>\n",
              "      <td>0</td>\n",
              "    </tr>\n",
              "    <tr>\n",
              "      <th>4</th>\n",
              "      <td>5</td>\n",
              "      <td>35</td>\n",
              "      <td>8</td>\n",
              "      <td>45</td>\n",
              "      <td>4</td>\n",
              "      <td>1.0</td>\n",
              "      <td>2</td>\n",
              "      <td>0</td>\n",
              "      <td>0</td>\n",
              "      <td>0</td>\n",
              "      <td>0</td>\n",
              "      <td>0</td>\n",
              "      <td>1</td>\n",
              "    </tr>\n",
              "  </tbody>\n",
              "</table>\n",
              "</div>\n",
              "      <button class=\"colab-df-convert\" onclick=\"convertToInteractive('df-b27d07ee-0387-49ff-ab98-f9ebf7bbe201')\"\n",
              "              title=\"Convert this dataframe to an interactive table.\"\n",
              "              style=\"display:none;\">\n",
              "        \n",
              "  <svg xmlns=\"http://www.w3.org/2000/svg\" height=\"24px\"viewBox=\"0 0 24 24\"\n",
              "       width=\"24px\">\n",
              "    <path d=\"M0 0h24v24H0V0z\" fill=\"none\"/>\n",
              "    <path d=\"M18.56 5.44l.94 2.06.94-2.06 2.06-.94-2.06-.94-.94-2.06-.94 2.06-2.06.94zm-11 1L8.5 8.5l.94-2.06 2.06-.94-2.06-.94L8.5 2.5l-.94 2.06-2.06.94zm10 10l.94 2.06.94-2.06 2.06-.94-2.06-.94-.94-2.06-.94 2.06-2.06.94z\"/><path d=\"M17.41 7.96l-1.37-1.37c-.4-.4-.92-.59-1.43-.59-.52 0-1.04.2-1.43.59L10.3 9.45l-7.72 7.72c-.78.78-.78 2.05 0 2.83L4 21.41c.39.39.9.59 1.41.59.51 0 1.02-.2 1.41-.59l7.78-7.78 2.81-2.81c.8-.78.8-2.07 0-2.86zM5.41 20L4 18.59l7.72-7.72 1.47 1.35L5.41 20z\"/>\n",
              "  </svg>\n",
              "      </button>\n",
              "      \n",
              "  <style>\n",
              "    .colab-df-container {\n",
              "      display:flex;\n",
              "      flex-wrap:wrap;\n",
              "      gap: 12px;\n",
              "    }\n",
              "\n",
              "    .colab-df-convert {\n",
              "      background-color: #E8F0FE;\n",
              "      border: none;\n",
              "      border-radius: 50%;\n",
              "      cursor: pointer;\n",
              "      display: none;\n",
              "      fill: #1967D2;\n",
              "      height: 32px;\n",
              "      padding: 0 0 0 0;\n",
              "      width: 32px;\n",
              "    }\n",
              "\n",
              "    .colab-df-convert:hover {\n",
              "      background-color: #E2EBFA;\n",
              "      box-shadow: 0px 1px 2px rgba(60, 64, 67, 0.3), 0px 1px 3px 1px rgba(60, 64, 67, 0.15);\n",
              "      fill: #174EA6;\n",
              "    }\n",
              "\n",
              "    [theme=dark] .colab-df-convert {\n",
              "      background-color: #3B4455;\n",
              "      fill: #D2E3FC;\n",
              "    }\n",
              "\n",
              "    [theme=dark] .colab-df-convert:hover {\n",
              "      background-color: #434B5C;\n",
              "      box-shadow: 0px 1px 3px 1px rgba(0, 0, 0, 0.15);\n",
              "      filter: drop-shadow(0px 1px 2px rgba(0, 0, 0, 0.3));\n",
              "      fill: #FFFFFF;\n",
              "    }\n",
              "  </style>\n",
              "\n",
              "      <script>\n",
              "        const buttonEl =\n",
              "          document.querySelector('#df-b27d07ee-0387-49ff-ab98-f9ebf7bbe201 button.colab-df-convert');\n",
              "        buttonEl.style.display =\n",
              "          google.colab.kernel.accessAllowed ? 'block' : 'none';\n",
              "\n",
              "        async function convertToInteractive(key) {\n",
              "          const element = document.querySelector('#df-b27d07ee-0387-49ff-ab98-f9ebf7bbe201');\n",
              "          const dataTable =\n",
              "            await google.colab.kernel.invokeFunction('convertToInteractive',\n",
              "                                                     [key], {});\n",
              "          if (!dataTable) return;\n",
              "\n",
              "          const docLinkHtml = 'Like what you see? Visit the ' +\n",
              "            '<a target=\"_blank\" href=https://colab.research.google.com/notebooks/data_table.ipynb>data table notebook</a>'\n",
              "            + ' to learn more about interactive tables.';\n",
              "          element.innerHTML = '';\n",
              "          dataTable['output_type'] = 'display_data';\n",
              "          await google.colab.output.renderOutput(dataTable, element);\n",
              "          const docLink = document.createElement('div');\n",
              "          docLink.innerHTML = docLinkHtml;\n",
              "          element.appendChild(docLink);\n",
              "        }\n",
              "      </script>\n",
              "    </div>\n",
              "  </div>\n",
              "  "
            ]
          },
          "metadata": {},
          "execution_count": 65
        }
      ]
    },
    {
      "cell_type": "code",
      "source": [
        "df_abt = df_abt.dropna()"
      ],
      "metadata": {
        "id": "vKzMpZ2OfC6a"
      },
      "execution_count": 66,
      "outputs": []
    },
    {
      "cell_type": "code",
      "source": [
        "from sklearn.model_selection import train_test_split"
      ],
      "metadata": {
        "id": "caUVNIslNLN8"
      },
      "execution_count": 67,
      "outputs": []
    },
    {
      "cell_type": "code",
      "source": [
        "X = df_abt[[\"Age\", \"Experience\", \"Income\", \"Family\", \"CCAvg\", \"Education\", \"Mortgage\", \"CreditCard\", \"Securities_Account\", \"CD_Account\", \"Online\"]]\n",
        "y = df_abt['Personal_Loan'].copy()\n",
        "y = pd.DataFrame(y)"
      ],
      "metadata": {
        "id": "eAXFsKf1fFBc"
      },
      "execution_count": 68,
      "outputs": []
    },
    {
      "cell_type": "code",
      "source": [
        "from sklearn.model_selection import train_test_split\n",
        "\n",
        "X_train, X_test, y_train, y_test = train_test_split(X, y, test_size=0.2, stratify=y)"
      ],
      "metadata": {
        "id": "w4qTwuhlfPNY"
      },
      "execution_count": 69,
      "outputs": []
    },
    {
      "cell_type": "markdown",
      "metadata": {
        "id": "qCEN3Ssro3ca"
      },
      "source": [
        "## Grid Search"
      ]
    },
    {
      "cell_type": "code",
      "source": [
        "from sklearn.tree import DecisionTreeClassifier\n",
        "\n",
        "arvore_decisao = DecisionTreeClassifier()"
      ],
      "metadata": {
        "id": "viJgcwVgfpPx"
      },
      "execution_count": 70,
      "outputs": []
    },
    {
      "cell_type": "code",
      "source": [
        "arvore_decisao.fit(X_train, y_train)"
      ],
      "metadata": {
        "id": "hc0tFzqdfzUy",
        "colab": {
          "base_uri": "https://localhost:8080/"
        },
        "outputId": "15129051-6a4d-4b76-90ee-b263d796caef"
      },
      "execution_count": 71,
      "outputs": [
        {
          "output_type": "execute_result",
          "data": {
            "text/plain": [
              "DecisionTreeClassifier()"
            ]
          },
          "metadata": {},
          "execution_count": 71
        }
      ]
    },
    {
      "cell_type": "code",
      "source": [
        "from sklearn.metrics import accuracy_score, balanced_accuracy_score, precision_score, recall_score, f1_score, roc_auc_score\n",
        "\n",
        "print(f\"Acurácia (Treino): {accuracy_score(y_train, arvore_decisao.predict(X_train))}\")\n",
        "print(f\"Acurácia (Teste): {accuracy_score(y_test, arvore_decisao.predict(X_test))}\")\n",
        "print(\"====================================\")\n",
        "print(f\"Acurácia Balanceada (Treino): {balanced_accuracy_score(y_train, arvore_decisao.predict(X_train))}\")\n",
        "print(f\"Acurácia Balanceada (Teste): {balanced_accuracy_score(y_test, arvore_decisao.predict(X_test))}\")\n",
        "print(\"====================================\")\n",
        "print(f\"Precision (Treino): {precision_score(y_train, arvore_decisao.predict(X_train))}\")\n",
        "print(f\"Precision (Teste): {precision_score(y_test, arvore_decisao.predict(X_test))}\")\n",
        "print(\"====================================\")\n",
        "print(f\"Recall (Treino): {recall_score(y_train, arvore_decisao.predict(X_train))}\")\n",
        "print(f\"Recall (Teste): {recall_score(y_test, arvore_decisao.predict(X_test))}\")\n",
        "print(\"====================================\")\n",
        "print(f\"F1-Score (Treino): {f1_score(y_train, arvore_decisao.predict(X_train))}\")\n",
        "print(f\"F1-Score (Teste): {f1_score(y_test, arvore_decisao.predict(X_test))}\")\n",
        "print(\"====================================\")\n",
        "print(f\"ROCAUC (Treino): {roc_auc_score(y_train, arvore_decisao.predict_proba(X_train)[:,1])}\")\n",
        "print(f\"ROCAUC (Teste): {roc_auc_score(y_test, arvore_decisao.predict_proba(X_test)[:,1])}\")"
      ],
      "metadata": {
        "colab": {
          "base_uri": "https://localhost:8080/"
        },
        "id": "4Q1x8ltWsW_l",
        "outputId": "7f9370fa-0810-473c-ed7f-223b62a42dfa"
      },
      "execution_count": 72,
      "outputs": [
        {
          "output_type": "stream",
          "name": "stdout",
          "text": [
            "Acurácia (Treino): 1.0\n",
            "Acurácia (Teste): 0.981\n",
            "====================================\n",
            "Acurácia Balanceada (Treino): 1.0\n",
            "Acurácia Balanceada (Teste): 0.9336283185840708\n",
            "====================================\n",
            "Precision (Treino): 1.0\n",
            "Precision (Teste): 0.9230769230769231\n",
            "====================================\n",
            "Recall (Treino): 1.0\n",
            "Recall (Teste): 0.875\n",
            "====================================\n",
            "F1-Score (Treino): 1.0\n",
            "F1-Score (Teste): 0.8983957219251337\n",
            "====================================\n",
            "ROCAUC (Treino): 1.0\n",
            "ROCAUC (Teste): 0.9336283185840708\n"
          ]
        }
      ]
    },
    {
      "cell_type": "code",
      "metadata": {
        "id": "LDTorEU5oyfw"
      },
      "source": [
        "# Importamos GridSearchCV\n",
        "from sklearn.model_selection import GridSearchCV\n",
        "\n",
        "# Criamos um dicionário que os hiperparâmetros que queremos treinar o modelo\n",
        "parameters = {\n",
        "  'max_depth': [1, 2, 3, 4, 5, 6, 7, 8, 9, 10]\n",
        "}\n",
        "\n",
        "# Criamos um GridSearch passando o modelo, os parâmetros, a métrica que queremos otimizar. \n",
        "grid_search = GridSearchCV(arvore_decisao, parameters, scoring='roc_auc', cv=5, n_jobs=-1)\n",
        "\n"
      ],
      "execution_count": 73,
      "outputs": []
    },
    {
      "cell_type": "code",
      "source": [
        "grid_search.fit(X_train, y_train)"
      ],
      "metadata": {
        "id": "GDTmlFkIi75H",
        "outputId": "641acf45-ab15-4f52-d178-85ef7c39465d",
        "colab": {
          "base_uri": "https://localhost:8080/"
        }
      },
      "execution_count": 74,
      "outputs": [
        {
          "output_type": "execute_result",
          "data": {
            "text/plain": [
              "GridSearchCV(cv=5, estimator=DecisionTreeClassifier(), n_jobs=-1,\n",
              "             param_grid={'max_depth': [1, 2, 3, 4, 5, 6, 7, 8, 9, 10]},\n",
              "             scoring='roc_auc')"
            ]
          },
          "metadata": {},
          "execution_count": 74
        }
      ]
    },
    {
      "cell_type": "code",
      "source": [
        "grid_search.best_estimator_.get_params()"
      ],
      "metadata": {
        "colab": {
          "base_uri": "https://localhost:8080/"
        },
        "id": "4V0hWpVtpMtF",
        "outputId": "72f063f3-9b7b-44df-c9e9-1638b2fb3254"
      },
      "execution_count": 75,
      "outputs": [
        {
          "output_type": "execute_result",
          "data": {
            "text/plain": [
              "{'ccp_alpha': 0.0,\n",
              " 'class_weight': None,\n",
              " 'criterion': 'gini',\n",
              " 'max_depth': 3,\n",
              " 'max_features': None,\n",
              " 'max_leaf_nodes': None,\n",
              " 'min_impurity_decrease': 0.0,\n",
              " 'min_samples_leaf': 1,\n",
              " 'min_samples_split': 2,\n",
              " 'min_weight_fraction_leaf': 0.0,\n",
              " 'random_state': None,\n",
              " 'splitter': 'best'}"
            ]
          },
          "metadata": {},
          "execution_count": 75
        }
      ]
    },
    {
      "cell_type": "code",
      "source": [
        "arvore_decisao = DecisionTreeClassifier(ccp_alpha = 0.0,\n",
        " class_weight= None,\n",
        " criterion = 'gini',\n",
        " max_depth = 3,\n",
        " max_features = None,\n",
        " max_leaf_nodes = None,\n",
        " min_impurity_decrease = 0.0,\n",
        " min_samples_leaf = 1,\n",
        " min_samples_split = 2,\n",
        " min_weight_fraction_leaf = 0.0,\n",
        " random_state = None,\n",
        " splitter = 'best')"
      ],
      "metadata": {
        "id": "yURyyHy8pTRE"
      },
      "execution_count": 76,
      "outputs": []
    },
    {
      "cell_type": "code",
      "source": [
        "arvore_decisao.fit(X_train, y_train)"
      ],
      "metadata": {
        "colab": {
          "base_uri": "https://localhost:8080/"
        },
        "id": "fYeMmB4_q7Ks",
        "outputId": "e2f13743-31e0-45a7-812b-7ac3f40d247b"
      },
      "execution_count": 77,
      "outputs": [
        {
          "output_type": "execute_result",
          "data": {
            "text/plain": [
              "DecisionTreeClassifier(max_depth=3)"
            ]
          },
          "metadata": {},
          "execution_count": 77
        }
      ]
    },
    {
      "cell_type": "code",
      "source": [
        "from sklearn.metrics import accuracy_score, balanced_accuracy_score, precision_score, recall_score, f1_score, roc_auc_score\n",
        "\n",
        "print(f\"Acurácia (Treino): {accuracy_score(y_train, arvore_decisao.predict(X_train))}\")\n",
        "print(f\"Acurácia (Teste): {accuracy_score(y_test, arvore_decisao.predict(X_test))}\")\n",
        "print(\"====================================\")\n",
        "print(f\"Acurácia Balanceada (Treino): {balanced_accuracy_score(y_train, arvore_decisao.predict(X_train))}\")\n",
        "print(f\"Acurácia Balanceada (Teste): {balanced_accuracy_score(y_test, arvore_decisao.predict(X_test))}\")\n",
        "print(\"====================================\")\n",
        "print(f\"Precision (Treino): {precision_score(y_train, arvore_decisao.predict(X_train))}\")\n",
        "print(f\"Precision (Teste): {precision_score(y_test, arvore_decisao.predict(X_test))}\")\n",
        "print(\"====================================\")\n",
        "print(f\"Recall (Treino): {recall_score(y_train, arvore_decisao.predict(X_train))}\")\n",
        "print(f\"Recall (Teste): {recall_score(y_test, arvore_decisao.predict(X_test))}\")\n",
        "print(\"====================================\")\n",
        "print(f\"F1-Score (Treino): {f1_score(y_train, arvore_decisao.predict(X_train))}\")\n",
        "print(f\"F1-Score (Teste): {f1_score(y_test, arvore_decisao.predict(X_test))}\")\n",
        "print(\"====================================\")\n",
        "print(f\"ROCAUC (Treino): {roc_auc_score(y_train, arvore_decisao.predict_proba(X_train)[:,1])}\")\n",
        "print(f\"ROCAUC (Teste): {roc_auc_score(y_test, arvore_decisao.predict_proba(X_test)[:,1])}\")"
      ],
      "metadata": {
        "colab": {
          "base_uri": "https://localhost:8080/"
        },
        "id": "JY24nU8erRZX",
        "outputId": "c0e302ef-538c-4710-9284-a73363a0317e"
      },
      "execution_count": 78,
      "outputs": [
        {
          "output_type": "stream",
          "name": "stdout",
          "text": [
            "Acurácia (Treino): 0.98525\n",
            "Acurácia (Teste): 0.972\n",
            "====================================\n",
            "Acurácia Balanceada (Treino): 0.9383066002949852\n",
            "Acurácia Balanceada (Teste): 0.9007190265486726\n",
            "====================================\n",
            "Precision (Treino): 0.9629629629629629\n",
            "Precision (Teste): 0.8863636363636364\n",
            "====================================\n",
            "Recall (Treino): 0.8802083333333334\n",
            "Recall (Teste): 0.8125\n",
            "====================================\n",
            "F1-Score (Treino): 0.9197278911564626\n",
            "F1-Score (Teste): 0.8478260869565218\n",
            "====================================\n",
            "ROCAUC (Treino): 0.995778311670354\n",
            "ROCAUC (Teste): 0.981914869100295\n"
          ]
        }
      ]
    },
    {
      "cell_type": "code",
      "metadata": {
        "id": "lwZ2nPCZpznu",
        "outputId": "c26d898a-79cd-495f-83b0-d44af050d01c",
        "colab": {
          "base_uri": "https://localhost:8080/",
          "height": 600
        }
      },
      "source": [
        "# criando uma tabela com os resultados do grid_search\n",
        "results = pd.DataFrame(grid_search.cv_results_)\n",
        "\n",
        "# rankeando esses resultados\n",
        "results.sort_values(by='rank_test_score')"
      ],
      "execution_count": 79,
      "outputs": [
        {
          "output_type": "execute_result",
          "data": {
            "text/plain": [
              "   mean_fit_time  std_fit_time  mean_score_time  std_score_time  \\\n",
              "2       0.013623      0.003836         0.008760        0.002469   \n",
              "3       0.015346      0.004381         0.006574        0.000361   \n",
              "4       0.011686      0.002441         0.008971        0.003361   \n",
              "5       0.012379      0.003122         0.008216        0.002674   \n",
              "6       0.012518      0.003279         0.006515        0.000218   \n",
              "1       0.010912      0.002370         0.008447        0.002469   \n",
              "8       0.010707      0.000721         0.007926        0.002133   \n",
              "9       0.012517      0.002176         0.006287        0.000361   \n",
              "7       0.011716      0.002478         0.007141        0.001252   \n",
              "0       0.008119      0.000239         0.008097        0.002364   \n",
              "\n",
              "  param_max_depth             params  split0_test_score  split1_test_score  \\\n",
              "2               3   {'max_depth': 3}           0.993612           0.996883   \n",
              "3               4   {'max_depth': 4}           0.995202           0.991297   \n",
              "4               5   {'max_depth': 5}           0.981181           0.984822   \n",
              "5               6   {'max_depth': 6}           0.975574           0.972481   \n",
              "6               7   {'max_depth': 7}           0.968777           0.964955   \n",
              "1               2   {'max_depth': 2}           0.960417           0.973370   \n",
              "8               9   {'max_depth': 9}           0.955001           0.958093   \n",
              "9              10  {'max_depth': 10}           0.954311           0.958219   \n",
              "7               8   {'max_depth': 8}           0.954729           0.951258   \n",
              "0               1   {'max_depth': 1}           0.835345           0.866331   \n",
              "\n",
              "   split2_test_score  split3_test_score  split4_test_score  mean_test_score  \\\n",
              "2           0.993066           0.995446           0.995967         0.994995   \n",
              "3           0.983672           0.990507           0.996695         0.991475   \n",
              "4           0.983663           0.988836           0.988675         0.985435   \n",
              "5           0.971852           0.989483           0.975212         0.976920   \n",
              "6           0.957590           0.982953           0.975705         0.969996   \n",
              "1           0.956387           0.956207           0.962269         0.961730   \n",
              "8           0.963940           0.964515           0.959728         0.960255   \n",
              "9           0.958273           0.964497           0.962692         0.959598   \n",
              "7           0.950154           0.970739           0.968718         0.959120   \n",
              "0           0.847389           0.861068           0.867983         0.855623   \n",
              "\n",
              "   std_test_score  rank_test_score  \n",
              "2        0.001439                1  \n",
              "3        0.004539                2  \n",
              "4        0.002956                3  \n",
              "5        0.006449                4  \n",
              "6        0.008733                5  \n",
              "1        0.006270                6  \n",
              "8        0.003585                7  \n",
              "9        0.003611                8  \n",
              "7        0.008816                9  \n",
              "0        0.012459               10  "
            ],
            "text/html": [
              "\n",
              "  <div id=\"df-add11011-2903-4493-a91f-9699d7b0e938\">\n",
              "    <div class=\"colab-df-container\">\n",
              "      <div>\n",
              "<style scoped>\n",
              "    .dataframe tbody tr th:only-of-type {\n",
              "        vertical-align: middle;\n",
              "    }\n",
              "\n",
              "    .dataframe tbody tr th {\n",
              "        vertical-align: top;\n",
              "    }\n",
              "\n",
              "    .dataframe thead th {\n",
              "        text-align: right;\n",
              "    }\n",
              "</style>\n",
              "<table border=\"1\" class=\"dataframe\">\n",
              "  <thead>\n",
              "    <tr style=\"text-align: right;\">\n",
              "      <th></th>\n",
              "      <th>mean_fit_time</th>\n",
              "      <th>std_fit_time</th>\n",
              "      <th>mean_score_time</th>\n",
              "      <th>std_score_time</th>\n",
              "      <th>param_max_depth</th>\n",
              "      <th>params</th>\n",
              "      <th>split0_test_score</th>\n",
              "      <th>split1_test_score</th>\n",
              "      <th>split2_test_score</th>\n",
              "      <th>split3_test_score</th>\n",
              "      <th>split4_test_score</th>\n",
              "      <th>mean_test_score</th>\n",
              "      <th>std_test_score</th>\n",
              "      <th>rank_test_score</th>\n",
              "    </tr>\n",
              "  </thead>\n",
              "  <tbody>\n",
              "    <tr>\n",
              "      <th>2</th>\n",
              "      <td>0.013623</td>\n",
              "      <td>0.003836</td>\n",
              "      <td>0.008760</td>\n",
              "      <td>0.002469</td>\n",
              "      <td>3</td>\n",
              "      <td>{'max_depth': 3}</td>\n",
              "      <td>0.993612</td>\n",
              "      <td>0.996883</td>\n",
              "      <td>0.993066</td>\n",
              "      <td>0.995446</td>\n",
              "      <td>0.995967</td>\n",
              "      <td>0.994995</td>\n",
              "      <td>0.001439</td>\n",
              "      <td>1</td>\n",
              "    </tr>\n",
              "    <tr>\n",
              "      <th>3</th>\n",
              "      <td>0.015346</td>\n",
              "      <td>0.004381</td>\n",
              "      <td>0.006574</td>\n",
              "      <td>0.000361</td>\n",
              "      <td>4</td>\n",
              "      <td>{'max_depth': 4}</td>\n",
              "      <td>0.995202</td>\n",
              "      <td>0.991297</td>\n",
              "      <td>0.983672</td>\n",
              "      <td>0.990507</td>\n",
              "      <td>0.996695</td>\n",
              "      <td>0.991475</td>\n",
              "      <td>0.004539</td>\n",
              "      <td>2</td>\n",
              "    </tr>\n",
              "    <tr>\n",
              "      <th>4</th>\n",
              "      <td>0.011686</td>\n",
              "      <td>0.002441</td>\n",
              "      <td>0.008971</td>\n",
              "      <td>0.003361</td>\n",
              "      <td>5</td>\n",
              "      <td>{'max_depth': 5}</td>\n",
              "      <td>0.981181</td>\n",
              "      <td>0.984822</td>\n",
              "      <td>0.983663</td>\n",
              "      <td>0.988836</td>\n",
              "      <td>0.988675</td>\n",
              "      <td>0.985435</td>\n",
              "      <td>0.002956</td>\n",
              "      <td>3</td>\n",
              "    </tr>\n",
              "    <tr>\n",
              "      <th>5</th>\n",
              "      <td>0.012379</td>\n",
              "      <td>0.003122</td>\n",
              "      <td>0.008216</td>\n",
              "      <td>0.002674</td>\n",
              "      <td>6</td>\n",
              "      <td>{'max_depth': 6}</td>\n",
              "      <td>0.975574</td>\n",
              "      <td>0.972481</td>\n",
              "      <td>0.971852</td>\n",
              "      <td>0.989483</td>\n",
              "      <td>0.975212</td>\n",
              "      <td>0.976920</td>\n",
              "      <td>0.006449</td>\n",
              "      <td>4</td>\n",
              "    </tr>\n",
              "    <tr>\n",
              "      <th>6</th>\n",
              "      <td>0.012518</td>\n",
              "      <td>0.003279</td>\n",
              "      <td>0.006515</td>\n",
              "      <td>0.000218</td>\n",
              "      <td>7</td>\n",
              "      <td>{'max_depth': 7}</td>\n",
              "      <td>0.968777</td>\n",
              "      <td>0.964955</td>\n",
              "      <td>0.957590</td>\n",
              "      <td>0.982953</td>\n",
              "      <td>0.975705</td>\n",
              "      <td>0.969996</td>\n",
              "      <td>0.008733</td>\n",
              "      <td>5</td>\n",
              "    </tr>\n",
              "    <tr>\n",
              "      <th>1</th>\n",
              "      <td>0.010912</td>\n",
              "      <td>0.002370</td>\n",
              "      <td>0.008447</td>\n",
              "      <td>0.002469</td>\n",
              "      <td>2</td>\n",
              "      <td>{'max_depth': 2}</td>\n",
              "      <td>0.960417</td>\n",
              "      <td>0.973370</td>\n",
              "      <td>0.956387</td>\n",
              "      <td>0.956207</td>\n",
              "      <td>0.962269</td>\n",
              "      <td>0.961730</td>\n",
              "      <td>0.006270</td>\n",
              "      <td>6</td>\n",
              "    </tr>\n",
              "    <tr>\n",
              "      <th>8</th>\n",
              "      <td>0.010707</td>\n",
              "      <td>0.000721</td>\n",
              "      <td>0.007926</td>\n",
              "      <td>0.002133</td>\n",
              "      <td>9</td>\n",
              "      <td>{'max_depth': 9}</td>\n",
              "      <td>0.955001</td>\n",
              "      <td>0.958093</td>\n",
              "      <td>0.963940</td>\n",
              "      <td>0.964515</td>\n",
              "      <td>0.959728</td>\n",
              "      <td>0.960255</td>\n",
              "      <td>0.003585</td>\n",
              "      <td>7</td>\n",
              "    </tr>\n",
              "    <tr>\n",
              "      <th>9</th>\n",
              "      <td>0.012517</td>\n",
              "      <td>0.002176</td>\n",
              "      <td>0.006287</td>\n",
              "      <td>0.000361</td>\n",
              "      <td>10</td>\n",
              "      <td>{'max_depth': 10}</td>\n",
              "      <td>0.954311</td>\n",
              "      <td>0.958219</td>\n",
              "      <td>0.958273</td>\n",
              "      <td>0.964497</td>\n",
              "      <td>0.962692</td>\n",
              "      <td>0.959598</td>\n",
              "      <td>0.003611</td>\n",
              "      <td>8</td>\n",
              "    </tr>\n",
              "    <tr>\n",
              "      <th>7</th>\n",
              "      <td>0.011716</td>\n",
              "      <td>0.002478</td>\n",
              "      <td>0.007141</td>\n",
              "      <td>0.001252</td>\n",
              "      <td>8</td>\n",
              "      <td>{'max_depth': 8}</td>\n",
              "      <td>0.954729</td>\n",
              "      <td>0.951258</td>\n",
              "      <td>0.950154</td>\n",
              "      <td>0.970739</td>\n",
              "      <td>0.968718</td>\n",
              "      <td>0.959120</td>\n",
              "      <td>0.008816</td>\n",
              "      <td>9</td>\n",
              "    </tr>\n",
              "    <tr>\n",
              "      <th>0</th>\n",
              "      <td>0.008119</td>\n",
              "      <td>0.000239</td>\n",
              "      <td>0.008097</td>\n",
              "      <td>0.002364</td>\n",
              "      <td>1</td>\n",
              "      <td>{'max_depth': 1}</td>\n",
              "      <td>0.835345</td>\n",
              "      <td>0.866331</td>\n",
              "      <td>0.847389</td>\n",
              "      <td>0.861068</td>\n",
              "      <td>0.867983</td>\n",
              "      <td>0.855623</td>\n",
              "      <td>0.012459</td>\n",
              "      <td>10</td>\n",
              "    </tr>\n",
              "  </tbody>\n",
              "</table>\n",
              "</div>\n",
              "      <button class=\"colab-df-convert\" onclick=\"convertToInteractive('df-add11011-2903-4493-a91f-9699d7b0e938')\"\n",
              "              title=\"Convert this dataframe to an interactive table.\"\n",
              "              style=\"display:none;\">\n",
              "        \n",
              "  <svg xmlns=\"http://www.w3.org/2000/svg\" height=\"24px\"viewBox=\"0 0 24 24\"\n",
              "       width=\"24px\">\n",
              "    <path d=\"M0 0h24v24H0V0z\" fill=\"none\"/>\n",
              "    <path d=\"M18.56 5.44l.94 2.06.94-2.06 2.06-.94-2.06-.94-.94-2.06-.94 2.06-2.06.94zm-11 1L8.5 8.5l.94-2.06 2.06-.94-2.06-.94L8.5 2.5l-.94 2.06-2.06.94zm10 10l.94 2.06.94-2.06 2.06-.94-2.06-.94-.94-2.06-.94 2.06-2.06.94z\"/><path d=\"M17.41 7.96l-1.37-1.37c-.4-.4-.92-.59-1.43-.59-.52 0-1.04.2-1.43.59L10.3 9.45l-7.72 7.72c-.78.78-.78 2.05 0 2.83L4 21.41c.39.39.9.59 1.41.59.51 0 1.02-.2 1.41-.59l7.78-7.78 2.81-2.81c.8-.78.8-2.07 0-2.86zM5.41 20L4 18.59l7.72-7.72 1.47 1.35L5.41 20z\"/>\n",
              "  </svg>\n",
              "      </button>\n",
              "      \n",
              "  <style>\n",
              "    .colab-df-container {\n",
              "      display:flex;\n",
              "      flex-wrap:wrap;\n",
              "      gap: 12px;\n",
              "    }\n",
              "\n",
              "    .colab-df-convert {\n",
              "      background-color: #E8F0FE;\n",
              "      border: none;\n",
              "      border-radius: 50%;\n",
              "      cursor: pointer;\n",
              "      display: none;\n",
              "      fill: #1967D2;\n",
              "      height: 32px;\n",
              "      padding: 0 0 0 0;\n",
              "      width: 32px;\n",
              "    }\n",
              "\n",
              "    .colab-df-convert:hover {\n",
              "      background-color: #E2EBFA;\n",
              "      box-shadow: 0px 1px 2px rgba(60, 64, 67, 0.3), 0px 1px 3px 1px rgba(60, 64, 67, 0.15);\n",
              "      fill: #174EA6;\n",
              "    }\n",
              "\n",
              "    [theme=dark] .colab-df-convert {\n",
              "      background-color: #3B4455;\n",
              "      fill: #D2E3FC;\n",
              "    }\n",
              "\n",
              "    [theme=dark] .colab-df-convert:hover {\n",
              "      background-color: #434B5C;\n",
              "      box-shadow: 0px 1px 3px 1px rgba(0, 0, 0, 0.15);\n",
              "      filter: drop-shadow(0px 1px 2px rgba(0, 0, 0, 0.3));\n",
              "      fill: #FFFFFF;\n",
              "    }\n",
              "  </style>\n",
              "\n",
              "      <script>\n",
              "        const buttonEl =\n",
              "          document.querySelector('#df-add11011-2903-4493-a91f-9699d7b0e938 button.colab-df-convert');\n",
              "        buttonEl.style.display =\n",
              "          google.colab.kernel.accessAllowed ? 'block' : 'none';\n",
              "\n",
              "        async function convertToInteractive(key) {\n",
              "          const element = document.querySelector('#df-add11011-2903-4493-a91f-9699d7b0e938');\n",
              "          const dataTable =\n",
              "            await google.colab.kernel.invokeFunction('convertToInteractive',\n",
              "                                                     [key], {});\n",
              "          if (!dataTable) return;\n",
              "\n",
              "          const docLinkHtml = 'Like what you see? Visit the ' +\n",
              "            '<a target=\"_blank\" href=https://colab.research.google.com/notebooks/data_table.ipynb>data table notebook</a>'\n",
              "            + ' to learn more about interactive tables.';\n",
              "          element.innerHTML = '';\n",
              "          dataTable['output_type'] = 'display_data';\n",
              "          await google.colab.output.renderOutput(dataTable, element);\n",
              "          const docLink = document.createElement('div');\n",
              "          docLink.innerHTML = docLinkHtml;\n",
              "          element.appendChild(docLink);\n",
              "        }\n",
              "      </script>\n",
              "    </div>\n",
              "  </div>\n",
              "  "
            ]
          },
          "metadata": {},
          "execution_count": 79
        }
      ]
    },
    {
      "cell_type": "markdown",
      "metadata": {
        "id": "YZOS6jx9rD80"
      },
      "source": [
        "Vamos realizar um GridSearch com uma Random Forest."
      ]
    },
    {
      "cell_type": "code",
      "metadata": {
        "id": "l2SKniNIqsDk"
      },
      "source": [
        "from sklearn.ensemble import RandomForestClassifier\n",
        "\n",
        "rf =  RandomForestClassifier()\n"
      ],
      "execution_count": 80,
      "outputs": []
    },
    {
      "cell_type": "code",
      "metadata": {
        "id": "T6z5TXbErgde"
      },
      "source": [
        "parameters = {'max_depth': [1, 2, 3, 4, 5, 6, 7, 8, 9, 10],\n",
        "              'n_estimators': [100, 300, 500]}\n",
        "\n",
        "grid_search = GridSearchCV(rf, parameters, scoring='roc_auc', cv=5, n_jobs=-1)"
      ],
      "execution_count": 81,
      "outputs": []
    },
    {
      "cell_type": "code",
      "metadata": {
        "id": "GwvBu1xur1nh",
        "outputId": "bc2eed12-66c6-4a83-cb0d-8820fe2601f2",
        "colab": {
          "base_uri": "https://localhost:8080/"
        }
      },
      "source": [
        "grid_search.fit(X_train, y_train)"
      ],
      "execution_count": 82,
      "outputs": [
        {
          "output_type": "stream",
          "name": "stderr",
          "text": [
            "/usr/local/lib/python3.7/dist-packages/sklearn/model_selection/_search.py:926: DataConversionWarning: A column-vector y was passed when a 1d array was expected. Please change the shape of y to (n_samples,), for example using ravel().\n",
            "  self.best_estimator_.fit(X, y, **fit_params)\n"
          ]
        },
        {
          "output_type": "execute_result",
          "data": {
            "text/plain": [
              "GridSearchCV(cv=5, estimator=RandomForestClassifier(), n_jobs=-1,\n",
              "             param_grid={'max_depth': [1, 2, 3, 4, 5, 6, 7, 8, 9, 10],\n",
              "                         'n_estimators': [100, 300, 500]},\n",
              "             scoring='roc_auc')"
            ]
          },
          "metadata": {},
          "execution_count": 82
        }
      ]
    },
    {
      "cell_type": "code",
      "metadata": {
        "id": "Hx-tbRNSr3Am",
        "outputId": "e0d0b5d4-dcdc-4808-d395-e8331b14c6a7",
        "colab": {
          "base_uri": "https://localhost:8080/",
          "height": 530
        }
      },
      "source": [
        "results = pd.DataFrame(grid_search.cv_results_)\n",
        "results.sort_values(by='rank_test_score').head()"
      ],
      "execution_count": 83,
      "outputs": [
        {
          "output_type": "execute_result",
          "data": {
            "text/plain": [
              "    mean_fit_time  std_fit_time  mean_score_time  std_score_time  \\\n",
              "28       1.314753      0.021169         0.094446        0.004915   \n",
              "22       1.330478      0.022246         0.098794        0.007701   \n",
              "23       2.179431      0.019702         0.149816        0.004626   \n",
              "25       1.316411      0.013005         0.096150        0.005095   \n",
              "26       2.207460      0.018059         0.149347        0.003941   \n",
              "\n",
              "   param_max_depth param_n_estimators                                  params  \\\n",
              "28              10                300  {'max_depth': 10, 'n_estimators': 300}   \n",
              "22               8                300   {'max_depth': 8, 'n_estimators': 300}   \n",
              "23               8                500   {'max_depth': 8, 'n_estimators': 500}   \n",
              "25               9                300   {'max_depth': 9, 'n_estimators': 300}   \n",
              "26               9                500   {'max_depth': 9, 'n_estimators': 500}   \n",
              "\n",
              "    split0_test_score  split1_test_score  split2_test_score  \\\n",
              "28           0.998037           0.997252           0.997880   \n",
              "22           0.997819           0.996749           0.997827   \n",
              "23           0.998001           0.996605           0.997880   \n",
              "25           0.998146           0.996515           0.997647   \n",
              "26           0.997910           0.996569           0.997216   \n",
              "\n",
              "    split3_test_score  split4_test_score  mean_test_score  std_test_score  \\\n",
              "28           0.999497           0.998060         0.998145        0.000737   \n",
              "22           0.998922           0.997862         0.997836        0.000687   \n",
              "23           0.999192           0.997359         0.997807        0.000849   \n",
              "25           0.999066           0.997521         0.997779        0.000833   \n",
              "26           0.999317           0.997827         0.997768        0.000913   \n",
              "\n",
              "    rank_test_score  \n",
              "28                1  \n",
              "22                2  \n",
              "23                3  \n",
              "25                4  \n",
              "26                5  "
            ],
            "text/html": [
              "\n",
              "  <div id=\"df-dadd2ea8-c02c-4cd4-8204-c1520c291997\">\n",
              "    <div class=\"colab-df-container\">\n",
              "      <div>\n",
              "<style scoped>\n",
              "    .dataframe tbody tr th:only-of-type {\n",
              "        vertical-align: middle;\n",
              "    }\n",
              "\n",
              "    .dataframe tbody tr th {\n",
              "        vertical-align: top;\n",
              "    }\n",
              "\n",
              "    .dataframe thead th {\n",
              "        text-align: right;\n",
              "    }\n",
              "</style>\n",
              "<table border=\"1\" class=\"dataframe\">\n",
              "  <thead>\n",
              "    <tr style=\"text-align: right;\">\n",
              "      <th></th>\n",
              "      <th>mean_fit_time</th>\n",
              "      <th>std_fit_time</th>\n",
              "      <th>mean_score_time</th>\n",
              "      <th>std_score_time</th>\n",
              "      <th>param_max_depth</th>\n",
              "      <th>param_n_estimators</th>\n",
              "      <th>params</th>\n",
              "      <th>split0_test_score</th>\n",
              "      <th>split1_test_score</th>\n",
              "      <th>split2_test_score</th>\n",
              "      <th>split3_test_score</th>\n",
              "      <th>split4_test_score</th>\n",
              "      <th>mean_test_score</th>\n",
              "      <th>std_test_score</th>\n",
              "      <th>rank_test_score</th>\n",
              "    </tr>\n",
              "  </thead>\n",
              "  <tbody>\n",
              "    <tr>\n",
              "      <th>28</th>\n",
              "      <td>1.314753</td>\n",
              "      <td>0.021169</td>\n",
              "      <td>0.094446</td>\n",
              "      <td>0.004915</td>\n",
              "      <td>10</td>\n",
              "      <td>300</td>\n",
              "      <td>{'max_depth': 10, 'n_estimators': 300}</td>\n",
              "      <td>0.998037</td>\n",
              "      <td>0.997252</td>\n",
              "      <td>0.997880</td>\n",
              "      <td>0.999497</td>\n",
              "      <td>0.998060</td>\n",
              "      <td>0.998145</td>\n",
              "      <td>0.000737</td>\n",
              "      <td>1</td>\n",
              "    </tr>\n",
              "    <tr>\n",
              "      <th>22</th>\n",
              "      <td>1.330478</td>\n",
              "      <td>0.022246</td>\n",
              "      <td>0.098794</td>\n",
              "      <td>0.007701</td>\n",
              "      <td>8</td>\n",
              "      <td>300</td>\n",
              "      <td>{'max_depth': 8, 'n_estimators': 300}</td>\n",
              "      <td>0.997819</td>\n",
              "      <td>0.996749</td>\n",
              "      <td>0.997827</td>\n",
              "      <td>0.998922</td>\n",
              "      <td>0.997862</td>\n",
              "      <td>0.997836</td>\n",
              "      <td>0.000687</td>\n",
              "      <td>2</td>\n",
              "    </tr>\n",
              "    <tr>\n",
              "      <th>23</th>\n",
              "      <td>2.179431</td>\n",
              "      <td>0.019702</td>\n",
              "      <td>0.149816</td>\n",
              "      <td>0.004626</td>\n",
              "      <td>8</td>\n",
              "      <td>500</td>\n",
              "      <td>{'max_depth': 8, 'n_estimators': 500}</td>\n",
              "      <td>0.998001</td>\n",
              "      <td>0.996605</td>\n",
              "      <td>0.997880</td>\n",
              "      <td>0.999192</td>\n",
              "      <td>0.997359</td>\n",
              "      <td>0.997807</td>\n",
              "      <td>0.000849</td>\n",
              "      <td>3</td>\n",
              "    </tr>\n",
              "    <tr>\n",
              "      <th>25</th>\n",
              "      <td>1.316411</td>\n",
              "      <td>0.013005</td>\n",
              "      <td>0.096150</td>\n",
              "      <td>0.005095</td>\n",
              "      <td>9</td>\n",
              "      <td>300</td>\n",
              "      <td>{'max_depth': 9, 'n_estimators': 300}</td>\n",
              "      <td>0.998146</td>\n",
              "      <td>0.996515</td>\n",
              "      <td>0.997647</td>\n",
              "      <td>0.999066</td>\n",
              "      <td>0.997521</td>\n",
              "      <td>0.997779</td>\n",
              "      <td>0.000833</td>\n",
              "      <td>4</td>\n",
              "    </tr>\n",
              "    <tr>\n",
              "      <th>26</th>\n",
              "      <td>2.207460</td>\n",
              "      <td>0.018059</td>\n",
              "      <td>0.149347</td>\n",
              "      <td>0.003941</td>\n",
              "      <td>9</td>\n",
              "      <td>500</td>\n",
              "      <td>{'max_depth': 9, 'n_estimators': 500}</td>\n",
              "      <td>0.997910</td>\n",
              "      <td>0.996569</td>\n",
              "      <td>0.997216</td>\n",
              "      <td>0.999317</td>\n",
              "      <td>0.997827</td>\n",
              "      <td>0.997768</td>\n",
              "      <td>0.000913</td>\n",
              "      <td>5</td>\n",
              "    </tr>\n",
              "  </tbody>\n",
              "</table>\n",
              "</div>\n",
              "      <button class=\"colab-df-convert\" onclick=\"convertToInteractive('df-dadd2ea8-c02c-4cd4-8204-c1520c291997')\"\n",
              "              title=\"Convert this dataframe to an interactive table.\"\n",
              "              style=\"display:none;\">\n",
              "        \n",
              "  <svg xmlns=\"http://www.w3.org/2000/svg\" height=\"24px\"viewBox=\"0 0 24 24\"\n",
              "       width=\"24px\">\n",
              "    <path d=\"M0 0h24v24H0V0z\" fill=\"none\"/>\n",
              "    <path d=\"M18.56 5.44l.94 2.06.94-2.06 2.06-.94-2.06-.94-.94-2.06-.94 2.06-2.06.94zm-11 1L8.5 8.5l.94-2.06 2.06-.94-2.06-.94L8.5 2.5l-.94 2.06-2.06.94zm10 10l.94 2.06.94-2.06 2.06-.94-2.06-.94-.94-2.06-.94 2.06-2.06.94z\"/><path d=\"M17.41 7.96l-1.37-1.37c-.4-.4-.92-.59-1.43-.59-.52 0-1.04.2-1.43.59L10.3 9.45l-7.72 7.72c-.78.78-.78 2.05 0 2.83L4 21.41c.39.39.9.59 1.41.59.51 0 1.02-.2 1.41-.59l7.78-7.78 2.81-2.81c.8-.78.8-2.07 0-2.86zM5.41 20L4 18.59l7.72-7.72 1.47 1.35L5.41 20z\"/>\n",
              "  </svg>\n",
              "      </button>\n",
              "      \n",
              "  <style>\n",
              "    .colab-df-container {\n",
              "      display:flex;\n",
              "      flex-wrap:wrap;\n",
              "      gap: 12px;\n",
              "    }\n",
              "\n",
              "    .colab-df-convert {\n",
              "      background-color: #E8F0FE;\n",
              "      border: none;\n",
              "      border-radius: 50%;\n",
              "      cursor: pointer;\n",
              "      display: none;\n",
              "      fill: #1967D2;\n",
              "      height: 32px;\n",
              "      padding: 0 0 0 0;\n",
              "      width: 32px;\n",
              "    }\n",
              "\n",
              "    .colab-df-convert:hover {\n",
              "      background-color: #E2EBFA;\n",
              "      box-shadow: 0px 1px 2px rgba(60, 64, 67, 0.3), 0px 1px 3px 1px rgba(60, 64, 67, 0.15);\n",
              "      fill: #174EA6;\n",
              "    }\n",
              "\n",
              "    [theme=dark] .colab-df-convert {\n",
              "      background-color: #3B4455;\n",
              "      fill: #D2E3FC;\n",
              "    }\n",
              "\n",
              "    [theme=dark] .colab-df-convert:hover {\n",
              "      background-color: #434B5C;\n",
              "      box-shadow: 0px 1px 3px 1px rgba(0, 0, 0, 0.15);\n",
              "      filter: drop-shadow(0px 1px 2px rgba(0, 0, 0, 0.3));\n",
              "      fill: #FFFFFF;\n",
              "    }\n",
              "  </style>\n",
              "\n",
              "      <script>\n",
              "        const buttonEl =\n",
              "          document.querySelector('#df-dadd2ea8-c02c-4cd4-8204-c1520c291997 button.colab-df-convert');\n",
              "        buttonEl.style.display =\n",
              "          google.colab.kernel.accessAllowed ? 'block' : 'none';\n",
              "\n",
              "        async function convertToInteractive(key) {\n",
              "          const element = document.querySelector('#df-dadd2ea8-c02c-4cd4-8204-c1520c291997');\n",
              "          const dataTable =\n",
              "            await google.colab.kernel.invokeFunction('convertToInteractive',\n",
              "                                                     [key], {});\n",
              "          if (!dataTable) return;\n",
              "\n",
              "          const docLinkHtml = 'Like what you see? Visit the ' +\n",
              "            '<a target=\"_blank\" href=https://colab.research.google.com/notebooks/data_table.ipynb>data table notebook</a>'\n",
              "            + ' to learn more about interactive tables.';\n",
              "          element.innerHTML = '';\n",
              "          dataTable['output_type'] = 'display_data';\n",
              "          await google.colab.output.renderOutput(dataTable, element);\n",
              "          const docLink = document.createElement('div');\n",
              "          docLink.innerHTML = docLinkHtml;\n",
              "          element.appendChild(docLink);\n",
              "        }\n",
              "      </script>\n",
              "    </div>\n",
              "  </div>\n",
              "  "
            ]
          },
          "metadata": {},
          "execution_count": 83
        }
      ]
    },
    {
      "cell_type": "code",
      "metadata": {
        "id": "kSwuj284sfZJ",
        "outputId": "66b1c17a-62ac-42e8-f76f-50d30afb3468",
        "colab": {
          "base_uri": "https://localhost:8080/"
        }
      },
      "source": [
        "grid_search.best_estimator_.get_params()"
      ],
      "execution_count": 84,
      "outputs": [
        {
          "output_type": "execute_result",
          "data": {
            "text/plain": [
              "{'bootstrap': True,\n",
              " 'ccp_alpha': 0.0,\n",
              " 'class_weight': None,\n",
              " 'criterion': 'gini',\n",
              " 'max_depth': 10,\n",
              " 'max_features': 'auto',\n",
              " 'max_leaf_nodes': None,\n",
              " 'max_samples': None,\n",
              " 'min_impurity_decrease': 0.0,\n",
              " 'min_samples_leaf': 1,\n",
              " 'min_samples_split': 2,\n",
              " 'min_weight_fraction_leaf': 0.0,\n",
              " 'n_estimators': 300,\n",
              " 'n_jobs': None,\n",
              " 'oob_score': False,\n",
              " 'random_state': None,\n",
              " 'verbose': 0,\n",
              " 'warm_start': False}"
            ]
          },
          "metadata": {},
          "execution_count": 84
        }
      ]
    },
    {
      "cell_type": "code",
      "source": [
        "rf =  RandomForestClassifier(bootstrap = True,\n",
        " ccp_alpha= 0.0,\n",
        " class_weight= None,\n",
        " criterion= 'gini',\n",
        " max_depth = 9,\n",
        " max_features= 'auto',\n",
        " max_leaf_nodes = None,\n",
        " max_samples = None,\n",
        " min_impurity_decrease = 0.0,\n",
        " min_samples_leaf = 1,\n",
        " min_samples_split = 2,\n",
        " min_weight_fraction_leaf = 0.0,\n",
        " n_estimators = 500,\n",
        " n_jobs = None,\n",
        " oob_score = False,\n",
        " random_state = None,\n",
        " verbose = 0,\n",
        " warm_start = False)"
      ],
      "metadata": {
        "id": "xywObGqIgzKG"
      },
      "execution_count": 85,
      "outputs": []
    },
    {
      "cell_type": "code",
      "source": [
        "rf.fit(X_train, y_train)"
      ],
      "metadata": {
        "colab": {
          "base_uri": "https://localhost:8080/"
        },
        "id": "GMRiI-7chWQT",
        "outputId": "3973368c-dab4-4d5f-b3b7-c3841b43b034"
      },
      "execution_count": 86,
      "outputs": [
        {
          "output_type": "stream",
          "name": "stderr",
          "text": [
            "/usr/local/lib/python3.7/dist-packages/ipykernel_launcher.py:1: DataConversionWarning: A column-vector y was passed when a 1d array was expected. Please change the shape of y to (n_samples,), for example using ravel().\n",
            "  \"\"\"Entry point for launching an IPython kernel.\n"
          ]
        },
        {
          "output_type": "execute_result",
          "data": {
            "text/plain": [
              "RandomForestClassifier(max_depth=9, n_estimators=500)"
            ]
          },
          "metadata": {},
          "execution_count": 86
        }
      ]
    },
    {
      "cell_type": "code",
      "source": [
        "from sklearn.metrics import accuracy_score, balanced_accuracy_score, precision_score, recall_score, f1_score, roc_auc_score\n",
        "\n",
        "print(f\"Acurácia (Treino): {accuracy_score(y_train, rf.predict(X_train))}\")\n",
        "print(f\"Acurácia (Teste): {accuracy_score(y_test, rf.predict(X_test))}\")\n",
        "print(\"====================================\")\n",
        "print(f\"Acurácia Balanceada (Treino): {balanced_accuracy_score(y_train, rf.predict(X_train))}\")\n",
        "print(f\"Acurácia Balanceada (Teste): {balanced_accuracy_score(y_test, rf.predict(X_test))}\")\n",
        "print(\"====================================\")\n",
        "print(f\"Precision (Treino): {precision_score(y_train, rf.predict(X_train))}\")\n",
        "print(f\"Precision (Teste): {precision_score(y_test, rf.predict(X_test))}\")\n",
        "print(\"====================================\")\n",
        "print(f\"Recall (Treino): {recall_score(y_train, rf.predict(X_train))}\")\n",
        "print(f\"Recall (Teste): {recall_score(y_test, rf.predict(X_test))}\")\n",
        "print(\"====================================\")\n",
        "print(f\"F1-Score (Treino): {f1_score(y_train, rf.predict(X_train))}\")\n",
        "print(f\"F1-Score (Teste): {f1_score(y_test, rf.predict(X_test))}\")\n",
        "print(\"====================================\")\n",
        "print(f\"ROCAUC (Treino): {roc_auc_score(y_train, rf.predict_proba(X_train)[:,1])}\")\n",
        "print(f\"ROCAUC (Teste): {roc_auc_score(y_test, rf.predict_proba(X_test)[:,1])}\")"
      ],
      "metadata": {
        "colab": {
          "base_uri": "https://localhost:8080/"
        },
        "id": "EYXluOQphz4h",
        "outputId": "93d0a2ac-7741-48ef-ddb4-4f9665ba64f4"
      },
      "execution_count": 87,
      "outputs": [
        {
          "output_type": "stream",
          "name": "stdout",
          "text": [
            "Acurácia (Treino): 0.99725\n",
            "Acurácia (Teste): 0.979\n",
            "====================================\n",
            "Acurácia Balanceada (Treino): 0.9856770833333333\n",
            "Acurácia Balanceada (Teste): 0.9092459439528023\n",
            "====================================\n",
            "Precision (Treino): 1.0\n",
            "Precision (Teste): 0.9518072289156626\n",
            "====================================\n",
            "Recall (Treino): 0.9713541666666666\n",
            "Recall (Teste): 0.8229166666666666\n",
            "====================================\n",
            "F1-Score (Treino): 0.9854689564068693\n",
            "F1-Score (Teste): 0.88268156424581\n",
            "====================================\n",
            "ROCAUC (Treino): 0.9999963991058259\n",
            "ROCAUC (Teste): 0.9931093289085545\n"
          ]
        }
      ]
    },
    {
      "cell_type": "code",
      "source": [],
      "metadata": {
        "id": "qCKiLDXvpVud"
      },
      "execution_count": 93,
      "outputs": []
    }
  ]
}