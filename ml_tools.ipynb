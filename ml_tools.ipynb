{
  "cells": [
    {
      "cell_type": "markdown",
      "metadata": {
        "id": "5HgHkKtej4rs"
      },
      "source": [
        "[![Open In Colab](https://colab.research.google.com/assets/colab-badge.svg)](https://colab.research.google.com/github/juansensio/blog/blob/master/085_ml_tools/085_ml_tools.ipynb)"
      ]
    },
    {
      "cell_type": "markdown",
      "metadata": {
        "id": "mrG3q3xJj4r4"
      },
      "source": [
        "# Librerías de Python para ML"
      ]
    },
    {
      "cell_type": "markdown",
      "metadata": {
        "id": "JTn4h7SIj4r6"
      },
      "source": [
        "En el post anterior arrancamos con la serie sobre `Machine Learning`, en la que veremos múltiples algoritmos desarrollados durante las últimas décadas y que podemos usar como alternativa a las `redes neuronales` (*deep learning*), en algunos casos obteniendo mejores resultados (sobretodo en aquellos casos en los que no dispongamos de un dataset grande). Sin embargo, antes de entrar con los algoritmos y aplicaciones, vamos a hablar sobre el ecosistema de librerías existentes en `Python` para el `Machine Learning`, haciendo hincapié en aquellas más usadas por la comunidad y que también utilizaremos en esta serie.\n",
        "\n",
        "![](https://github.com/juansensio/blog/blob/master/085_ml_tools/tools.png?raw=1)\n",
        "\n",
        "En la imagen anterior puedes ver un resumen de las herramientas más usadas a día de hoy para `Machine Learning` con `Python`. Las herramientas rodeadas por un círculo rojo son las que usaremos en esta serie, en verde son herramientas para `deep learning` que no usaremos (pero hemos usado en otros posts). Las herramientas sin círculo no las usaremos, pero vale la pena conocerlas ya que pueden serte útiles para algunas aplicaciones.\n",
        "\n",
        "En la base podemos encontrar `Python`, el lenguaje de programación base que todas las herramientas utilizan. Por encima encontramos herramientas como `Numpy`, para cálculo numérico, o `Jupyter`, para ejecutar nuestro código en `notebooks`. Por encima vemos herramientas basadas en `Numpy` como `Pandas`, para trabajar con datos tabulares, y `Matplotlib`, para generar gráficos en `Python`. Finalmente, en la última capa, encontramos `Scikit-Learn`, una de las librerías más utilizadas hoy en día para entrenar modelos de `Machine Learning`.\n",
        "\n",
        "> En este blog ya hemos dedicado posts a todas estas librerías, excepto a `Scikit-Learn`. Te recomiendo especialmente, si no conoces estas librerías, mi curso gratuito de [Análisis de Datos](https://juansensio.com/da-yt) en las que aprenderas sobre ellas."
      ]
    },
    {
      "cell_type": "markdown",
      "metadata": {
        "id": "LgPswYpuj4r_"
      },
      "source": [
        "## Scikit-Learn"
      ]
    },
    {
      "cell_type": "markdown",
      "metadata": {
        "id": "Oe_DtfB1j4sB"
      },
      "source": [
        "El resto de este post lo vamos a dedicar a introducir los conceptos más importantes de [Scikit-Learn](https://scikit-learn.org/stable/), y que desarrollaremos durante la serie. Puedes empezar por instalar la librería\n",
        "\n",
        "```\n",
        "pip install scikit-learn\n",
        "```\n",
        "\n",
        "Y seguir echando un vistazo a la [documentación](https://scikit-learn.org/stable/getting_started.html) y [ejemplos](https://scikit-learn.org/stable/auto_examples/index.html).\n",
        "\n",
        "En cualquier proyecto de `Machine Learning` deberemos seguir una serie de pasos, los cuales describiremos al final de la serie. En lo referente al entrenamiento de modelos, normalmente encontramos tres pasos:\n",
        "\n",
        "1. Preparar los datos\n",
        "2. Entrenar modelos\n",
        "3. Optimizar hyperparámetros\n",
        "\n",
        "Existen otros pasos igual o más de importantes, pero (repito) los veremos más adelante ya que no involucran el uso de `Scikit-Learn`."
      ]
    },
    {
      "cell_type": "markdown",
      "metadata": {
        "id": "7gOU4RZxj4sC"
      },
      "source": [
        "## Preparando los datos"
      ]
    },
    {
      "cell_type": "markdown",
      "metadata": {
        "id": "UcDgK-5dj4sD"
      },
      "source": [
        "Para este ejemplo vamos a utilizar un dataset para predicción de precios de casas."
      ]
    },
    {
      "cell_type": "code",
      "execution_count": null,
      "metadata": {
        "ExecuteTime": {
          "end_time": "2022-01-29T13:07:05.956876Z",
          "start_time": "2022-01-29T13:07:05.907976Z"
        },
        "id": "PzPoJXGaj4sF"
      },
      "outputs": [],
      "source": [
        "import requests\n",
        "import tarfile\n",
        "\n",
        "URL = \"https://mymldatasets.s3.eu-de.cloud-object-storage.appdomain.cloud/housing.tgz\"\n",
        "PATH = \"housing.tgz\"\n",
        "\n",
        "def getData(url=URL, path=PATH):\n",
        "  r = requests.get(url)\n",
        "  with open(path, 'wb') as f:\n",
        "    f.write(r.content)\n",
        "  housing_tgz = tarfile.open(path)\n",
        "  housing_tgz.extractall()\n",
        "  housing_tgz.close()"
      ]
    },
    {
      "cell_type": "code",
      "execution_count": null,
      "metadata": {
        "ExecuteTime": {
          "end_time": "2022-01-29T13:07:07.939085Z",
          "start_time": "2022-01-29T13:07:06.437292Z"
        },
        "id": "VNXRpx2Aj4sJ"
      },
      "outputs": [],
      "source": [
        "getData()"
      ]
    },
    {
      "cell_type": "code",
      "execution_count": null,
      "metadata": {
        "ExecuteTime": {
          "end_time": "2022-01-29T13:07:08.152252Z",
          "start_time": "2022-01-29T13:07:07.941415Z"
        },
        "id": "a8kRvsTLj4sR",
        "outputId": "650ab7e3-ca05-4bf8-ee24-34f50b0d0831"
      },
      "outputs": [
        {
          "data": {
            "text/html": [
              "<div>\n",
              "<style scoped>\n",
              "    .dataframe tbody tr th:only-of-type {\n",
              "        vertical-align: middle;\n",
              "    }\n",
              "\n",
              "    .dataframe tbody tr th {\n",
              "        vertical-align: top;\n",
              "    }\n",
              "\n",
              "    .dataframe thead th {\n",
              "        text-align: right;\n",
              "    }\n",
              "</style>\n",
              "<table border=\"1\" class=\"dataframe\">\n",
              "  <thead>\n",
              "    <tr style=\"text-align: right;\">\n",
              "      <th></th>\n",
              "      <th>longitude</th>\n",
              "      <th>latitude</th>\n",
              "      <th>housing_median_age</th>\n",
              "      <th>total_rooms</th>\n",
              "      <th>total_bedrooms</th>\n",
              "      <th>population</th>\n",
              "      <th>households</th>\n",
              "      <th>median_income</th>\n",
              "      <th>median_house_value</th>\n",
              "      <th>ocean_proximity</th>\n",
              "    </tr>\n",
              "  </thead>\n",
              "  <tbody>\n",
              "    <tr>\n",
              "      <th>0</th>\n",
              "      <td>-122.23</td>\n",
              "      <td>37.88</td>\n",
              "      <td>41.0</td>\n",
              "      <td>880.0</td>\n",
              "      <td>129.0</td>\n",
              "      <td>322.0</td>\n",
              "      <td>126.0</td>\n",
              "      <td>8.3252</td>\n",
              "      <td>452600.0</td>\n",
              "      <td>NEAR BAY</td>\n",
              "    </tr>\n",
              "    <tr>\n",
              "      <th>1</th>\n",
              "      <td>-122.22</td>\n",
              "      <td>37.86</td>\n",
              "      <td>21.0</td>\n",
              "      <td>7099.0</td>\n",
              "      <td>1106.0</td>\n",
              "      <td>2401.0</td>\n",
              "      <td>1138.0</td>\n",
              "      <td>8.3014</td>\n",
              "      <td>358500.0</td>\n",
              "      <td>NEAR BAY</td>\n",
              "    </tr>\n",
              "    <tr>\n",
              "      <th>2</th>\n",
              "      <td>-122.24</td>\n",
              "      <td>37.85</td>\n",
              "      <td>52.0</td>\n",
              "      <td>1467.0</td>\n",
              "      <td>190.0</td>\n",
              "      <td>496.0</td>\n",
              "      <td>177.0</td>\n",
              "      <td>7.2574</td>\n",
              "      <td>352100.0</td>\n",
              "      <td>NEAR BAY</td>\n",
              "    </tr>\n",
              "    <tr>\n",
              "      <th>3</th>\n",
              "      <td>-122.25</td>\n",
              "      <td>37.85</td>\n",
              "      <td>52.0</td>\n",
              "      <td>1274.0</td>\n",
              "      <td>235.0</td>\n",
              "      <td>558.0</td>\n",
              "      <td>219.0</td>\n",
              "      <td>5.6431</td>\n",
              "      <td>341300.0</td>\n",
              "      <td>NEAR BAY</td>\n",
              "    </tr>\n",
              "    <tr>\n",
              "      <th>4</th>\n",
              "      <td>-122.25</td>\n",
              "      <td>37.85</td>\n",
              "      <td>52.0</td>\n",
              "      <td>1627.0</td>\n",
              "      <td>280.0</td>\n",
              "      <td>565.0</td>\n",
              "      <td>259.0</td>\n",
              "      <td>3.8462</td>\n",
              "      <td>342200.0</td>\n",
              "      <td>NEAR BAY</td>\n",
              "    </tr>\n",
              "  </tbody>\n",
              "</table>\n",
              "</div>"
            ],
            "text/plain": [
              "   longitude  latitude  housing_median_age  total_rooms  total_bedrooms  \\\n",
              "0    -122.23     37.88                41.0        880.0           129.0   \n",
              "1    -122.22     37.86                21.0       7099.0          1106.0   \n",
              "2    -122.24     37.85                52.0       1467.0           190.0   \n",
              "3    -122.25     37.85                52.0       1274.0           235.0   \n",
              "4    -122.25     37.85                52.0       1627.0           280.0   \n",
              "\n",
              "   population  households  median_income  median_house_value ocean_proximity  \n",
              "0       322.0       126.0         8.3252            452600.0        NEAR BAY  \n",
              "1      2401.0      1138.0         8.3014            358500.0        NEAR BAY  \n",
              "2       496.0       177.0         7.2574            352100.0        NEAR BAY  \n",
              "3       558.0       219.0         5.6431            341300.0        NEAR BAY  \n",
              "4       565.0       259.0         3.8462            342200.0        NEAR BAY  "
            ]
          },
          "execution_count": 3,
          "metadata": {},
          "output_type": "execute_result"
        }
      ],
      "source": [
        "import pandas as pd\n",
        "\n",
        "data = pd.read_csv('housing.csv')\n",
        "data.head()"
      ]
    },
    {
      "cell_type": "markdown",
      "metadata": {
        "id": "l0I3ISyej4sV"
      },
      "source": [
        "Nuestro objetivo será el de predecir la variable `median_house_value` a partir del resto."
      ]
    },
    {
      "cell_type": "code",
      "execution_count": null,
      "metadata": {
        "ExecuteTime": {
          "end_time": "2022-01-29T13:07:08.648107Z",
          "start_time": "2022-01-29T13:07:08.636745Z"
        },
        "id": "n9nKyNtlj4sV",
        "outputId": "bfd92dca-26c4-4fd8-8b3c-3bad2e5d3522"
      },
      "outputs": [
        {
          "name": "stdout",
          "output_type": "stream",
          "text": [
            "<class 'pandas.core.frame.DataFrame'>\n",
            "RangeIndex: 20640 entries, 0 to 20639\n",
            "Data columns (total 10 columns):\n",
            " #   Column              Non-Null Count  Dtype  \n",
            "---  ------              --------------  -----  \n",
            " 0   longitude           20640 non-null  float64\n",
            " 1   latitude            20640 non-null  float64\n",
            " 2   housing_median_age  20640 non-null  float64\n",
            " 3   total_rooms         20640 non-null  float64\n",
            " 4   total_bedrooms      20433 non-null  float64\n",
            " 5   population          20640 non-null  float64\n",
            " 6   households          20640 non-null  float64\n",
            " 7   median_income       20640 non-null  float64\n",
            " 8   median_house_value  20640 non-null  float64\n",
            " 9   ocean_proximity     20640 non-null  object \n",
            "dtypes: float64(9), object(1)\n",
            "memory usage: 1.6+ MB\n"
          ]
        }
      ],
      "source": [
        "data.info()"
      ]
    },
    {
      "cell_type": "code",
      "execution_count": null,
      "metadata": {
        "ExecuteTime": {
          "end_time": "2022-01-29T13:07:09.370221Z",
          "start_time": "2022-01-29T13:07:09.362186Z"
        },
        "id": "XF18x4hjj4sW",
        "outputId": "d352a4da-08ff-4fb0-c421-1ddd6a70fe44"
      },
      "outputs": [
        {
          "data": {
            "text/plain": [
              "<1H OCEAN     9136\n",
              "INLAND        6551\n",
              "NEAR OCEAN    2658\n",
              "NEAR BAY      2290\n",
              "ISLAND           5\n",
              "Name: ocean_proximity, dtype: int64"
            ]
          },
          "execution_count": 5,
          "metadata": {},
          "output_type": "execute_result"
        }
      ],
      "source": [
        "data['ocean_proximity'].value_counts()"
      ]
    },
    {
      "cell_type": "markdown",
      "metadata": {
        "id": "wTHAdrjZj4sX"
      },
      "source": [
        "Como puedes observar tenemos variables continuas, categóricas y algunos *missing values*. Vamos a ver como podemos tratar estos aspectos con `Scikit-Learn`, aunque primero separaremos unas cuantas muestras para entrenar y el resto para evaluar nuestros modelos. Para ello vamos a utilizar la que es la funcionalidad probablemente más utilizada de la librería:"
      ]
    },
    {
      "cell_type": "code",
      "execution_count": null,
      "metadata": {
        "ExecuteTime": {
          "end_time": "2022-01-29T13:07:10.257328Z",
          "start_time": "2022-01-29T13:07:10.018430Z"
        },
        "id": "1AQKb0-Dj4sY",
        "outputId": "937085bd-7b1f-44e0-e45f-da7bb41257dc"
      },
      "outputs": [
        {
          "data": {
            "text/plain": [
              "(20640, 16512, 4128)"
            ]
          },
          "execution_count": 6,
          "metadata": {},
          "output_type": "execute_result"
        }
      ],
      "source": [
        "from sklearn.model_selection import train_test_split\n",
        "\n",
        "train, test = train_test_split(data, test_size=0.2) # 20% de los datos para test, 80% para entrenamiento\n",
        "\n",
        "len(data), len(train), len(test)"
      ]
    },
    {
      "cell_type": "code",
      "execution_count": null,
      "metadata": {
        "ExecuteTime": {
          "end_time": "2022-01-29T13:07:13.661883Z",
          "start_time": "2022-01-29T13:07:13.414968Z"
        },
        "id": "ysGEx23lj4sY",
        "outputId": "2036d3dd-0544-4c0e-8036-3604b99f7e0e"
      },
      "outputs": [
        {
          "data": {
            "image/png": "[encoded data removed]",
            "text/plain": [
              "<Figure size 1080x288 with 3 Axes>"
            ]
          },
          "metadata": {
            "needs_background": "light"
          },
          "output_type": "display_data"
        }
      ],
      "source": [
        "import matplotlib.pyplot as plt\n",
        "\n",
        "fig = plt.figure(figsize=(15,4))\n",
        "ax = plt.subplot(1, 3, 1)\n",
        "train, test = train_test_split(data, test_size=0.2)\n",
        "ax.hist(data['ocean_proximity'], bins=len(data['ocean_proximity'].value_counts()))\n",
        "ax.hist(train['ocean_proximity'], bins=len(data['ocean_proximity'].value_counts()))\n",
        "ax.hist(test['ocean_proximity'], bins=len(data['ocean_proximity'].value_counts()))\n",
        "ax = plt.subplot(1, 3, 2)\n",
        "train, test = train_test_split(data, test_size=0.2, random_state=42) # siempre tendremos el mismo resultado\n",
        "ax.hist(data['ocean_proximity'], bins=len(data['ocean_proximity'].value_counts()))\n",
        "ax.hist(train['ocean_proximity'], bins=len(data['ocean_proximity'].value_counts()))\n",
        "ax.hist(test['ocean_proximity'], bins=len(data['ocean_proximity'].value_counts()))\n",
        "ax = plt.subplot(1, 3, 3)\n",
        "train, test = train_test_split(data, test_size=0.2, random_state=69, stratify=data['ocean_proximity']) # balancear\n",
        "ax.hist(data['ocean_proximity'], bins=len(data['ocean_proximity'].value_counts()))\n",
        "ax.hist(train['ocean_proximity'], bins=len(data['ocean_proximity'].value_counts()))\n",
        "ax.hist(test['ocean_proximity'], bins=len(data['ocean_proximity'].value_counts()))\n",
        "plt.tight_layout()\n",
        "plt.show()"
      ]
    },
    {
      "cell_type": "code",
      "execution_count": null,
      "metadata": {
        "id": "HlgY9EUej4sZ"
      },
      "outputs": [],
      "source": [
        "train.to_csv('train.csv', index=False)\n",
        "test.to_csv('test.csv', index=False)"
      ]
    },
    {
      "cell_type": "markdown",
      "metadata": {
        "id": "w4cSK1-mj4sZ"
      },
      "source": [
        "Para tratar los *missing values* podemos usar un `Imputer`, que puede ser tan sencillo como cambiar los valores inexistentes por el valor promedio de la columna o un valor fijo hasta el uso de algoritmos más complejos que puedes encontrar en la documentación. En este caso solo tenemos una columna con *missing values* (`total_rooms`) de tipo numérico, pero si también tuviésemos *missing values* en variables categóricas deberíamos separarlas ya que querremos usar estrategias diferentes. De hecho, es buena idea separar variables numéricas de categóricas ya que las trataremos de diferente manera."
      ]
    },
    {
      "cell_type": "code",
      "execution_count": null,
      "metadata": {
        "id": "MVzp-Fbvj4sa"
      },
      "outputs": [],
      "source": [
        "train_data, y_train = train.drop(['median_house_value'], axis=1), train['median_house_value'].copy()\n",
        "test_data, y_test = test.drop(['median_house_value'], axis=1), test['median_house_value'].copy()\n",
        "\n",
        "train_num = train_data.drop(['ocean_proximity'], axis=1)\n",
        "train_cat = train_data[['ocean_proximity']]"
      ]
    },
    {
      "cell_type": "code",
      "execution_count": null,
      "metadata": {
        "id": "uaqwOd3zj4sb",
        "outputId": "6bcb555a-42b9-4a1a-db10-319769927f53"
      },
      "outputs": [
        {
          "data": {
            "text/plain": [
              "array([-118.5    ,   34.26   ,   29.     , 2127.     ,  434.     ,\n",
              "       1167.5    ,  409.     ,    3.54025])"
            ]
          },
          "execution_count": 76,
          "metadata": {},
          "output_type": "execute_result"
        }
      ],
      "source": [
        "from sklearn.impute import SimpleImputer\n",
        "\n",
        "imputer = SimpleImputer(strategy=\"median\") # definir imputer\n",
        "imputer.fit(train_num) # calcular mediana\n",
        "imputer.statistics_ # valores calculado"
      ]
    },
    {
      "cell_type": "code",
      "execution_count": null,
      "metadata": {
        "id": "PVZFsDiEj4sb",
        "outputId": "4ed378ba-81f8-47dd-d0c0-3100024a923f"
      },
      "outputs": [
        {
          "data": {
            "text/plain": [
              "array([[-1.1764e+02,  3.4040e+01,  2.1000e+01, ...,  2.5560e+03,\n",
              "         4.8400e+02,  2.4716e+00],\n",
              "       [-1.1925e+02,  3.4270e+01,  4.6000e+01, ...,  3.8200e+02,\n",
              "         1.4300e+02,  3.5000e+00],\n",
              "       [-1.1833e+02,  3.3930e+01,  3.8000e+01, ...,  4.1200e+02,\n",
              "         1.1900e+02,  6.0718e+00],\n",
              "       ...,\n",
              "       [-1.1897e+02,  3.5380e+01,  4.2000e+01, ...,  1.0380e+03,\n",
              "         2.9900e+02,  9.9510e-01],\n",
              "       [-1.1934e+02,  3.4390e+01,  2.7000e+01, ...,  3.1400e+02,\n",
              "         1.0600e+02,  2.4659e+00],\n",
              "       [-1.2232e+02,  3.7570e+01,  4.2000e+01, ...,  2.3770e+03,\n",
              "         5.8800e+02,  3.2891e+00]])"
            ]
          },
          "execution_count": 77,
          "metadata": {},
          "output_type": "execute_result"
        }
      ],
      "source": [
        "X_train_num = imputer.transform(train_num) # cambiar valores inexistentes por la mediana\n",
        "\n",
        "X_train_num"
      ]
    },
    {
      "cell_type": "markdown",
      "metadata": {
        "id": "eIlxyp2yj4sc"
      },
      "source": [
        "Aquí observamos el primer patrón que se repetirá constantemente al trabajar con `Scikit-Learn`, y es el uso de las funciones `fit` y `transform`. La primera la usaremos para calcular todo lo necesario para usar una clase (ya sea un imputer o un modelo) y, en el caso de objetos para procesado de datos, usaremos el `transform` para generar un array de `Numpy` listo para entrenar modelos, llevando a cabo todo el procesado necesario. Otro procesado muy común, que ayuda a algunos modelos a aprender mejor, es el escalado de los datos.\n"
      ]
    },
    {
      "cell_type": "code",
      "execution_count": null,
      "metadata": {
        "id": "qxvsphwxj4sc",
        "outputId": "53525778-a124-4a0e-d280-3712df52b77a"
      },
      "outputs": [
        {
          "data": {
            "text/plain": [
              "array([[ 0.96771021, -0.74756456, -0.60269331, ...,  1.03927132,\n",
              "        -0.03866464, -0.73393928],\n",
              "       [ 0.16149343, -0.6394833 ,  1.37998002, ..., -0.95584437,\n",
              "        -0.93592799, -0.19795272],\n",
              "       [ 0.62218873, -0.79925559,  0.74552456, ..., -0.92831288,\n",
              "        -0.99907849,  1.14243063],\n",
              "       ...,\n",
              "       [ 0.30170504, -0.11787378,  1.06275229, ..., -0.35382234,\n",
              "        -0.52544974, -1.5034688 ],\n",
              "       [ 0.11642541, -0.58309308, -0.12685171, ..., -1.0182491 ,\n",
              "        -1.03328501, -0.73691003],\n",
              "       [-1.37582676,  0.91124771,  1.06275229, ...,  0.87500006,\n",
              "         0.23498753, -0.30787061]])"
            ]
          },
          "execution_count": 78,
          "metadata": {},
          "output_type": "execute_result"
        }
      ],
      "source": [
        "from sklearn.preprocessing import StandardScaler # también hay min-max, ...\n",
        "\n",
        "scaler = StandardScaler() # mean y std\n",
        "scaler.fit(X_train_num)\n",
        "X_train_num_scaled = scaler.transform(X_train_num)\n",
        "X_train_num_scaled"
      ]
    },
    {
      "cell_type": "markdown",
      "metadata": {
        "id": "vRYbakTgj4sc"
      },
      "source": [
        "En cuanto a nuestra columna categórica, no podremos usarla para entrenar modelos (necesitamos valores numéricos). Para ello tenemos que usar un `Encoder`. Además, como puedes ver, puedes usar la función `fit_transform` para llevar a cabo ambas acciones a la vez."
      ]
    },
    {
      "cell_type": "code",
      "execution_count": null,
      "metadata": {
        "id": "tkT8CAEdj4sc",
        "outputId": "55cd79f3-c3b4-48bb-ffda-4cf843603a5a"
      },
      "outputs": [
        {
          "data": {
            "text/plain": [
              "<16512x5 sparse matrix of type '<class 'numpy.float64'>'\n",
              "\twith 16512 stored elements in Compressed Sparse Row format>"
            ]
          },
          "execution_count": 79,
          "metadata": {},
          "output_type": "execute_result"
        }
      ],
      "source": [
        "from sklearn.preprocessing import OneHotEncoder\n",
        "\n",
        "cat_encoder = OneHotEncoder()\n",
        "X_train_cat = cat_encoder.fit_transform(train_cat)\n",
        "X_train_cat"
      ]
    },
    {
      "cell_type": "code",
      "execution_count": null,
      "metadata": {
        "id": "kfy1mMtMj4sd",
        "outputId": "e6e3310b-1d6c-4e38-8c2d-9e16b6630d0e"
      },
      "outputs": [
        {
          "data": {
            "text/plain": [
              "array([[0., 1., 0., 0., 0.],\n",
              "       [0., 0., 0., 0., 1.],\n",
              "       [1., 0., 0., 0., 0.],\n",
              "       ...,\n",
              "       [0., 1., 0., 0., 0.],\n",
              "       [0., 0., 0., 0., 1.],\n",
              "       [0., 0., 0., 0., 1.]])"
            ]
          },
          "execution_count": 80,
          "metadata": {},
          "output_type": "execute_result"
        }
      ],
      "source": [
        "X_train_cat.toarray()"
      ]
    },
    {
      "cell_type": "markdown",
      "metadata": {
        "id": "dl-OYIomj4se"
      },
      "source": [
        "Si bien podemos llevar a cabo todas las transformaciones que hemos visto una a una, es mucho más práctico (y reusable) definir `Pipelines`. De esta manera podremos ir desde los datos leído hasta los datos preparados de manera muy sencilla."
      ]
    },
    {
      "cell_type": "code",
      "execution_count": null,
      "metadata": {
        "id": "9ar-u_GCj4sf"
      },
      "outputs": [],
      "source": [
        "from sklearn.pipeline import Pipeline\n",
        "from sklearn.compose import ColumnTransformer\n",
        "\n",
        "num_pipeline = Pipeline([\n",
        "        ('imputer', SimpleImputer(strategy=\"median\")),\n",
        "        ('std_scaler', StandardScaler()),\n",
        "    ])\n",
        "\n",
        "num_attribs = list(train_num)\n",
        "cat_attribs = [\"ocean_proximity\"]\n",
        "\n",
        "full_pipeline = ColumnTransformer([\n",
        "\t(\"num\", num_pipeline, num_attribs),\n",
        "\t(\"cat\", OneHotEncoder(), cat_attribs),\n",
        "])"
      ]
    },
    {
      "cell_type": "code",
      "execution_count": null,
      "metadata": {
        "id": "gm97htyzj4sg",
        "outputId": "fe707a69-296e-4cfe-dfc4-c932a5a32f10"
      },
      "outputs": [
        {
          "data": {
            "text/plain": [
              "array([[ 0.96771021, -0.74756456, -0.60269331, ...,  0.        ,\n",
              "         0.        ,  0.        ],\n",
              "       [ 0.16149343, -0.6394833 ,  1.37998002, ...,  0.        ,\n",
              "         0.        ,  1.        ],\n",
              "       [ 0.62218873, -0.79925559,  0.74552456, ...,  0.        ,\n",
              "         0.        ,  0.        ],\n",
              "       ...,\n",
              "       [ 0.30170504, -0.11787378,  1.06275229, ...,  0.        ,\n",
              "         0.        ,  0.        ],\n",
              "       [ 0.11642541, -0.58309308, -0.12685171, ...,  0.        ,\n",
              "         0.        ,  1.        ],\n",
              "       [-1.37582676,  0.91124771,  1.06275229, ...,  0.        ,\n",
              "         0.        ,  1.        ]])"
            ]
          },
          "execution_count": 82,
          "metadata": {},
          "output_type": "execute_result"
        }
      ],
      "source": [
        "X_train = full_pipeline.fit_transform(train_data)\n",
        "\n",
        "X_train # contiene las variables numéricas y categóricas, sin missing values y todo escalado y codificado."
      ]
    },
    {
      "cell_type": "code",
      "execution_count": null,
      "metadata": {
        "id": "GUL_dKA4j4si",
        "outputId": "f9cdf903-b126-4ffb-8e81-435962ee01f8"
      },
      "outputs": [
        {
          "data": {
            "text/plain": [
              "array([[-0.07386178,  0.54941047, -0.44407944, ...,  0.        ,\n",
              "         0.        ,  0.        ],\n",
              "       [ 0.61718117, -0.73816619,  1.85582162, ...,  0.        ,\n",
              "         0.        ,  0.        ],\n",
              "       [ 0.5671056 , -0.66297923,  0.58691069, ...,  0.        ,\n",
              "         0.        ,  0.        ],\n",
              "       ...,\n",
              "       [ 0.70230965, -0.74756456,  1.37998002, ...,  0.        ,\n",
              "         0.        ,  0.        ],\n",
              "       [ 1.09790671, -0.73816619, -0.91992104, ...,  0.        ,\n",
              "         0.        ,  0.        ],\n",
              "       [-1.2055698 ,  0.7890689 ,  0.42829682, ...,  0.        ,\n",
              "         0.        ,  0.        ]])"
            ]
          },
          "execution_count": 84,
          "metadata": {},
          "output_type": "execute_result"
        }
      ],
      "source": [
        "X_test = full_pipeline.transform(test_data) # ojo ! aquí no hacemos fit :) sólo transform\n",
        "\n",
        "X_test"
      ]
    },
    {
      "cell_type": "markdown",
      "metadata": {
        "id": "Sx7ST9xNj4si"
      },
      "source": [
        "El uso de `Pipelines` es muy potente, ya que puedes incluir tus modelos también y exportarlos en archivos de manera que los puedas compartir o usar en diferentes entornos (por ejemplo, para preparar los datos en producción de la misma manera que en entrenamiento)."
      ]
    },
    {
      "cell_type": "markdown",
      "metadata": {
        "id": "GUtm92xEj4sj"
      },
      "source": [
        "## Enternando modelos"
      ]
    },
    {
      "cell_type": "markdown",
      "metadata": {
        "id": "rBtnKDphj4sj"
      },
      "source": [
        "Una vez tenemos los datos preparados, ya estamos listos para entrenar modelos. `Scikit-learn` trae muchísimos modelos implementados y cada uno necesitará unos parámetros diferentes. En esta serie veremos muchos de estos algoritmos, pero todos ellos implementan una interfaz similar basados, de nuevo, en la función `fit` para entrenar el modelo."
      ]
    },
    {
      "cell_type": "code",
      "execution_count": null,
      "metadata": {
        "id": "n2FZzolgj4sk",
        "outputId": "94ab2637-3f96-465f-b479-7f512ae88a5d"
      },
      "outputs": [
        {
          "data": {
            "text/plain": [
              "LinearRegression()"
            ]
          },
          "execution_count": 92,
          "metadata": {},
          "output_type": "execute_result"
        }
      ],
      "source": [
        "from sklearn.linear_model import LinearRegression\n",
        "\n",
        "lin_reg = LinearRegression()\n",
        "lin_reg.fit(X_train, y_train)"
      ]
    },
    {
      "cell_type": "markdown",
      "metadata": {
        "id": "puZY7-7Kj4sl"
      },
      "source": [
        "Una vez el modelo ha sido entrenado, podemos sacar predicciones con la función `predict` (recuerda pasarle los datos preparados)."
      ]
    },
    {
      "cell_type": "code",
      "execution_count": null,
      "metadata": {
        "id": "HmjM5wz8j4sl",
        "outputId": "4632571b-a6ef-47da-e4d9-a020e3eac83d"
      },
      "outputs": [
        {
          "data": {
            "text/plain": [
              "array([108292.22741445, 379888.92139725, 213135.75783887, ...,\n",
              "       215265.23261004, 122562.39714544, 318906.32084628])"
            ]
          },
          "execution_count": 93,
          "metadata": {},
          "output_type": "execute_result"
        }
      ],
      "source": [
        "preds = lin_reg.predict(X_test)\n",
        "preds"
      ]
    },
    {
      "cell_type": "markdown",
      "metadata": {
        "id": "TdTYv_fRj4sm"
      },
      "source": [
        "`Scikit-Learn` también implementa multitud de `métricas` que podemos usar para evaluar nuestros modelos."
      ]
    },
    {
      "cell_type": "code",
      "execution_count": null,
      "metadata": {
        "id": "Lv1ovM3Dj4sm",
        "outputId": "c4512817-3f7b-4878-fd07-1d04c5892043"
      },
      "outputs": [
        {
          "data": {
            "text/plain": [
              "71008.96666632878"
            ]
          },
          "execution_count": 97,
          "metadata": {},
          "output_type": "execute_result"
        }
      ],
      "source": [
        "from sklearn.metrics import mean_squared_error\n",
        "import numpy as np\n",
        "\n",
        "preds = lin_reg.predict(X_test)\n",
        "lin_mse = mean_squared_error(y_test, preds)\n",
        "lin_rmse = np.sqrt(lin_mse)\n",
        "lin_rmse"
      ]
    },
    {
      "cell_type": "markdown",
      "metadata": {
        "id": "_78qmJY8j4sp"
      },
      "source": [
        "Vamos a probar otro modelo."
      ]
    },
    {
      "cell_type": "code",
      "execution_count": null,
      "metadata": {
        "id": "U1jQYzGKj4s8",
        "outputId": "fe06a29c-f5b6-4512-da1f-24c51d7f3754"
      },
      "outputs": [
        {
          "data": {
            "text/plain": [
              "DecisionTreeRegressor()"
            ]
          },
          "execution_count": 102,
          "metadata": {},
          "output_type": "execute_result"
        }
      ],
      "source": [
        "from sklearn.tree import DecisionTreeRegressor\n",
        "\n",
        "tree_reg = DecisionTreeRegressor()\n",
        "tree_reg.fit(X_train, y_train)"
      ]
    },
    {
      "cell_type": "code",
      "execution_count": null,
      "metadata": {
        "id": "1zPCGbmvj4s9",
        "outputId": "608483d7-9004-40d2-e5e2-5d5220ca62a1"
      },
      "outputs": [
        {
          "data": {
            "text/plain": [
              "66658.8766081703"
            ]
          },
          "execution_count": 105,
          "metadata": {},
          "output_type": "execute_result"
        }
      ],
      "source": [
        "predictions = tree_reg.predict(X_test)\n",
        "tree_mse = mean_squared_error(y_test, predictions)\n",
        "tree_rmse = np.sqrt(tree_mse)\n",
        "tree_rmse"
      ]
    },
    {
      "cell_type": "markdown",
      "metadata": {
        "id": "dZFxVHbLj4s-"
      },
      "source": [
        "Parece que da un poco mejor 🤗 En futuros posts veremos más modelos y cómo mejorarlos."
      ]
    },
    {
      "cell_type": "markdown",
      "metadata": {
        "id": "K0SVgV3uj4s_"
      },
      "source": [
        "## Optimización de hyperparámetros"
      ]
    },
    {
      "cell_type": "markdown",
      "metadata": {
        "id": "mAwOd7Nlj4s_"
      },
      "source": [
        "A la hora de entrenar modelos de `Machine Learning` podemos usar multitud de `hyperparámteros`, el conjunto de todos aquellos parámetros que pueden afectar al entrenamiento del modelo y a su desempeño final. La forma más utilizada de optimización de hyperparámetros probar muchos y quedarse con los mejores 😝 siguiendo diferentes estrategias. Por ejemplo, podemos probar diferentes valores de un conjunto determinado."
      ]
    },
    {
      "cell_type": "code",
      "execution_count": null,
      "metadata": {
        "id": "kZCtGgeJj4tB",
        "outputId": "78fe3178-bd6e-482a-be76-da45b7834c79"
      },
      "outputs": [
        {
          "data": {
            "text/plain": [
              "GridSearchCV(cv=5, estimator=RandomForestRegressor(random_state=42),\n",
              "             param_grid=[{'max_features': [2, 4, 6, 8],\n",
              "                          'n_estimators': [3, 10, 30]},\n",
              "                         {'bootstrap': [False], 'max_features': [2, 3, 4],\n",
              "                          'n_estimators': [3, 10]}],\n",
              "             return_train_score=True, scoring='neg_mean_squared_error')"
            ]
          },
          "execution_count": 106,
          "metadata": {},
          "output_type": "execute_result"
        }
      ],
      "source": [
        "from sklearn.model_selection import GridSearchCV\n",
        "from sklearn.ensemble import RandomForestRegressor\n",
        "\n",
        "param_grid = [\n",
        "\t# 12 (3×4) combinaciones\n",
        "    {'n_estimators': [3, 10, 30], 'max_features': [2, 4, 6, 8]},\n",
        "\t# 6 (2×3) combinaciones\n",
        "    {'bootstrap': [False], 'n_estimators': [3, 10], 'max_features': [2, 3, 4]},\n",
        "  ]\n",
        "\n",
        "forest_reg = RandomForestRegressor(random_state=42)\n",
        "# entrenar con 5 folds un total de (12+6)*5=90 entrenamientos\n",
        "grid_search = GridSearchCV(forest_reg, param_grid, cv=5, scoring='neg_mean_squared_error', return_train_score=True)\n",
        "grid_search.fit(X_train, y_train)"
      ]
    },
    {
      "cell_type": "code",
      "execution_count": null,
      "metadata": {
        "id": "XD--ZUyRj4tC",
        "outputId": "644d8dfc-7367-4614-e5a1-4f09d1473ddc"
      },
      "outputs": [
        {
          "data": {
            "text/plain": [
              "{'max_features': 6, 'n_estimators': 30}"
            ]
          },
          "execution_count": 107,
          "metadata": {},
          "output_type": "execute_result"
        }
      ],
      "source": [
        "grid_search.best_params_"
      ]
    },
    {
      "cell_type": "code",
      "execution_count": null,
      "metadata": {
        "id": "CFsjdYfqj4tD",
        "outputId": "2a8ad955-1e8e-4bb1-94ce-2c1d4c791e54"
      },
      "outputs": [
        {
          "data": {
            "text/plain": [
              "RandomForestRegressor(max_features=6, n_estimators=30, random_state=42)"
            ]
          },
          "execution_count": 108,
          "metadata": {},
          "output_type": "execute_result"
        }
      ],
      "source": [
        "grid_search.best_estimator_"
      ]
    },
    {
      "cell_type": "code",
      "execution_count": null,
      "metadata": {
        "id": "Z9wzTP61j4tD",
        "outputId": "94182349-f305-4940-8e12-be62c1b9f5bf"
      },
      "outputs": [
        {
          "name": "stdout",
          "output_type": "stream",
          "text": [
            "63339.55618309705 {'max_features': 2, 'n_estimators': 3}\n",
            "55291.09598702181 {'max_features': 2, 'n_estimators': 10}\n",
            "52587.09831900864 {'max_features': 2, 'n_estimators': 30}\n",
            "59951.99892011206 {'max_features': 4, 'n_estimators': 3}\n",
            "52764.16418304784 {'max_features': 4, 'n_estimators': 10}\n",
            "50280.79794899106 {'max_features': 4, 'n_estimators': 30}\n",
            "58646.287306317055 {'max_features': 6, 'n_estimators': 3}\n",
            "51933.65975704695 {'max_features': 6, 'n_estimators': 10}\n",
            "49723.11534451858 {'max_features': 6, 'n_estimators': 30}\n",
            "58639.440267951104 {'max_features': 8, 'n_estimators': 3}\n",
            "51947.43577366441 {'max_features': 8, 'n_estimators': 10}\n",
            "49959.65853502058 {'max_features': 8, 'n_estimators': 30}\n",
            "62660.85578333314 {'bootstrap': False, 'max_features': 2, 'n_estimators': 3}\n",
            "53682.43657349913 {'bootstrap': False, 'max_features': 2, 'n_estimators': 10}\n",
            "60016.802813202616 {'bootstrap': False, 'max_features': 3, 'n_estimators': 3}\n",
            "53224.05340560518 {'bootstrap': False, 'max_features': 3, 'n_estimators': 10}\n",
            "58561.732410130135 {'bootstrap': False, 'max_features': 4, 'n_estimators': 3}\n",
            "51914.87547403448 {'bootstrap': False, 'max_features': 4, 'n_estimators': 10}\n"
          ]
        }
      ],
      "source": [
        "cvres = grid_search.cv_results_\n",
        "for mean_score, params in zip(cvres[\"mean_test_score\"], cvres[\"params\"]):\n",
        "    print(np.sqrt(-mean_score), params)"
      ]
    },
    {
      "cell_type": "code",
      "execution_count": null,
      "metadata": {
        "id": "ZsANYlOxj4tE",
        "outputId": "9b13e1c9-2922-4d6d-d6a6-37af67b37cfc"
      },
      "outputs": [
        {
          "data": {
            "text/plain": [
              "49214.84552444808"
            ]
          },
          "execution_count": 111,
          "metadata": {},
          "output_type": "execute_result"
        }
      ],
      "source": [
        "best_model = grid_search.best_estimator_\n",
        "preds = best_model.predict(X_test)\n",
        "final_mse = mean_squared_error(y_test, preds)\n",
        "final_rmse = np.sqrt(final_mse)\n",
        "final_rmse"
      ]
    },
    {
      "cell_type": "markdown",
      "metadata": {
        "id": "0pBZKqQxj4tH"
      },
      "source": [
        "## Resumen"
      ]
    },
    {
      "cell_type": "markdown",
      "metadata": {
        "id": "fEfwLbnEj4tH"
      },
      "source": [
        "En este post hemos visto las herramientas más usadas en el ecosistema `Python` para `Machine Learning`. Herramientas como `Python`, `Numpy`, `Pandas` o `Matplotlib` ya las hemos visto en posts anteriores. Aquí, nos hemos centrado en la librería `Scikit-Learn`, probablemente la más usada a día de hoy para entrenar modelos de ML en `Python`. Hemos visto como podemos usar la funcionalidad de la librería para preparar nuestros datos, creando `Pipelines` reutilizables, entrenar modelos y optimizar sus hyperparámetros para obtener los mejores modelos posibles. En los siguientes posts entraremos en detalle en diferentes modelos que encontramos en la librería con ejemplos de aplicación."
      ]
    }
  ],
  "metadata": {
    "interpreter": {
      "hash": "74dbfc52f168b3071122cf9c0781887d6121c12f9c1b29bca56ce221bccb2a07"
    },
    "kernelspec": {
      "display_name": "Python 3 (ipykernel)",
      "language": "python",
      "name": "python3"
    },
    "language_info": {
      "codemirror_mode": {
        "name": "ipython",
        "version": 3
      },
      "file_extension": ".py",
      "mimetype": "text/x-python",
      "name": "python",
      "nbconvert_exporter": "python",
      "pygments_lexer": "ipython3",
      "version": "3.9.5"
    },
    "toc": {
      "base_numbering": 1,
      "nav_menu": {},
      "number_sections": true,
      "sideBar": true,
      "skip_h1_title": false,
      "title_cell": "Table of Contents",
      "title_sidebar": "Contents",
      "toc_cell": false,
      "toc_position": {},
      "toc_section_display": true,
      "toc_window_display": false
    },
    "colab": {
      "provenance": []
    }
  },
  "nbformat": 4,
  "nbformat_minor": 0
}