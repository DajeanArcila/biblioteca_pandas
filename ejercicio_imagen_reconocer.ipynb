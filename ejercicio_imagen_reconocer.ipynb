{
  "nbformat": 4,
  "nbformat_minor": 0,
  "metadata": {
    "colab": {
      "provenance": [],
      "authorship_tag": "ABX9TyMy6aSzx83KxWJDCrYn9fzp",
      "include_colab_link": true
    },
    "kernelspec": {
      "name": "python3",
      "display_name": "Python 3"
    },
    "language_info": {
      "name": "python"
    }
  },
  "cells": [
    {
      "cell_type": "markdown",
      "metadata": {
        "id": "view-in-github",
        "colab_type": "text"
      },
      "source": [
        "<a href=\"https://colab.research.google.com/github/DajeanArcila/biblioteca_pandas/blob/main/ejercicio_imagen_reconocer.ipynb\" target=\"_parent\"><img src=\"https://colab.research.google.com/assets/colab-badge.svg\" alt=\"Open In Colab\"/></a>"
      ]
    },
    {
      "cell_type": "code",
      "execution_count": 2,
      "metadata": {
        "colab": {
          "base_uri": "https://localhost:8080/",
          "height": 106
        },
        "id": "ZQmKn16Qwfml",
        "outputId": "e98ade9c-dcf8-4a90-8c24-fb131046f982"
      },
      "outputs": [
        {
          "output_type": "error",
          "ename": "SyntaxError",
          "evalue": "invalid syntax (<ipython-input-2-93ce5390e020>, line 1)",
          "traceback": [
            "\u001b[0;36m  File \u001b[0;32m\"<ipython-input-2-93ce5390e020>\"\u001b[0;36m, line \u001b[0;32m1\u001b[0m\n\u001b[0;31m    data/\u001b[0m\n\u001b[0m         ^\u001b[0m\n\u001b[0;31mSyntaxError\u001b[0m\u001b[0;31m:\u001b[0m invalid syntax\n"
          ]
        }
      ],
      "source": [
        "'''\n",
        "data/\n",
        "#ejemplooooo\n",
        "  person1/\n",
        "    img1.jpg\n",
        "    img2.jpg\n",
        "    ...\n",
        "  person2/\n",
        "    img1.jpg\n",
        "    img2.jpg\n",
        "    ...\n",
        "  ...\n",
        "  person10/\n",
        "    img1.jpg\n",
        "    img2.jpg\n",
        "    ...\n",
        "    '''"
      ]
    },
    {
      "cell_type": "code",
      "source": [
        "!pip install opencv-python-headless dlib"
      ],
      "metadata": {
        "colab": {
          "base_uri": "https://localhost:8080/"
        },
        "id": "SZd4ycJgwslz",
        "outputId": "cde9d7e6-bf11-4a93-a560-cce3dad41802"
      },
      "execution_count": 3,
      "outputs": [
        {
          "output_type": "stream",
          "name": "stdout",
          "text": [
            "Requirement already satisfied: opencv-python-headless in /usr/local/lib/python3.10/dist-packages (4.10.0.84)\n",
            "Requirement already satisfied: dlib in /usr/local/lib/python3.10/dist-packages (19.24.4)\n",
            "Requirement already satisfied: numpy>=1.21.2 in /usr/local/lib/python3.10/dist-packages (from opencv-python-headless) (1.25.2)\n"
          ]
        }
      ]
    },
    {
      "cell_type": "code",
      "source": [
        "import cv2\n",
        "import dlib\n",
        "import os\n",
        "import numpy as np"
      ],
      "metadata": {
        "id": "x9Izw-ZMyDPy"
      },
      "execution_count": 4,
      "outputs": []
    },
    {
      "cell_type": "code",
      "source": [
        "# Ruta a los datos y al detector de rostros\n",
        "data_path = 'data/'\n",
        "detector = dlib.get_frontal_face_detector()\n",
        "\n",
        "# Crear una carpeta para las imágenes preprocesadas\n",
        "preprocessed_data_path = 'preprocessed_data/'\n",
        "os.makedirs(preprocessed_data_path, exist_ok=True)"
      ],
      "metadata": {
        "id": "iFQk0WcWwteq"
      },
      "execution_count": 5,
      "outputs": []
    },
    {
      "cell_type": "code",
      "source": [
        "import matplotlib.pyplot as plt\n",
        "\n",
        "# Mostrar algunas imágenes de entrenamiento\n",
        "batch = next(train_data)\n",
        "images, labels = batch\n",
        "plt.figure(figsize=(10, 10))\n",
        "for i in range(9):\n",
        "    plt.subplot(3, 3, i+1)\n",
        "    plt.imshow(images[i])\n",
        "    plt.title(train_data.class_indices)  # Puedes ajustar esto para mostrar las etiquetas\n",
        "    plt.axis('off')\n",
        "plt.show()\n"
      ],
      "metadata": {
        "colab": {
          "base_uri": "https://localhost:8080/",
          "height": 211
        },
        "id": "pbQgETwXy_wQ",
        "outputId": "357a1945-3b83-4f25-dddf-1123aa4001e8"
      },
      "execution_count": 6,
      "outputs": [
        {
          "output_type": "error",
          "ename": "NameError",
          "evalue": "name 'train_data' is not defined",
          "traceback": [
            "\u001b[0;31m---------------------------------------------------------------------------\u001b[0m",
            "\u001b[0;31mNameError\u001b[0m                                 Traceback (most recent call last)",
            "\u001b[0;32m<ipython-input-6-a6e10c96af3d>\u001b[0m in \u001b[0;36m<cell line: 4>\u001b[0;34m()\u001b[0m\n\u001b[1;32m      2\u001b[0m \u001b[0;34m\u001b[0m\u001b[0m\n\u001b[1;32m      3\u001b[0m \u001b[0;31m# Mostrar algunas imágenes de entrenamiento\u001b[0m\u001b[0;34m\u001b[0m\u001b[0;34m\u001b[0m\u001b[0m\n\u001b[0;32m----> 4\u001b[0;31m \u001b[0mbatch\u001b[0m \u001b[0;34m=\u001b[0m \u001b[0mnext\u001b[0m\u001b[0;34m(\u001b[0m\u001b[0mtrain_data\u001b[0m\u001b[0;34m)\u001b[0m\u001b[0;34m\u001b[0m\u001b[0;34m\u001b[0m\u001b[0m\n\u001b[0m\u001b[1;32m      5\u001b[0m \u001b[0mimages\u001b[0m\u001b[0;34m,\u001b[0m \u001b[0mlabels\u001b[0m \u001b[0;34m=\u001b[0m \u001b[0mbatch\u001b[0m\u001b[0;34m\u001b[0m\u001b[0;34m\u001b[0m\u001b[0m\n\u001b[1;32m      6\u001b[0m \u001b[0mplt\u001b[0m\u001b[0;34m.\u001b[0m\u001b[0mfigure\u001b[0m\u001b[0;34m(\u001b[0m\u001b[0mfigsize\u001b[0m\u001b[0;34m=\u001b[0m\u001b[0;34m(\u001b[0m\u001b[0;36m10\u001b[0m\u001b[0;34m,\u001b[0m \u001b[0;36m10\u001b[0m\u001b[0;34m)\u001b[0m\u001b[0;34m)\u001b[0m\u001b[0;34m\u001b[0m\u001b[0;34m\u001b[0m\u001b[0m\n",
            "\u001b[0;31mNameError\u001b[0m: name 'train_data' is not defined"
          ]
        }
      ]
    },
    {
      "cell_type": "code",
      "source": [
        "# Función para preprocesar imágenes\n",
        "def preprocess_image(image_path):\n",
        "    img = cv2.imread(image_path)\n",
        "    gray = cv2.cvtColor(img, cv2.COLOR_BGR2GRAY)\n",
        "    faces = detector(gray)\n",
        "    if len(faces) > 0:\n",
        "        x, y, w, h = faces[0].left(), faces[0].top(), faces[0].width(), faces[0].height()\n",
        "        face = img[y:y+h, x:x+w]\n",
        "        face = cv2.resize(face, (224, 224))\n",
        "        return face\n",
        "    return None\n",
        "\n",
        "# Preprocesar todas las imágenes y guardarlas\n",
        "for person in os.listdir(data_path):\n",
        "    person_path = os.path.join(data_path, person)\n",
        "    preprocessed_person_path = os.path.join(preprocessed_data_path, person)\n",
        "    os.makedirs(preprocessed_person_path, exist_ok=True)\n",
        "    for image_name in os.listdir(person_path):\n",
        "        image_path = os.path.join(person_path, image_name)\n",
        "        preprocessed_image = preprocess_image(image_path)\n",
        "        if preprocessed_image is not None:\n",
        "            cv2.imwrite(os.path.join(preprocessed_person_path, image_name), preprocessed_image)"
      ],
      "metadata": {
        "id": "0H13c-WNyFY1"
      },
      "execution_count": null,
      "outputs": []
    }
  ]
}