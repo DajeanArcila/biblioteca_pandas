{
  "nbformat": 4,
  "nbformat_minor": 0,
  "metadata": {
    "colab": {
      "provenance": [],
      "authorship_tag": "ABX9TyMlAEzbhD6kf7K+pvKh8b9J",
      "include_colab_link": true
    },
    "kernelspec": {
      "name": "python3",
      "display_name": "Python 3"
    },
    "language_info": {
      "name": "python"
    }
  },
  "cells": [
    {
      "cell_type": "markdown",
      "metadata": {
        "id": "view-in-github",
        "colab_type": "text"
      },
      "source": [
        "<a href=\"https://colab.research.google.com/github/DajeanArcila/biblioteca_pandas/blob/main/Calculo%24_CBM%2Bweighti.ipynb\" target=\"_parent\"><img src=\"https://colab.research.google.com/assets/colab-badge.svg\" alt=\"Open In Colab\"/></a>"
      ]
    },
    {
      "cell_type": "code",
      "execution_count": 4,
      "metadata": {
        "colab": {
          "base_uri": "https://localhost:8080/"
        },
        "id": "Z4XKaX8UlsuG",
        "outputId": "ae5cabff-6cf0-4e33-abbe-03f4fb40f831"
      },
      "outputs": [
        {
          "output_type": "stream",
          "name": "stdout",
          "text": [
            "Ingresa el costo total del flete: 1401.24\n",
            "Ingresa el peso del Producto 1 (kg): 129.5\n",
            "Ingresa el peso del Producto 2 (kg): 1459.5\n",
            "Ingresa el peso del Producto 3 (kg): 1910\n",
            "Ingresa el peso del Producto 4 (kg): 3749\n",
            "Ingresa el CBM del Producto 1: 0.246\n",
            "Ingresa el CBM del Producto 2: 3.841\n",
            "Ingresa el CBM del Producto 3: 1.83\n",
            "Ingresa el CBM del Producto 4: 5.76\n",
            "\n",
            "Distribución del costo del flete por producto:\n",
            "     Producto  Peso (kg)    CBM  Costo Total por Producto\n",
            "0  Producto 1      129.5  0.246                 27.277976\n",
            "1  Producto 2     1459.5  3.841                371.540973\n",
            "2  Producto 3     1910.0  1.830                294.428063\n",
            "3  Producto 4     3749.0  5.760                707.992988\n",
            "\n",
            "Los resultados han sido guardados en 'costo_flete_productos.xlsx'\n"
          ]
        }
      ],
      "source": [
        "# Importar las librerías necesarias\n",
        "import pandas as pd\n",
        "\n",
        "# Datos de entrada\n",
        "total_flete = float(input(\"Ingresa el costo total del flete: \"))\n",
        "\n",
        "# Datos de los productos\n",
        "productos = {\n",
        "    \"Producto\": [\"Producto 1\", \"Producto 2\", \"Producto 3\", \"Producto 4\"],\n",
        "    \"Peso (kg)\": [float(input(\"Ingresa el peso del Producto 1 (kg): \")),\n",
        "                  float(input(\"Ingresa el peso del Producto 2 (kg): \")),\n",
        "                  float(input(\"Ingresa el peso del Producto 3 (kg): \")),\n",
        "                  float(input(\"Ingresa el peso del Producto 4 (kg): \"))],\n",
        "    \"CBM\": [float(input(\"Ingresa el CBM del Producto 1: \")),\n",
        "            float(input(\"Ingresa el CBM del Producto 2: \")),\n",
        "            float(input(\"Ingresa el CBM del Producto 3: \")),\n",
        "            float(input(\"Ingresa el CBM del Producto 4: \"))]\n",
        "}\n"
      ]
    },
    {
      "cell_type": "code",
      "source": [
        "# Convertir a DataFrame\n",
        "df = pd.DataFrame(productos)\n",
        "\n",
        "# Calcular el peso y CBM total\n",
        "peso_total = df[\"Peso (kg)\"].sum()\n",
        "cbm_total = df[\"CBM\"].sum()"
      ],
      "metadata": {
        "id": "UeOIwDucnhjW"
      },
      "execution_count": null,
      "outputs": []
    },
    {
      "cell_type": "code",
      "source": [
        "# Calcular el peso y CBM relativo (peso y volumen de cada producto dividido por el total)\n",
        "df[\"Peso Relativo\"] = df[\"Peso (kg)\"] / peso_total\n",
        "df[\"CBM Relativo\"] = df[\"CBM\"] / cbm_total\n",
        "\n",
        "# Calcular el costo total por producto basado en el promedio del peso y CBM relativo\n",
        "df[\"Proporción Total\"] = (df[\"Peso Relativo\"] + df[\"CBM Relativo\"]) / 2\n",
        "df[\"Costo Total por Producto\"] = df[\"Proporción Total\"] * total_flete\n",
        "\n",
        "# Mostrar los resultados\n",
        "print(\"\\nDistribución del costo del flete por producto:\")\n",
        "print(df[[\"Producto\", \"Peso (kg)\", \"CBM\", \"Costo Total por Producto\"]])\n",
        "\n",
        "\n",
        "'''\n",
        "# Guardar los resultados en un archivo Excel\n",
        "df.to_excel(\"costo_flete_productos.xlsx\", index=False)\n",
        "print(\"\\nLos resultados han sido guardados en 'costo_flete_productos.xlsx'\")\n",
        "'''"
      ],
      "metadata": {
        "id": "E06c2QQNnjhg"
      },
      "execution_count": null,
      "outputs": []
    }
  ]
}