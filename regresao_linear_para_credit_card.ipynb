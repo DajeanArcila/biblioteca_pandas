{
  "cells": [
    {
      "cell_type": "markdown",
      "metadata": {
        "id": "view-in-github",
        "colab_type": "text"
      },
      "source": [
        "<a href=\"https://colab.research.google.com/github/DajeanArcila/biblioteca_pandas/blob/main/regresao_linear_para_credit_card.ipynb\" target=\"_parent\"><img src=\"https://colab.research.google.com/assets/colab-badge.svg\" alt=\"Open In Colab\"/></a>"
      ]
    },
    {
      "cell_type": "code",
      "source": [
        "| Nome   | Idade | Renda Mensal | Anos como Cliente | Pontuação de Crédito | Limite do Cartão de Crédito |\n",
        "|--------|-------|--------------|-------------------|----------------------|------------------------------|\n",
        "| João   | 35    | 5000         | 5                 | 700                  | 2000                         |\n",
        "| Pedro  | 45    | 8000         | 10                | 750                  | 5000                         |\n",
        "| Maria  | 30    | 3000         | 3                 | 650                  | 1000                         |\n",
        "| Daniel | 50    | 10000        | 20                | 800                  | 10000                        |\n",
        "| João   | 40    | 6000         | 8                 | 720                  | 3000                         |\n"
      ],
      "metadata": {
        "id": "0JYHCSLAWl_Y"
      },
      "execution_count": 7,
      "outputs": []
    },
    {
      "cell_type": "code",
      "source": [
        "from sklearn.linear_model import LinearRegression\n",
        "import pandas as pd\n",
        "\n",
        "# Crear el DataFrame con los datos\n",
        "data = {\n",
        "    'Nome': ['João', 'Pedro', 'Maria', 'Daniel', 'João'],\n",
        "    'Idade': [35, 45, 30, 50, 40],\n",
        "    'Renda Mensal': [5000, 8000, 3000, 10000, 6000],\n",
        "    'Anos como Cliente': [5, 10, 3, 20, 8],\n",
        "    'Pontuação de Crédito': [700, 750, 650, 800, 720],\n",
        "    'Limite do Cartão de Crédito': [2000, 5000, 1000, 10000, 3000]\n",
        "}\n",
        "\n",
        "df = pd.DataFrame(data)\n",
        "\n",
        "# Separar las características (variables independientes) y la variable objetivo\n",
        "X = df.drop(['Nome', 'Limite do Cartão de Crédito'], axis=1)  # Características\n",
        "y = df['Limite do Cartão de Crédito']  # Variable objetivo\n",
        "\n",
        "# Inicializar el modelo de regresión lineal\n",
        "modelo = LinearRegression()\n",
        "\n",
        "# Entrenar el modelo\n",
        "modelo.fit(X, y)\n",
        "\n",
        "# Hacer una predicción para un nuevo cliente\n",
        "nuevo_cliente = [[40, 7000, 5, 750]]  # Idade, Renda Mensal, Anos como Cliente, Pontuação de Crédito\n",
        "prediccion = modelo.predict(nuevo_cliente)\n",
        "\n",
        "print(\"A previsão do limite do cartão de crédito para o novo cliente é:\", prediccion)"
      ],
      "metadata": {
        "colab": {
          "base_uri": "https://localhost:8080/"
        },
        "id": "Oo8yyqENWLvX",
        "outputId": "fdc537a9-0764-446b-a60d-846a76cfd0f7"
      },
      "execution_count": 10,
      "outputs": [
        {
          "output_type": "stream",
          "name": "stdout",
          "text": [
            "A previsão do limite do cartão de crédito para o novo cliente é: [2000.]\n"
          ]
        },
        {
          "output_type": "stream",
          "name": "stderr",
          "text": [
            "/usr/local/lib/python3.10/dist-packages/sklearn/base.py:439: UserWarning: X does not have valid feature names, but LinearRegression was fitted with feature names\n",
            "  warnings.warn(\n"
          ]
        }
      ]
    }
  ],
  "metadata": {
    "colab": {
      "name": "Olá, este é o Colaboratory",
      "toc_visible": true,
      "provenance": [],
      "include_colab_link": true
    },
    "kernelspec": {
      "display_name": "Python 3",
      "name": "python3"
    }
  },
  "nbformat": 4,
  "nbformat_minor": 0
}