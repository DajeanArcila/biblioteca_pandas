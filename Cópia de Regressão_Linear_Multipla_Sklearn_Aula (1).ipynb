{
  "nbformat": 4,
  "nbformat_minor": 0,
  "metadata": {
    "colab": {
      "provenance": []
    },
    "kernelspec": {
      "name": "python3",
      "display_name": "Python 3"
    },
    "language_info": {
      "name": "python"
    }
  },
  "cells": [
    {
      "cell_type": "code",
      "execution_count": null,
      "metadata": {
        "id": "R8ESlh_G9Dvi"
      },
      "outputs": [],
      "source": [
        "import pandas as pd\n",
        "import numpy as np\n",
        "import seaborn as sns\n",
        "from sklearn.model_selection import train_test_split \n",
        "from sklearn.linear_model import LinearRegression\n",
        "from sklearn import metrics"
      ]
    },
    {
      "cell_type": "code",
      "source": [
        "#Importe o arquivo formato xlsx\n",
        "limite = pd.read_excel(\"Limite_Credito_Dummy.xlsx\")\n",
        "limite.head()"
      ],
      "metadata": {
        "colab": {
          "base_uri": "https://localhost:8080/",
          "height": 206
        },
        "id": "-J-Un9WA9JrL",
        "outputId": "d7820a50-6586-4b09-d3f1-17d96e6bb70f"
      },
      "execution_count": null,
      "outputs": [
        {
          "output_type": "execute_result",
          "data": {
            "text/plain": [
              "   Idade  RendimentoTotal  Salario  LimitedeCreditoImediato  \\\n",
              "0     70            10736     5214                      400   \n",
              "1     68             5000     5000                      380   \n",
              "2     44             5800     5800                      500   \n",
              "3     72             4300     4300                     2000   \n",
              "4     75             4400     4400                     3000   \n",
              "\n",
              "        Escolaridade Gênero Região  LimitedoChequeEspecial  \n",
              "0  Fundamental_Medio     RJ      F                     500  \n",
              "1  Fundamental_Medio     RJ      F                     600  \n",
              "2  Fundamental_Medio     RJ      F                     800  \n",
              "3  Fundamental_Medio     RJ      F                    1000  \n",
              "4  Fundamental_Medio     RJ      F                    1000  "
            ],
            "text/html": [
              "\n",
              "  <div id=\"df-43437306-69b2-4df6-8aee-85855aff42ce\">\n",
              "    <div class=\"colab-df-container\">\n",
              "      <div>\n",
              "<style scoped>\n",
              "    .dataframe tbody tr th:only-of-type {\n",
              "        vertical-align: middle;\n",
              "    }\n",
              "\n",
              "    .dataframe tbody tr th {\n",
              "        vertical-align: top;\n",
              "    }\n",
              "\n",
              "    .dataframe thead th {\n",
              "        text-align: right;\n",
              "    }\n",
              "</style>\n",
              "<table border=\"1\" class=\"dataframe\">\n",
              "  <thead>\n",
              "    <tr style=\"text-align: right;\">\n",
              "      <th></th>\n",
              "      <th>Idade</th>\n",
              "      <th>RendimentoTotal</th>\n",
              "      <th>Salario</th>\n",
              "      <th>LimitedeCreditoImediato</th>\n",
              "      <th>Escolaridade</th>\n",
              "      <th>Gênero</th>\n",
              "      <th>Região</th>\n",
              "      <th>LimitedoChequeEspecial</th>\n",
              "    </tr>\n",
              "  </thead>\n",
              "  <tbody>\n",
              "    <tr>\n",
              "      <th>0</th>\n",
              "      <td>70</td>\n",
              "      <td>10736</td>\n",
              "      <td>5214</td>\n",
              "      <td>400</td>\n",
              "      <td>Fundamental_Medio</td>\n",
              "      <td>RJ</td>\n",
              "      <td>F</td>\n",
              "      <td>500</td>\n",
              "    </tr>\n",
              "    <tr>\n",
              "      <th>1</th>\n",
              "      <td>68</td>\n",
              "      <td>5000</td>\n",
              "      <td>5000</td>\n",
              "      <td>380</td>\n",
              "      <td>Fundamental_Medio</td>\n",
              "      <td>RJ</td>\n",
              "      <td>F</td>\n",
              "      <td>600</td>\n",
              "    </tr>\n",
              "    <tr>\n",
              "      <th>2</th>\n",
              "      <td>44</td>\n",
              "      <td>5800</td>\n",
              "      <td>5800</td>\n",
              "      <td>500</td>\n",
              "      <td>Fundamental_Medio</td>\n",
              "      <td>RJ</td>\n",
              "      <td>F</td>\n",
              "      <td>800</td>\n",
              "    </tr>\n",
              "    <tr>\n",
              "      <th>3</th>\n",
              "      <td>72</td>\n",
              "      <td>4300</td>\n",
              "      <td>4300</td>\n",
              "      <td>2000</td>\n",
              "      <td>Fundamental_Medio</td>\n",
              "      <td>RJ</td>\n",
              "      <td>F</td>\n",
              "      <td>1000</td>\n",
              "    </tr>\n",
              "    <tr>\n",
              "      <th>4</th>\n",
              "      <td>75</td>\n",
              "      <td>4400</td>\n",
              "      <td>4400</td>\n",
              "      <td>3000</td>\n",
              "      <td>Fundamental_Medio</td>\n",
              "      <td>RJ</td>\n",
              "      <td>F</td>\n",
              "      <td>1000</td>\n",
              "    </tr>\n",
              "  </tbody>\n",
              "</table>\n",
              "</div>\n",
              "      <button class=\"colab-df-convert\" onclick=\"convertToInteractive('df-43437306-69b2-4df6-8aee-85855aff42ce')\"\n",
              "              title=\"Convert this dataframe to an interactive table.\"\n",
              "              style=\"display:none;\">\n",
              "        \n",
              "  <svg xmlns=\"http://www.w3.org/2000/svg\" height=\"24px\"viewBox=\"0 0 24 24\"\n",
              "       width=\"24px\">\n",
              "    <path d=\"M0 0h24v24H0V0z\" fill=\"none\"/>\n",
              "    <path d=\"M18.56 5.44l.94 2.06.94-2.06 2.06-.94-2.06-.94-.94-2.06-.94 2.06-2.06.94zm-11 1L8.5 8.5l.94-2.06 2.06-.94-2.06-.94L8.5 2.5l-.94 2.06-2.06.94zm10 10l.94 2.06.94-2.06 2.06-.94-2.06-.94-.94-2.06-.94 2.06-2.06.94z\"/><path d=\"M17.41 7.96l-1.37-1.37c-.4-.4-.92-.59-1.43-.59-.52 0-1.04.2-1.43.59L10.3 9.45l-7.72 7.72c-.78.78-.78 2.05 0 2.83L4 21.41c.39.39.9.59 1.41.59.51 0 1.02-.2 1.41-.59l7.78-7.78 2.81-2.81c.8-.78.8-2.07 0-2.86zM5.41 20L4 18.59l7.72-7.72 1.47 1.35L5.41 20z\"/>\n",
              "  </svg>\n",
              "      </button>\n",
              "      \n",
              "  <style>\n",
              "    .colab-df-container {\n",
              "      display:flex;\n",
              "      flex-wrap:wrap;\n",
              "      gap: 12px;\n",
              "    }\n",
              "\n",
              "    .colab-df-convert {\n",
              "      background-color: #E8F0FE;\n",
              "      border: none;\n",
              "      border-radius: 50%;\n",
              "      cursor: pointer;\n",
              "      display: none;\n",
              "      fill: #1967D2;\n",
              "      height: 32px;\n",
              "      padding: 0 0 0 0;\n",
              "      width: 32px;\n",
              "    }\n",
              "\n",
              "    .colab-df-convert:hover {\n",
              "      background-color: #E2EBFA;\n",
              "      box-shadow: 0px 1px 2px rgba(60, 64, 67, 0.3), 0px 1px 3px 1px rgba(60, 64, 67, 0.15);\n",
              "      fill: #174EA6;\n",
              "    }\n",
              "\n",
              "    [theme=dark] .colab-df-convert {\n",
              "      background-color: #3B4455;\n",
              "      fill: #D2E3FC;\n",
              "    }\n",
              "\n",
              "    [theme=dark] .colab-df-convert:hover {\n",
              "      background-color: #434B5C;\n",
              "      box-shadow: 0px 1px 3px 1px rgba(0, 0, 0, 0.15);\n",
              "      filter: drop-shadow(0px 1px 2px rgba(0, 0, 0, 0.3));\n",
              "      fill: #FFFFFF;\n",
              "    }\n",
              "  </style>\n",
              "\n",
              "      <script>\n",
              "        const buttonEl =\n",
              "          document.querySelector('#df-43437306-69b2-4df6-8aee-85855aff42ce button.colab-df-convert');\n",
              "        buttonEl.style.display =\n",
              "          google.colab.kernel.accessAllowed ? 'block' : 'none';\n",
              "\n",
              "        async function convertToInteractive(key) {\n",
              "          const element = document.querySelector('#df-43437306-69b2-4df6-8aee-85855aff42ce');\n",
              "          const dataTable =\n",
              "            await google.colab.kernel.invokeFunction('convertToInteractive',\n",
              "                                                     [key], {});\n",
              "          if (!dataTable) return;\n",
              "\n",
              "          const docLinkHtml = 'Like what you see? Visit the ' +\n",
              "            '<a target=\"_blank\" href=https://colab.research.google.com/notebooks/data_table.ipynb>data table notebook</a>'\n",
              "            + ' to learn more about interactive tables.';\n",
              "          element.innerHTML = '';\n",
              "          dataTable['output_type'] = 'display_data';\n",
              "          await google.colab.output.renderOutput(dataTable, element);\n",
              "          const docLink = document.createElement('div');\n",
              "          docLink.innerHTML = docLinkHtml;\n",
              "          element.appendChild(docLink);\n",
              "        }\n",
              "      </script>\n",
              "    </div>\n",
              "  </div>\n",
              "  "
            ]
          },
          "metadata": {},
          "execution_count": 170
        }
      ]
    },
    {
      "cell_type": "code",
      "source": [
        "limite.describe()"
      ],
      "metadata": {
        "colab": {
          "base_uri": "https://localhost:8080/",
          "height": 300
        },
        "id": "SdoAtDjVaQX6",
        "outputId": "57306268-15dc-4821-f331-ccf07b151772"
      },
      "execution_count": null,
      "outputs": [
        {
          "output_type": "execute_result",
          "data": {
            "text/plain": [
              "           Idade  RendimentoTotal       Salario  LimitedeCreditoImediato  \\\n",
              "count  48.000000        48.000000     48.000000                48.000000   \n",
              "mean   61.458333     12275.083333  10507.125000              2175.208333   \n",
              "std    15.284477     12640.654241   9332.173617               938.094469   \n",
              "min    30.000000      4300.000000   4027.000000               340.000000   \n",
              "25%    47.000000      6380.000000   5950.000000              1925.000000   \n",
              "50%    66.500000      8400.000000   7400.000000              2000.000000   \n",
              "75%    70.000000     12378.250000  10163.000000              3000.000000   \n",
              "max    94.000000     81000.000000  54500.000000              3500.000000   \n",
              "\n",
              "       Escolaridade     Gênero     Região  LimitedoChequeEspecial  \n",
              "count     48.000000  48.000000  48.000000               48.000000  \n",
              "mean       0.375000   0.458333   0.500000             5620.729167  \n",
              "std        0.489246   0.503534   0.505291             6131.900367  \n",
              "min        0.000000   0.000000   0.000000              500.000000  \n",
              "25%        0.000000   0.000000   0.000000             2262.500000  \n",
              "50%        0.000000   0.000000   0.500000             3550.000000  \n",
              "75%        1.000000   1.000000   1.000000             6500.000000  \n",
              "max        1.000000   1.000000   1.000000            35000.000000  "
            ],
            "text/html": [
              "\n",
              "  <div id=\"df-16763816-32cb-4fc0-9b67-3523ffe99816\">\n",
              "    <div class=\"colab-df-container\">\n",
              "      <div>\n",
              "<style scoped>\n",
              "    .dataframe tbody tr th:only-of-type {\n",
              "        vertical-align: middle;\n",
              "    }\n",
              "\n",
              "    .dataframe tbody tr th {\n",
              "        vertical-align: top;\n",
              "    }\n",
              "\n",
              "    .dataframe thead th {\n",
              "        text-align: right;\n",
              "    }\n",
              "</style>\n",
              "<table border=\"1\" class=\"dataframe\">\n",
              "  <thead>\n",
              "    <tr style=\"text-align: right;\">\n",
              "      <th></th>\n",
              "      <th>Idade</th>\n",
              "      <th>RendimentoTotal</th>\n",
              "      <th>Salario</th>\n",
              "      <th>LimitedeCreditoImediato</th>\n",
              "      <th>Escolaridade</th>\n",
              "      <th>Gênero</th>\n",
              "      <th>Região</th>\n",
              "      <th>LimitedoChequeEspecial</th>\n",
              "    </tr>\n",
              "  </thead>\n",
              "  <tbody>\n",
              "    <tr>\n",
              "      <th>count</th>\n",
              "      <td>48.000000</td>\n",
              "      <td>48.000000</td>\n",
              "      <td>48.000000</td>\n",
              "      <td>48.000000</td>\n",
              "      <td>48.000000</td>\n",
              "      <td>48.000000</td>\n",
              "      <td>48.000000</td>\n",
              "      <td>48.000000</td>\n",
              "    </tr>\n",
              "    <tr>\n",
              "      <th>mean</th>\n",
              "      <td>61.458333</td>\n",
              "      <td>12275.083333</td>\n",
              "      <td>10507.125000</td>\n",
              "      <td>2175.208333</td>\n",
              "      <td>0.375000</td>\n",
              "      <td>0.458333</td>\n",
              "      <td>0.500000</td>\n",
              "      <td>5620.729167</td>\n",
              "    </tr>\n",
              "    <tr>\n",
              "      <th>std</th>\n",
              "      <td>15.284477</td>\n",
              "      <td>12640.654241</td>\n",
              "      <td>9332.173617</td>\n",
              "      <td>938.094469</td>\n",
              "      <td>0.489246</td>\n",
              "      <td>0.503534</td>\n",
              "      <td>0.505291</td>\n",
              "      <td>6131.900367</td>\n",
              "    </tr>\n",
              "    <tr>\n",
              "      <th>min</th>\n",
              "      <td>30.000000</td>\n",
              "      <td>4300.000000</td>\n",
              "      <td>4027.000000</td>\n",
              "      <td>340.000000</td>\n",
              "      <td>0.000000</td>\n",
              "      <td>0.000000</td>\n",
              "      <td>0.000000</td>\n",
              "      <td>500.000000</td>\n",
              "    </tr>\n",
              "    <tr>\n",
              "      <th>25%</th>\n",
              "      <td>47.000000</td>\n",
              "      <td>6380.000000</td>\n",
              "      <td>5950.000000</td>\n",
              "      <td>1925.000000</td>\n",
              "      <td>0.000000</td>\n",
              "      <td>0.000000</td>\n",
              "      <td>0.000000</td>\n",
              "      <td>2262.500000</td>\n",
              "    </tr>\n",
              "    <tr>\n",
              "      <th>50%</th>\n",
              "      <td>66.500000</td>\n",
              "      <td>8400.000000</td>\n",
              "      <td>7400.000000</td>\n",
              "      <td>2000.000000</td>\n",
              "      <td>0.000000</td>\n",
              "      <td>0.000000</td>\n",
              "      <td>0.500000</td>\n",
              "      <td>3550.000000</td>\n",
              "    </tr>\n",
              "    <tr>\n",
              "      <th>75%</th>\n",
              "      <td>70.000000</td>\n",
              "      <td>12378.250000</td>\n",
              "      <td>10163.000000</td>\n",
              "      <td>3000.000000</td>\n",
              "      <td>1.000000</td>\n",
              "      <td>1.000000</td>\n",
              "      <td>1.000000</td>\n",
              "      <td>6500.000000</td>\n",
              "    </tr>\n",
              "    <tr>\n",
              "      <th>max</th>\n",
              "      <td>94.000000</td>\n",
              "      <td>81000.000000</td>\n",
              "      <td>54500.000000</td>\n",
              "      <td>3500.000000</td>\n",
              "      <td>1.000000</td>\n",
              "      <td>1.000000</td>\n",
              "      <td>1.000000</td>\n",
              "      <td>35000.000000</td>\n",
              "    </tr>\n",
              "  </tbody>\n",
              "</table>\n",
              "</div>\n",
              "      <button class=\"colab-df-convert\" onclick=\"convertToInteractive('df-16763816-32cb-4fc0-9b67-3523ffe99816')\"\n",
              "              title=\"Convert this dataframe to an interactive table.\"\n",
              "              style=\"display:none;\">\n",
              "        \n",
              "  <svg xmlns=\"http://www.w3.org/2000/svg\" height=\"24px\"viewBox=\"0 0 24 24\"\n",
              "       width=\"24px\">\n",
              "    <path d=\"M0 0h24v24H0V0z\" fill=\"none\"/>\n",
              "    <path d=\"M18.56 5.44l.94 2.06.94-2.06 2.06-.94-2.06-.94-.94-2.06-.94 2.06-2.06.94zm-11 1L8.5 8.5l.94-2.06 2.06-.94-2.06-.94L8.5 2.5l-.94 2.06-2.06.94zm10 10l.94 2.06.94-2.06 2.06-.94-2.06-.94-.94-2.06-.94 2.06-2.06.94z\"/><path d=\"M17.41 7.96l-1.37-1.37c-.4-.4-.92-.59-1.43-.59-.52 0-1.04.2-1.43.59L10.3 9.45l-7.72 7.72c-.78.78-.78 2.05 0 2.83L4 21.41c.39.39.9.59 1.41.59.51 0 1.02-.2 1.41-.59l7.78-7.78 2.81-2.81c.8-.78.8-2.07 0-2.86zM5.41 20L4 18.59l7.72-7.72 1.47 1.35L5.41 20z\"/>\n",
              "  </svg>\n",
              "      </button>\n",
              "      \n",
              "  <style>\n",
              "    .colab-df-container {\n",
              "      display:flex;\n",
              "      flex-wrap:wrap;\n",
              "      gap: 12px;\n",
              "    }\n",
              "\n",
              "    .colab-df-convert {\n",
              "      background-color: #E8F0FE;\n",
              "      border: none;\n",
              "      border-radius: 50%;\n",
              "      cursor: pointer;\n",
              "      display: none;\n",
              "      fill: #1967D2;\n",
              "      height: 32px;\n",
              "      padding: 0 0 0 0;\n",
              "      width: 32px;\n",
              "    }\n",
              "\n",
              "    .colab-df-convert:hover {\n",
              "      background-color: #E2EBFA;\n",
              "      box-shadow: 0px 1px 2px rgba(60, 64, 67, 0.3), 0px 1px 3px 1px rgba(60, 64, 67, 0.15);\n",
              "      fill: #174EA6;\n",
              "    }\n",
              "\n",
              "    [theme=dark] .colab-df-convert {\n",
              "      background-color: #3B4455;\n",
              "      fill: #D2E3FC;\n",
              "    }\n",
              "\n",
              "    [theme=dark] .colab-df-convert:hover {\n",
              "      background-color: #434B5C;\n",
              "      box-shadow: 0px 1px 3px 1px rgba(0, 0, 0, 0.15);\n",
              "      filter: drop-shadow(0px 1px 2px rgba(0, 0, 0, 0.3));\n",
              "      fill: #FFFFFF;\n",
              "    }\n",
              "  </style>\n",
              "\n",
              "      <script>\n",
              "        const buttonEl =\n",
              "          document.querySelector('#df-16763816-32cb-4fc0-9b67-3523ffe99816 button.colab-df-convert');\n",
              "        buttonEl.style.display =\n",
              "          google.colab.kernel.accessAllowed ? 'block' : 'none';\n",
              "\n",
              "        async function convertToInteractive(key) {\n",
              "          const element = document.querySelector('#df-16763816-32cb-4fc0-9b67-3523ffe99816');\n",
              "          const dataTable =\n",
              "            await google.colab.kernel.invokeFunction('convertToInteractive',\n",
              "                                                     [key], {});\n",
              "          if (!dataTable) return;\n",
              "\n",
              "          const docLinkHtml = 'Like what you see? Visit the ' +\n",
              "            '<a target=\"_blank\" href=https://colab.research.google.com/notebooks/data_table.ipynb>data table notebook</a>'\n",
              "            + ' to learn more about interactive tables.';\n",
              "          element.innerHTML = '';\n",
              "          dataTable['output_type'] = 'display_data';\n",
              "          await google.colab.output.renderOutput(dataTable, element);\n",
              "          const docLink = document.createElement('div');\n",
              "          docLink.innerHTML = docLinkHtml;\n",
              "          element.appendChild(docLink);\n",
              "        }\n",
              "      </script>\n",
              "    </div>\n",
              "  </div>\n",
              "  "
            ]
          },
          "metadata": {},
          "execution_count": 200
        }
      ]
    },
    {
      "cell_type": "code",
      "source": [
        "limite.corr()"
      ],
      "metadata": {
        "colab": {
          "base_uri": "https://localhost:8080/",
          "height": 206
        },
        "id": "e_yR2xQi9qGP",
        "outputId": "bb1ac1cc-fcc1-42e5-b7ec-93a120ef17e0"
      },
      "execution_count": null,
      "outputs": [
        {
          "output_type": "execute_result",
          "data": {
            "text/plain": [
              "                            Idade  RendimentoTotal   Salario  \\\n",
              "Idade                    1.000000         0.239445  0.213186   \n",
              "RendimentoTotal          0.239445         1.000000  0.960551   \n",
              "Salario                  0.213186         0.960551  1.000000   \n",
              "LimitedeCreditoImediato  0.057183         0.031041  0.081792   \n",
              "LimitedoChequeEspecial   0.228117         0.858120  0.888839   \n",
              "\n",
              "                         LimitedeCreditoImediato  LimitedoChequeEspecial  \n",
              "Idade                                   0.057183                0.228117  \n",
              "RendimentoTotal                         0.031041                0.858120  \n",
              "Salario                                 0.081792                0.888839  \n",
              "LimitedeCreditoImediato                 1.000000                0.226990  \n",
              "LimitedoChequeEspecial                  0.226990                1.000000  "
            ],
            "text/html": [
              "\n",
              "  <div id=\"df-198092f3-2a90-4b68-a028-5865fdaf06d9\">\n",
              "    <div class=\"colab-df-container\">\n",
              "      <div>\n",
              "<style scoped>\n",
              "    .dataframe tbody tr th:only-of-type {\n",
              "        vertical-align: middle;\n",
              "    }\n",
              "\n",
              "    .dataframe tbody tr th {\n",
              "        vertical-align: top;\n",
              "    }\n",
              "\n",
              "    .dataframe thead th {\n",
              "        text-align: right;\n",
              "    }\n",
              "</style>\n",
              "<table border=\"1\" class=\"dataframe\">\n",
              "  <thead>\n",
              "    <tr style=\"text-align: right;\">\n",
              "      <th></th>\n",
              "      <th>Idade</th>\n",
              "      <th>RendimentoTotal</th>\n",
              "      <th>Salario</th>\n",
              "      <th>LimitedeCreditoImediato</th>\n",
              "      <th>LimitedoChequeEspecial</th>\n",
              "    </tr>\n",
              "  </thead>\n",
              "  <tbody>\n",
              "    <tr>\n",
              "      <th>Idade</th>\n",
              "      <td>1.000000</td>\n",
              "      <td>0.239445</td>\n",
              "      <td>0.213186</td>\n",
              "      <td>0.057183</td>\n",
              "      <td>0.228117</td>\n",
              "    </tr>\n",
              "    <tr>\n",
              "      <th>RendimentoTotal</th>\n",
              "      <td>0.239445</td>\n",
              "      <td>1.000000</td>\n",
              "      <td>0.960551</td>\n",
              "      <td>0.031041</td>\n",
              "      <td>0.858120</td>\n",
              "    </tr>\n",
              "    <tr>\n",
              "      <th>Salario</th>\n",
              "      <td>0.213186</td>\n",
              "      <td>0.960551</td>\n",
              "      <td>1.000000</td>\n",
              "      <td>0.081792</td>\n",
              "      <td>0.888839</td>\n",
              "    </tr>\n",
              "    <tr>\n",
              "      <th>LimitedeCreditoImediato</th>\n",
              "      <td>0.057183</td>\n",
              "      <td>0.031041</td>\n",
              "      <td>0.081792</td>\n",
              "      <td>1.000000</td>\n",
              "      <td>0.226990</td>\n",
              "    </tr>\n",
              "    <tr>\n",
              "      <th>LimitedoChequeEspecial</th>\n",
              "      <td>0.228117</td>\n",
              "      <td>0.858120</td>\n",
              "      <td>0.888839</td>\n",
              "      <td>0.226990</td>\n",
              "      <td>1.000000</td>\n",
              "    </tr>\n",
              "  </tbody>\n",
              "</table>\n",
              "</div>\n",
              "      <button class=\"colab-df-convert\" onclick=\"convertToInteractive('df-198092f3-2a90-4b68-a028-5865fdaf06d9')\"\n",
              "              title=\"Convert this dataframe to an interactive table.\"\n",
              "              style=\"display:none;\">\n",
              "        \n",
              "  <svg xmlns=\"http://www.w3.org/2000/svg\" height=\"24px\"viewBox=\"0 0 24 24\"\n",
              "       width=\"24px\">\n",
              "    <path d=\"M0 0h24v24H0V0z\" fill=\"none\"/>\n",
              "    <path d=\"M18.56 5.44l.94 2.06.94-2.06 2.06-.94-2.06-.94-.94-2.06-.94 2.06-2.06.94zm-11 1L8.5 8.5l.94-2.06 2.06-.94-2.06-.94L8.5 2.5l-.94 2.06-2.06.94zm10 10l.94 2.06.94-2.06 2.06-.94-2.06-.94-.94-2.06-.94 2.06-2.06.94z\"/><path d=\"M17.41 7.96l-1.37-1.37c-.4-.4-.92-.59-1.43-.59-.52 0-1.04.2-1.43.59L10.3 9.45l-7.72 7.72c-.78.78-.78 2.05 0 2.83L4 21.41c.39.39.9.59 1.41.59.51 0 1.02-.2 1.41-.59l7.78-7.78 2.81-2.81c.8-.78.8-2.07 0-2.86zM5.41 20L4 18.59l7.72-7.72 1.47 1.35L5.41 20z\"/>\n",
              "  </svg>\n",
              "      </button>\n",
              "      \n",
              "  <style>\n",
              "    .colab-df-container {\n",
              "      display:flex;\n",
              "      flex-wrap:wrap;\n",
              "      gap: 12px;\n",
              "    }\n",
              "\n",
              "    .colab-df-convert {\n",
              "      background-color: #E8F0FE;\n",
              "      border: none;\n",
              "      border-radius: 50%;\n",
              "      cursor: pointer;\n",
              "      display: none;\n",
              "      fill: #1967D2;\n",
              "      height: 32px;\n",
              "      padding: 0 0 0 0;\n",
              "      width: 32px;\n",
              "    }\n",
              "\n",
              "    .colab-df-convert:hover {\n",
              "      background-color: #E2EBFA;\n",
              "      box-shadow: 0px 1px 2px rgba(60, 64, 67, 0.3), 0px 1px 3px 1px rgba(60, 64, 67, 0.15);\n",
              "      fill: #174EA6;\n",
              "    }\n",
              "\n",
              "    [theme=dark] .colab-df-convert {\n",
              "      background-color: #3B4455;\n",
              "      fill: #D2E3FC;\n",
              "    }\n",
              "\n",
              "    [theme=dark] .colab-df-convert:hover {\n",
              "      background-color: #434B5C;\n",
              "      box-shadow: 0px 1px 3px 1px rgba(0, 0, 0, 0.15);\n",
              "      filter: drop-shadow(0px 1px 2px rgba(0, 0, 0, 0.3));\n",
              "      fill: #FFFFFF;\n",
              "    }\n",
              "  </style>\n",
              "\n",
              "      <script>\n",
              "        const buttonEl =\n",
              "          document.querySelector('#df-198092f3-2a90-4b68-a028-5865fdaf06d9 button.colab-df-convert');\n",
              "        buttonEl.style.display =\n",
              "          google.colab.kernel.accessAllowed ? 'block' : 'none';\n",
              "\n",
              "        async function convertToInteractive(key) {\n",
              "          const element = document.querySelector('#df-198092f3-2a90-4b68-a028-5865fdaf06d9');\n",
              "          const dataTable =\n",
              "            await google.colab.kernel.invokeFunction('convertToInteractive',\n",
              "                                                     [key], {});\n",
              "          if (!dataTable) return;\n",
              "\n",
              "          const docLinkHtml = 'Like what you see? Visit the ' +\n",
              "            '<a target=\"_blank\" href=https://colab.research.google.com/notebooks/data_table.ipynb>data table notebook</a>'\n",
              "            + ' to learn more about interactive tables.';\n",
              "          element.innerHTML = '';\n",
              "          dataTable['output_type'] = 'display_data';\n",
              "          await google.colab.output.renderOutput(dataTable, element);\n",
              "          const docLink = document.createElement('div');\n",
              "          docLink.innerHTML = docLinkHtml;\n",
              "          element.appendChild(docLink);\n",
              "        }\n",
              "      </script>\n",
              "    </div>\n",
              "  </div>\n",
              "  "
            ]
          },
          "metadata": {},
          "execution_count": 171
        }
      ]
    },
    {
      "cell_type": "code",
      "source": [
        "from sklearn.preprocessing import LabelEncoder\n",
        "le = LabelEncoder()\n",
        "\n",
        "#escolaridade\n",
        "le.fit(limite.Escolaridade) \n",
        "limite.Escolaridade = le.transform(limite.Escolaridade)\n",
        "\n",
        "# gênero\n",
        "le.fit(limite.Gênero) \n",
        "limite.Gênero = le.transform(limite.Gênero)\n",
        "\n",
        "#regiao\n",
        "le.fit(limite.Região) \n",
        "limite.Região = le.transform(limite.Região)"
      ],
      "metadata": {
        "id": "50yGTqjarfo6"
      },
      "execution_count": null,
      "outputs": []
    },
    {
      "cell_type": "code",
      "source": [
        "sns.histplot(limite, x=\"Idade\", kde=True)"
      ],
      "metadata": {
        "colab": {
          "base_uri": "https://localhost:8080/",
          "height": 297
        },
        "id": "s7qWUnunGYtu",
        "outputId": "caa0e9c9-ad96-46db-e5d7-12caeb209c6a"
      },
      "execution_count": null,
      "outputs": [
        {
          "output_type": "execute_result",
          "data": {
            "text/plain": [
              "<matplotlib.axes._subplots.AxesSubplot at 0x7fe0ace53b10>"
            ]
          },
          "metadata": {},
          "execution_count": 173
        },
        {
          "output_type": "display_data",
          "data": {
            "text/plain": [
              "<Figure size 432x288 with 1 Axes>"
            ],
            "image/png": "[encoded data removed]"
          },
          "metadata": {
            "needs_background": "light"
          }
        }
      ]
    },
    {
      "cell_type": "code",
      "source": [
        "sns.histplot(limite, x=\"RendimentoTotal\",kde=True)"
      ],
      "metadata": {
        "colab": {
          "base_uri": "https://localhost:8080/",
          "height": 297
        },
        "id": "yWXNerQIHNnZ",
        "outputId": "498734a8-a9ba-45b4-f7dd-a581c9052e22"
      },
      "execution_count": null,
      "outputs": [
        {
          "output_type": "execute_result",
          "data": {
            "text/plain": [
              "<matplotlib.axes._subplots.AxesSubplot at 0x7fe0ace21ad0>"
            ]
          },
          "metadata": {},
          "execution_count": 174
        },
        {
          "output_type": "display_data",
          "data": {
            "text/plain": [
              "<Figure size 432x288 with 1 Axes>"
            ],
            "image/png": "[encoded data removed]"
          },
          "metadata": {
            "needs_background": "light"
          }
        }
      ]
    },
    {
      "cell_type": "code",
      "source": [
        "sns.histplot(limite, x=\"Salario\", kde=True)"
      ],
      "metadata": {
        "colab": {
          "base_uri": "https://localhost:8080/",
          "height": 297
        },
        "id": "B6-QfMs0HT5j",
        "outputId": "9fe73c27-0a82-4626-bcd9-68678a240c22"
      },
      "execution_count": null,
      "outputs": [
        {
          "output_type": "execute_result",
          "data": {
            "text/plain": [
              "<matplotlib.axes._subplots.AxesSubplot at 0x7fe0ad066b90>"
            ]
          },
          "metadata": {},
          "execution_count": 175
        },
        {
          "output_type": "display_data",
          "data": {
            "text/plain": [
              "<Figure size 432x288 with 1 Axes>"
            ],
            "image/png": "[encoded data removed]"
          },
          "metadata": {
            "needs_background": "light"
          }
        }
      ]
    },
    {
      "cell_type": "code",
      "source": [
        "sns.histplot(limite, x=\"LimitedeCreditoImediato\", kde=True)"
      ],
      "metadata": {
        "colab": {
          "base_uri": "https://localhost:8080/",
          "height": 297
        },
        "id": "oAXtIDDeHYUp",
        "outputId": "d4d7fedd-600d-4f19-efef-ab5750953580"
      },
      "execution_count": null,
      "outputs": [
        {
          "output_type": "execute_result",
          "data": {
            "text/plain": [
              "<matplotlib.axes._subplots.AxesSubplot at 0x7fe0accb19d0>"
            ]
          },
          "metadata": {},
          "execution_count": 176
        },
        {
          "output_type": "display_data",
          "data": {
            "text/plain": [
              "<Figure size 432x288 with 1 Axes>"
            ],
            "image/png": "[encoded data removed]"
          },
          "metadata": {
            "needs_background": "light"
          }
        }
      ]
    },
    {
      "cell_type": "code",
      "source": [
        "sns.histplot(limite, x=\"LimitedoChequeEspecial\", kde=True)"
      ],
      "metadata": {
        "colab": {
          "base_uri": "https://localhost:8080/",
          "height": 297
        },
        "id": "wNHZ8w9iHcpj",
        "outputId": "e7060458-1dfc-4d60-843f-9daec0a0f7f8"
      },
      "execution_count": null,
      "outputs": [
        {
          "output_type": "execute_result",
          "data": {
            "text/plain": [
              "<matplotlib.axes._subplots.AxesSubplot at 0x7fe0accda510>"
            ]
          },
          "metadata": {},
          "execution_count": 177
        },
        {
          "output_type": "display_data",
          "data": {
            "text/plain": [
              "<Figure size 432x288 with 1 Axes>"
            ],
            "image/png": "[encoded data removed]"
          },
          "metadata": {
            "needs_background": "light"
          }
        }
      ]
    },
    {
      "cell_type": "code",
      "source": [
        "from sklearn.preprocessing import MinMaxScaler\n",
        "scaler = MinMaxScaler()\n",
        "\n",
        "\n",
        "limite_norm = pd.DataFrame(scaler.fit_transform(limite), index=limite.index, columns=limite.columns)"
      ],
      "metadata": {
        "id": "Pdk8BBWUxCJY"
      },
      "execution_count": null,
      "outputs": []
    },
    {
      "cell_type": "code",
      "source": [
        "\n",
        "limite_norm.head()"
      ],
      "metadata": {
        "colab": {
          "base_uri": "https://localhost:8080/",
          "height": 206
        },
        "id": "pORGJPurxQpR",
        "outputId": "16406ed6-363c-42c3-9274-86d354666dfc"
      },
      "execution_count": null,
      "outputs": [
        {
          "output_type": "execute_result",
          "data": {
            "text/plain": [
              "      Idade  RendimentoTotal   Salario  LimitedeCreditoImediato  Escolaridade  \\\n",
              "0  0.625000         0.083911  0.023518                 0.018987           0.0   \n",
              "1  0.593750         0.009126  0.019278                 0.012658           0.0   \n",
              "2  0.218750         0.019557  0.035128                 0.050633           0.0   \n",
              "3  0.656250         0.000000  0.005409                 0.525316           0.0   \n",
              "4  0.703125         0.001304  0.007390                 0.841772           0.0   \n",
              "\n",
              "   Gênero  Região  LimitedoChequeEspecial  \n",
              "0     0.0     0.0                0.000000  \n",
              "1     0.0     0.0                0.002899  \n",
              "2     0.0     0.0                0.008696  \n",
              "3     0.0     0.0                0.014493  \n",
              "4     0.0     0.0                0.014493  "
            ],
            "text/html": [
              "\n",
              "  <div id=\"df-eecb6d34-c0fa-4daa-a5a5-7d16a5f30428\">\n",
              "    <div class=\"colab-df-container\">\n",
              "      <div>\n",
              "<style scoped>\n",
              "    .dataframe tbody tr th:only-of-type {\n",
              "        vertical-align: middle;\n",
              "    }\n",
              "\n",
              "    .dataframe tbody tr th {\n",
              "        vertical-align: top;\n",
              "    }\n",
              "\n",
              "    .dataframe thead th {\n",
              "        text-align: right;\n",
              "    }\n",
              "</style>\n",
              "<table border=\"1\" class=\"dataframe\">\n",
              "  <thead>\n",
              "    <tr style=\"text-align: right;\">\n",
              "      <th></th>\n",
              "      <th>Idade</th>\n",
              "      <th>RendimentoTotal</th>\n",
              "      <th>Salario</th>\n",
              "      <th>LimitedeCreditoImediato</th>\n",
              "      <th>Escolaridade</th>\n",
              "      <th>Gênero</th>\n",
              "      <th>Região</th>\n",
              "      <th>LimitedoChequeEspecial</th>\n",
              "    </tr>\n",
              "  </thead>\n",
              "  <tbody>\n",
              "    <tr>\n",
              "      <th>0</th>\n",
              "      <td>0.625000</td>\n",
              "      <td>0.083911</td>\n",
              "      <td>0.023518</td>\n",
              "      <td>0.018987</td>\n",
              "      <td>0.0</td>\n",
              "      <td>0.0</td>\n",
              "      <td>0.0</td>\n",
              "      <td>0.000000</td>\n",
              "    </tr>\n",
              "    <tr>\n",
              "      <th>1</th>\n",
              "      <td>0.593750</td>\n",
              "      <td>0.009126</td>\n",
              "      <td>0.019278</td>\n",
              "      <td>0.012658</td>\n",
              "      <td>0.0</td>\n",
              "      <td>0.0</td>\n",
              "      <td>0.0</td>\n",
              "      <td>0.002899</td>\n",
              "    </tr>\n",
              "    <tr>\n",
              "      <th>2</th>\n",
              "      <td>0.218750</td>\n",
              "      <td>0.019557</td>\n",
              "      <td>0.035128</td>\n",
              "      <td>0.050633</td>\n",
              "      <td>0.0</td>\n",
              "      <td>0.0</td>\n",
              "      <td>0.0</td>\n",
              "      <td>0.008696</td>\n",
              "    </tr>\n",
              "    <tr>\n",
              "      <th>3</th>\n",
              "      <td>0.656250</td>\n",
              "      <td>0.000000</td>\n",
              "      <td>0.005409</td>\n",
              "      <td>0.525316</td>\n",
              "      <td>0.0</td>\n",
              "      <td>0.0</td>\n",
              "      <td>0.0</td>\n",
              "      <td>0.014493</td>\n",
              "    </tr>\n",
              "    <tr>\n",
              "      <th>4</th>\n",
              "      <td>0.703125</td>\n",
              "      <td>0.001304</td>\n",
              "      <td>0.007390</td>\n",
              "      <td>0.841772</td>\n",
              "      <td>0.0</td>\n",
              "      <td>0.0</td>\n",
              "      <td>0.0</td>\n",
              "      <td>0.014493</td>\n",
              "    </tr>\n",
              "  </tbody>\n",
              "</table>\n",
              "</div>\n",
              "      <button class=\"colab-df-convert\" onclick=\"convertToInteractive('df-eecb6d34-c0fa-4daa-a5a5-7d16a5f30428')\"\n",
              "              title=\"Convert this dataframe to an interactive table.\"\n",
              "              style=\"display:none;\">\n",
              "        \n",
              "  <svg xmlns=\"http://www.w3.org/2000/svg\" height=\"24px\"viewBox=\"0 0 24 24\"\n",
              "       width=\"24px\">\n",
              "    <path d=\"M0 0h24v24H0V0z\" fill=\"none\"/>\n",
              "    <path d=\"M18.56 5.44l.94 2.06.94-2.06 2.06-.94-2.06-.94-.94-2.06-.94 2.06-2.06.94zm-11 1L8.5 8.5l.94-2.06 2.06-.94-2.06-.94L8.5 2.5l-.94 2.06-2.06.94zm10 10l.94 2.06.94-2.06 2.06-.94-2.06-.94-.94-2.06-.94 2.06-2.06.94z\"/><path d=\"M17.41 7.96l-1.37-1.37c-.4-.4-.92-.59-1.43-.59-.52 0-1.04.2-1.43.59L10.3 9.45l-7.72 7.72c-.78.78-.78 2.05 0 2.83L4 21.41c.39.39.9.59 1.41.59.51 0 1.02-.2 1.41-.59l7.78-7.78 2.81-2.81c.8-.78.8-2.07 0-2.86zM5.41 20L4 18.59l7.72-7.72 1.47 1.35L5.41 20z\"/>\n",
              "  </svg>\n",
              "      </button>\n",
              "      \n",
              "  <style>\n",
              "    .colab-df-container {\n",
              "      display:flex;\n",
              "      flex-wrap:wrap;\n",
              "      gap: 12px;\n",
              "    }\n",
              "\n",
              "    .colab-df-convert {\n",
              "      background-color: #E8F0FE;\n",
              "      border: none;\n",
              "      border-radius: 50%;\n",
              "      cursor: pointer;\n",
              "      display: none;\n",
              "      fill: #1967D2;\n",
              "      height: 32px;\n",
              "      padding: 0 0 0 0;\n",
              "      width: 32px;\n",
              "    }\n",
              "\n",
              "    .colab-df-convert:hover {\n",
              "      background-color: #E2EBFA;\n",
              "      box-shadow: 0px 1px 2px rgba(60, 64, 67, 0.3), 0px 1px 3px 1px rgba(60, 64, 67, 0.15);\n",
              "      fill: #174EA6;\n",
              "    }\n",
              "\n",
              "    [theme=dark] .colab-df-convert {\n",
              "      background-color: #3B4455;\n",
              "      fill: #D2E3FC;\n",
              "    }\n",
              "\n",
              "    [theme=dark] .colab-df-convert:hover {\n",
              "      background-color: #434B5C;\n",
              "      box-shadow: 0px 1px 3px 1px rgba(0, 0, 0, 0.15);\n",
              "      filter: drop-shadow(0px 1px 2px rgba(0, 0, 0, 0.3));\n",
              "      fill: #FFFFFF;\n",
              "    }\n",
              "  </style>\n",
              "\n",
              "      <script>\n",
              "        const buttonEl =\n",
              "          document.querySelector('#df-eecb6d34-c0fa-4daa-a5a5-7d16a5f30428 button.colab-df-convert');\n",
              "        buttonEl.style.display =\n",
              "          google.colab.kernel.accessAllowed ? 'block' : 'none';\n",
              "\n",
              "        async function convertToInteractive(key) {\n",
              "          const element = document.querySelector('#df-eecb6d34-c0fa-4daa-a5a5-7d16a5f30428');\n",
              "          const dataTable =\n",
              "            await google.colab.kernel.invokeFunction('convertToInteractive',\n",
              "                                                     [key], {});\n",
              "          if (!dataTable) return;\n",
              "\n",
              "          const docLinkHtml = 'Like what you see? Visit the ' +\n",
              "            '<a target=\"_blank\" href=https://colab.research.google.com/notebooks/data_table.ipynb>data table notebook</a>'\n",
              "            + ' to learn more about interactive tables.';\n",
              "          element.innerHTML = '';\n",
              "          dataTable['output_type'] = 'display_data';\n",
              "          await google.colab.output.renderOutput(dataTable, element);\n",
              "          const docLink = document.createElement('div');\n",
              "          docLink.innerHTML = docLinkHtml;\n",
              "          element.appendChild(docLink);\n",
              "        }\n",
              "      </script>\n",
              "    </div>\n",
              "  </div>\n",
              "  "
            ]
          },
          "metadata": {},
          "execution_count": 179
        }
      ]
    },
    {
      "cell_type": "code",
      "source": [
        "from sklearn.preprocessing import StandardScaler\n",
        "scaler = StandardScaler()\n",
        "\n",
        "\n",
        "limite_norm = pd.DataFrame(scaler.fit_transform(limite), index=limite.index, columns=limite.columns)"
      ],
      "metadata": {
        "id": "kwC3vO7Wb1R0"
      },
      "execution_count": null,
      "outputs": []
    },
    {
      "cell_type": "code",
      "source": [
        "limite_norm.head()"
      ],
      "metadata": {
        "colab": {
          "base_uri": "https://localhost:8080/",
          "height": 206
        },
        "id": "M6yaMeU7b8Jm",
        "outputId": "40de31e3-3531-42d3-968e-1d5f23a7b6d9"
      },
      "execution_count": null,
      "outputs": [
        {
          "output_type": "execute_result",
          "data": {
            "text/plain": [
              "      Idade  RendimentoTotal   Salario  LimitedeCreditoImediato  Escolaridade  \\\n",
              "0  0.564760        -0.123045 -0.573193                -1.912381     -0.774597   \n",
              "1  0.432523        -0.581621 -0.596367                -1.933927     -0.774597   \n",
              "2 -1.154314        -0.517663 -0.509735                -1.804654     -0.774597   \n",
              "3  0.696996        -0.637584 -0.672170                -0.188747     -0.774597   \n",
              "4  0.895351        -0.629589 -0.661341                 0.888524     -0.774597   \n",
              "\n",
              "     Gênero  Região  LimitedoChequeEspecial  \n",
              "0 -0.919866    -1.0               -0.843934  \n",
              "1 -0.919866    -1.0               -0.827453  \n",
              "2 -0.919866    -1.0               -0.794492  \n",
              "3 -0.919866    -1.0               -0.761530  \n",
              "4 -0.919866    -1.0               -0.761530  "
            ],
            "text/html": [
              "\n",
              "  <div id=\"df-9ec7ae2e-494e-4879-ad6b-6cb1a1b2287c\">\n",
              "    <div class=\"colab-df-container\">\n",
              "      <div>\n",
              "<style scoped>\n",
              "    .dataframe tbody tr th:only-of-type {\n",
              "        vertical-align: middle;\n",
              "    }\n",
              "\n",
              "    .dataframe tbody tr th {\n",
              "        vertical-align: top;\n",
              "    }\n",
              "\n",
              "    .dataframe thead th {\n",
              "        text-align: right;\n",
              "    }\n",
              "</style>\n",
              "<table border=\"1\" class=\"dataframe\">\n",
              "  <thead>\n",
              "    <tr style=\"text-align: right;\">\n",
              "      <th></th>\n",
              "      <th>Idade</th>\n",
              "      <th>RendimentoTotal</th>\n",
              "      <th>Salario</th>\n",
              "      <th>LimitedeCreditoImediato</th>\n",
              "      <th>Escolaridade</th>\n",
              "      <th>Gênero</th>\n",
              "      <th>Região</th>\n",
              "      <th>LimitedoChequeEspecial</th>\n",
              "    </tr>\n",
              "  </thead>\n",
              "  <tbody>\n",
              "    <tr>\n",
              "      <th>0</th>\n",
              "      <td>0.564760</td>\n",
              "      <td>-0.123045</td>\n",
              "      <td>-0.573193</td>\n",
              "      <td>-1.912381</td>\n",
              "      <td>-0.774597</td>\n",
              "      <td>-0.919866</td>\n",
              "      <td>-1.0</td>\n",
              "      <td>-0.843934</td>\n",
              "    </tr>\n",
              "    <tr>\n",
              "      <th>1</th>\n",
              "      <td>0.432523</td>\n",
              "      <td>-0.581621</td>\n",
              "      <td>-0.596367</td>\n",
              "      <td>-1.933927</td>\n",
              "      <td>-0.774597</td>\n",
              "      <td>-0.919866</td>\n",
              "      <td>-1.0</td>\n",
              "      <td>-0.827453</td>\n",
              "    </tr>\n",
              "    <tr>\n",
              "      <th>2</th>\n",
              "      <td>-1.154314</td>\n",
              "      <td>-0.517663</td>\n",
              "      <td>-0.509735</td>\n",
              "      <td>-1.804654</td>\n",
              "      <td>-0.774597</td>\n",
              "      <td>-0.919866</td>\n",
              "      <td>-1.0</td>\n",
              "      <td>-0.794492</td>\n",
              "    </tr>\n",
              "    <tr>\n",
              "      <th>3</th>\n",
              "      <td>0.696996</td>\n",
              "      <td>-0.637584</td>\n",
              "      <td>-0.672170</td>\n",
              "      <td>-0.188747</td>\n",
              "      <td>-0.774597</td>\n",
              "      <td>-0.919866</td>\n",
              "      <td>-1.0</td>\n",
              "      <td>-0.761530</td>\n",
              "    </tr>\n",
              "    <tr>\n",
              "      <th>4</th>\n",
              "      <td>0.895351</td>\n",
              "      <td>-0.629589</td>\n",
              "      <td>-0.661341</td>\n",
              "      <td>0.888524</td>\n",
              "      <td>-0.774597</td>\n",
              "      <td>-0.919866</td>\n",
              "      <td>-1.0</td>\n",
              "      <td>-0.761530</td>\n",
              "    </tr>\n",
              "  </tbody>\n",
              "</table>\n",
              "</div>\n",
              "      <button class=\"colab-df-convert\" onclick=\"convertToInteractive('df-9ec7ae2e-494e-4879-ad6b-6cb1a1b2287c')\"\n",
              "              title=\"Convert this dataframe to an interactive table.\"\n",
              "              style=\"display:none;\">\n",
              "        \n",
              "  <svg xmlns=\"http://www.w3.org/2000/svg\" height=\"24px\"viewBox=\"0 0 24 24\"\n",
              "       width=\"24px\">\n",
              "    <path d=\"M0 0h24v24H0V0z\" fill=\"none\"/>\n",
              "    <path d=\"M18.56 5.44l.94 2.06.94-2.06 2.06-.94-2.06-.94-.94-2.06-.94 2.06-2.06.94zm-11 1L8.5 8.5l.94-2.06 2.06-.94-2.06-.94L8.5 2.5l-.94 2.06-2.06.94zm10 10l.94 2.06.94-2.06 2.06-.94-2.06-.94-.94-2.06-.94 2.06-2.06.94z\"/><path d=\"M17.41 7.96l-1.37-1.37c-.4-.4-.92-.59-1.43-.59-.52 0-1.04.2-1.43.59L10.3 9.45l-7.72 7.72c-.78.78-.78 2.05 0 2.83L4 21.41c.39.39.9.59 1.41.59.51 0 1.02-.2 1.41-.59l7.78-7.78 2.81-2.81c.8-.78.8-2.07 0-2.86zM5.41 20L4 18.59l7.72-7.72 1.47 1.35L5.41 20z\"/>\n",
              "  </svg>\n",
              "      </button>\n",
              "      \n",
              "  <style>\n",
              "    .colab-df-container {\n",
              "      display:flex;\n",
              "      flex-wrap:wrap;\n",
              "      gap: 12px;\n",
              "    }\n",
              "\n",
              "    .colab-df-convert {\n",
              "      background-color: #E8F0FE;\n",
              "      border: none;\n",
              "      border-radius: 50%;\n",
              "      cursor: pointer;\n",
              "      display: none;\n",
              "      fill: #1967D2;\n",
              "      height: 32px;\n",
              "      padding: 0 0 0 0;\n",
              "      width: 32px;\n",
              "    }\n",
              "\n",
              "    .colab-df-convert:hover {\n",
              "      background-color: #E2EBFA;\n",
              "      box-shadow: 0px 1px 2px rgba(60, 64, 67, 0.3), 0px 1px 3px 1px rgba(60, 64, 67, 0.15);\n",
              "      fill: #174EA6;\n",
              "    }\n",
              "\n",
              "    [theme=dark] .colab-df-convert {\n",
              "      background-color: #3B4455;\n",
              "      fill: #D2E3FC;\n",
              "    }\n",
              "\n",
              "    [theme=dark] .colab-df-convert:hover {\n",
              "      background-color: #434B5C;\n",
              "      box-shadow: 0px 1px 3px 1px rgba(0, 0, 0, 0.15);\n",
              "      filter: drop-shadow(0px 1px 2px rgba(0, 0, 0, 0.3));\n",
              "      fill: #FFFFFF;\n",
              "    }\n",
              "  </style>\n",
              "\n",
              "      <script>\n",
              "        const buttonEl =\n",
              "          document.querySelector('#df-9ec7ae2e-494e-4879-ad6b-6cb1a1b2287c button.colab-df-convert');\n",
              "        buttonEl.style.display =\n",
              "          google.colab.kernel.accessAllowed ? 'block' : 'none';\n",
              "\n",
              "        async function convertToInteractive(key) {\n",
              "          const element = document.querySelector('#df-9ec7ae2e-494e-4879-ad6b-6cb1a1b2287c');\n",
              "          const dataTable =\n",
              "            await google.colab.kernel.invokeFunction('convertToInteractive',\n",
              "                                                     [key], {});\n",
              "          if (!dataTable) return;\n",
              "\n",
              "          const docLinkHtml = 'Like what you see? Visit the ' +\n",
              "            '<a target=\"_blank\" href=https://colab.research.google.com/notebooks/data_table.ipynb>data table notebook</a>'\n",
              "            + ' to learn more about interactive tables.';\n",
              "          element.innerHTML = '';\n",
              "          dataTable['output_type'] = 'display_data';\n",
              "          await google.colab.output.renderOutput(dataTable, element);\n",
              "          const docLink = document.createElement('div');\n",
              "          docLink.innerHTML = docLinkHtml;\n",
              "          element.appendChild(docLink);\n",
              "        }\n",
              "      </script>\n",
              "    </div>\n",
              "  </div>\n",
              "  "
            ]
          },
          "metadata": {},
          "execution_count": 202
        }
      ]
    },
    {
      "cell_type": "code",
      "source": [
        "sns.histplot(limite_norm, x=\"Idade\", kde=True)"
      ],
      "metadata": {
        "colab": {
          "base_uri": "https://localhost:8080/",
          "height": 297
        },
        "id": "WzJdCaKFHlfA",
        "outputId": "dac64c1f-9706-4819-ae90-c4eda5415e65"
      },
      "execution_count": null,
      "outputs": [
        {
          "output_type": "execute_result",
          "data": {
            "text/plain": [
              "<matplotlib.axes._subplots.AxesSubplot at 0x7fe0acb6e3d0>"
            ]
          },
          "metadata": {},
          "execution_count": 180
        },
        {
          "output_type": "display_data",
          "data": {
            "text/plain": [
              "<Figure size 432x288 with 1 Axes>"
            ],
            "image/png": "[encoded data removed]"
          },
          "metadata": {
            "needs_background": "light"
          }
        }
      ]
    },
    {
      "cell_type": "code",
      "source": [
        "sns.histplot(limite_norm, x=\"RendimentoTotal\", kde=True)"
      ],
      "metadata": {
        "colab": {
          "base_uri": "https://localhost:8080/",
          "height": 297
        },
        "id": "MY-oIYCKH4dz",
        "outputId": "91208d52-54d6-484a-b6a3-0e65ee3e8e2b"
      },
      "execution_count": null,
      "outputs": [
        {
          "output_type": "execute_result",
          "data": {
            "text/plain": [
              "<matplotlib.axes._subplots.AxesSubplot at 0x7fe0acb8c7d0>"
            ]
          },
          "metadata": {},
          "execution_count": 181
        },
        {
          "output_type": "display_data",
          "data": {
            "text/plain": [
              "<Figure size 432x288 with 1 Axes>"
            ],
            "image/png": "[encoded data removed]"
          },
          "metadata": {
            "needs_background": "light"
          }
        }
      ]
    },
    {
      "cell_type": "code",
      "source": [
        "sns.histplot(limite_norm, x=\"Salario\", kde=True)"
      ],
      "metadata": {
        "colab": {
          "base_uri": "https://localhost:8080/",
          "height": 297
        },
        "id": "sIC7j2TMJNWj",
        "outputId": "e4e86cb2-41f9-485c-f877-292d749da77a"
      },
      "execution_count": null,
      "outputs": [
        {
          "output_type": "execute_result",
          "data": {
            "text/plain": [
              "<matplotlib.axes._subplots.AxesSubplot at 0x7fe0aca55fd0>"
            ]
          },
          "metadata": {},
          "execution_count": 182
        },
        {
          "output_type": "display_data",
          "data": {
            "text/plain": [
              "<Figure size 432x288 with 1 Axes>"
            ],
            "image/png": "[encoded data removed]"
          },
          "metadata": {
            "needs_background": "light"
          }
        }
      ]
    },
    {
      "cell_type": "code",
      "source": [
        "sns.histplot(limite_norm, x=\"LimitedeCreditoImediato\", kde=True)"
      ],
      "metadata": {
        "colab": {
          "base_uri": "https://localhost:8080/",
          "height": 297
        },
        "id": "teUHS3tgJSma",
        "outputId": "9f747349-feb3-49da-c555-14e1b164f87f"
      },
      "execution_count": null,
      "outputs": [
        {
          "output_type": "execute_result",
          "data": {
            "text/plain": [
              "<matplotlib.axes._subplots.AxesSubplot at 0x7fe0ac9b6710>"
            ]
          },
          "metadata": {},
          "execution_count": 183
        },
        {
          "output_type": "display_data",
          "data": {
            "text/plain": [
              "<Figure size 432x288 with 1 Axes>"
            ],
            "image/png": "[encoded data removed]"
          },
          "metadata": {
            "needs_background": "light"
          }
        }
      ]
    },
    {
      "cell_type": "code",
      "source": [
        "limite.describe()"
      ],
      "metadata": {
        "colab": {
          "base_uri": "https://localhost:8080/",
          "height": 300
        },
        "id": "CYxJXhyTJg2m",
        "outputId": "3466c183-4033-4155-ead5-e4efd3683f20"
      },
      "execution_count": null,
      "outputs": [
        {
          "output_type": "execute_result",
          "data": {
            "text/plain": [
              "           Idade  RendimentoTotal       Salario  LimitedeCreditoImediato  \\\n",
              "count  48.000000        48.000000     48.000000                48.000000   \n",
              "mean   61.458333     12275.083333  10507.125000              2175.208333   \n",
              "std    15.284477     12640.654241   9332.173617               938.094469   \n",
              "min    30.000000      4300.000000   4027.000000               340.000000   \n",
              "25%    47.000000      6380.000000   5950.000000              1925.000000   \n",
              "50%    66.500000      8400.000000   7400.000000              2000.000000   \n",
              "75%    70.000000     12378.250000  10163.000000              3000.000000   \n",
              "max    94.000000     81000.000000  54500.000000              3500.000000   \n",
              "\n",
              "       Escolaridade     Gênero     Região  LimitedoChequeEspecial  \n",
              "count     48.000000  48.000000  48.000000               48.000000  \n",
              "mean       0.375000   0.458333   0.500000             5620.729167  \n",
              "std        0.489246   0.503534   0.505291             6131.900367  \n",
              "min        0.000000   0.000000   0.000000              500.000000  \n",
              "25%        0.000000   0.000000   0.000000             2262.500000  \n",
              "50%        0.000000   0.000000   0.500000             3550.000000  \n",
              "75%        1.000000   1.000000   1.000000             6500.000000  \n",
              "max        1.000000   1.000000   1.000000            35000.000000  "
            ],
            "text/html": [
              "\n",
              "  <div id=\"df-cc14e190-3773-4823-b46e-359561f1318e\">\n",
              "    <div class=\"colab-df-container\">\n",
              "      <div>\n",
              "<style scoped>\n",
              "    .dataframe tbody tr th:only-of-type {\n",
              "        vertical-align: middle;\n",
              "    }\n",
              "\n",
              "    .dataframe tbody tr th {\n",
              "        vertical-align: top;\n",
              "    }\n",
              "\n",
              "    .dataframe thead th {\n",
              "        text-align: right;\n",
              "    }\n",
              "</style>\n",
              "<table border=\"1\" class=\"dataframe\">\n",
              "  <thead>\n",
              "    <tr style=\"text-align: right;\">\n",
              "      <th></th>\n",
              "      <th>Idade</th>\n",
              "      <th>RendimentoTotal</th>\n",
              "      <th>Salario</th>\n",
              "      <th>LimitedeCreditoImediato</th>\n",
              "      <th>Escolaridade</th>\n",
              "      <th>Gênero</th>\n",
              "      <th>Região</th>\n",
              "      <th>LimitedoChequeEspecial</th>\n",
              "    </tr>\n",
              "  </thead>\n",
              "  <tbody>\n",
              "    <tr>\n",
              "      <th>count</th>\n",
              "      <td>48.000000</td>\n",
              "      <td>48.000000</td>\n",
              "      <td>48.000000</td>\n",
              "      <td>48.000000</td>\n",
              "      <td>48.000000</td>\n",
              "      <td>48.000000</td>\n",
              "      <td>48.000000</td>\n",
              "      <td>48.000000</td>\n",
              "    </tr>\n",
              "    <tr>\n",
              "      <th>mean</th>\n",
              "      <td>61.458333</td>\n",
              "      <td>12275.083333</td>\n",
              "      <td>10507.125000</td>\n",
              "      <td>2175.208333</td>\n",
              "      <td>0.375000</td>\n",
              "      <td>0.458333</td>\n",
              "      <td>0.500000</td>\n",
              "      <td>5620.729167</td>\n",
              "    </tr>\n",
              "    <tr>\n",
              "      <th>std</th>\n",
              "      <td>15.284477</td>\n",
              "      <td>12640.654241</td>\n",
              "      <td>9332.173617</td>\n",
              "      <td>938.094469</td>\n",
              "      <td>0.489246</td>\n",
              "      <td>0.503534</td>\n",
              "      <td>0.505291</td>\n",
              "      <td>6131.900367</td>\n",
              "    </tr>\n",
              "    <tr>\n",
              "      <th>min</th>\n",
              "      <td>30.000000</td>\n",
              "      <td>4300.000000</td>\n",
              "      <td>4027.000000</td>\n",
              "      <td>340.000000</td>\n",
              "      <td>0.000000</td>\n",
              "      <td>0.000000</td>\n",
              "      <td>0.000000</td>\n",
              "      <td>500.000000</td>\n",
              "    </tr>\n",
              "    <tr>\n",
              "      <th>25%</th>\n",
              "      <td>47.000000</td>\n",
              "      <td>6380.000000</td>\n",
              "      <td>5950.000000</td>\n",
              "      <td>1925.000000</td>\n",
              "      <td>0.000000</td>\n",
              "      <td>0.000000</td>\n",
              "      <td>0.000000</td>\n",
              "      <td>2262.500000</td>\n",
              "    </tr>\n",
              "    <tr>\n",
              "      <th>50%</th>\n",
              "      <td>66.500000</td>\n",
              "      <td>8400.000000</td>\n",
              "      <td>7400.000000</td>\n",
              "      <td>2000.000000</td>\n",
              "      <td>0.000000</td>\n",
              "      <td>0.000000</td>\n",
              "      <td>0.500000</td>\n",
              "      <td>3550.000000</td>\n",
              "    </tr>\n",
              "    <tr>\n",
              "      <th>75%</th>\n",
              "      <td>70.000000</td>\n",
              "      <td>12378.250000</td>\n",
              "      <td>10163.000000</td>\n",
              "      <td>3000.000000</td>\n",
              "      <td>1.000000</td>\n",
              "      <td>1.000000</td>\n",
              "      <td>1.000000</td>\n",
              "      <td>6500.000000</td>\n",
              "    </tr>\n",
              "    <tr>\n",
              "      <th>max</th>\n",
              "      <td>94.000000</td>\n",
              "      <td>81000.000000</td>\n",
              "      <td>54500.000000</td>\n",
              "      <td>3500.000000</td>\n",
              "      <td>1.000000</td>\n",
              "      <td>1.000000</td>\n",
              "      <td>1.000000</td>\n",
              "      <td>35000.000000</td>\n",
              "    </tr>\n",
              "  </tbody>\n",
              "</table>\n",
              "</div>\n",
              "      <button class=\"colab-df-convert\" onclick=\"convertToInteractive('df-cc14e190-3773-4823-b46e-359561f1318e')\"\n",
              "              title=\"Convert this dataframe to an interactive table.\"\n",
              "              style=\"display:none;\">\n",
              "        \n",
              "  <svg xmlns=\"http://www.w3.org/2000/svg\" height=\"24px\"viewBox=\"0 0 24 24\"\n",
              "       width=\"24px\">\n",
              "    <path d=\"M0 0h24v24H0V0z\" fill=\"none\"/>\n",
              "    <path d=\"M18.56 5.44l.94 2.06.94-2.06 2.06-.94-2.06-.94-.94-2.06-.94 2.06-2.06.94zm-11 1L8.5 8.5l.94-2.06 2.06-.94-2.06-.94L8.5 2.5l-.94 2.06-2.06.94zm10 10l.94 2.06.94-2.06 2.06-.94-2.06-.94-.94-2.06-.94 2.06-2.06.94z\"/><path d=\"M17.41 7.96l-1.37-1.37c-.4-.4-.92-.59-1.43-.59-.52 0-1.04.2-1.43.59L10.3 9.45l-7.72 7.72c-.78.78-.78 2.05 0 2.83L4 21.41c.39.39.9.59 1.41.59.51 0 1.02-.2 1.41-.59l7.78-7.78 2.81-2.81c.8-.78.8-2.07 0-2.86zM5.41 20L4 18.59l7.72-7.72 1.47 1.35L5.41 20z\"/>\n",
              "  </svg>\n",
              "      </button>\n",
              "      \n",
              "  <style>\n",
              "    .colab-df-container {\n",
              "      display:flex;\n",
              "      flex-wrap:wrap;\n",
              "      gap: 12px;\n",
              "    }\n",
              "\n",
              "    .colab-df-convert {\n",
              "      background-color: #E8F0FE;\n",
              "      border: none;\n",
              "      border-radius: 50%;\n",
              "      cursor: pointer;\n",
              "      display: none;\n",
              "      fill: #1967D2;\n",
              "      height: 32px;\n",
              "      padding: 0 0 0 0;\n",
              "      width: 32px;\n",
              "    }\n",
              "\n",
              "    .colab-df-convert:hover {\n",
              "      background-color: #E2EBFA;\n",
              "      box-shadow: 0px 1px 2px rgba(60, 64, 67, 0.3), 0px 1px 3px 1px rgba(60, 64, 67, 0.15);\n",
              "      fill: #174EA6;\n",
              "    }\n",
              "\n",
              "    [theme=dark] .colab-df-convert {\n",
              "      background-color: #3B4455;\n",
              "      fill: #D2E3FC;\n",
              "    }\n",
              "\n",
              "    [theme=dark] .colab-df-convert:hover {\n",
              "      background-color: #434B5C;\n",
              "      box-shadow: 0px 1px 3px 1px rgba(0, 0, 0, 0.15);\n",
              "      filter: drop-shadow(0px 1px 2px rgba(0, 0, 0, 0.3));\n",
              "      fill: #FFFFFF;\n",
              "    }\n",
              "  </style>\n",
              "\n",
              "      <script>\n",
              "        const buttonEl =\n",
              "          document.querySelector('#df-cc14e190-3773-4823-b46e-359561f1318e button.colab-df-convert');\n",
              "        buttonEl.style.display =\n",
              "          google.colab.kernel.accessAllowed ? 'block' : 'none';\n",
              "\n",
              "        async function convertToInteractive(key) {\n",
              "          const element = document.querySelector('#df-cc14e190-3773-4823-b46e-359561f1318e');\n",
              "          const dataTable =\n",
              "            await google.colab.kernel.invokeFunction('convertToInteractive',\n",
              "                                                     [key], {});\n",
              "          if (!dataTable) return;\n",
              "\n",
              "          const docLinkHtml = 'Like what you see? Visit the ' +\n",
              "            '<a target=\"_blank\" href=https://colab.research.google.com/notebooks/data_table.ipynb>data table notebook</a>'\n",
              "            + ' to learn more about interactive tables.';\n",
              "          element.innerHTML = '';\n",
              "          dataTable['output_type'] = 'display_data';\n",
              "          await google.colab.output.renderOutput(dataTable, element);\n",
              "          const docLink = document.createElement('div');\n",
              "          docLink.innerHTML = docLinkHtml;\n",
              "          element.appendChild(docLink);\n",
              "        }\n",
              "      </script>\n",
              "    </div>\n",
              "  </div>\n",
              "  "
            ]
          },
          "metadata": {},
          "execution_count": 184
        }
      ]
    },
    {
      "cell_type": "code",
      "source": [
        "limite_norm.describe()"
      ],
      "metadata": {
        "colab": {
          "base_uri": "https://localhost:8080/",
          "height": 300
        },
        "id": "6ZJAheD5JX7G",
        "outputId": "d07950d2-083c-42b9-8a34-ca515acdedca"
      },
      "execution_count": null,
      "outputs": [
        {
          "output_type": "execute_result",
          "data": {
            "text/plain": [
              "           Idade  RendimentoTotal    Salario  LimitedeCreditoImediato  \\\n",
              "count  48.000000        48.000000  48.000000                48.000000   \n",
              "mean    0.491536         0.103978   0.128388                 0.580762   \n",
              "std     0.238820         0.164806   0.184894                 0.296865   \n",
              "min     0.000000         0.000000   0.000000                 0.000000   \n",
              "25%     0.265625         0.027119   0.038100                 0.501582   \n",
              "50%     0.570312         0.053455   0.066828                 0.525316   \n",
              "75%     0.625000         0.105323   0.121570                 0.841772   \n",
              "max     1.000000         1.000000   1.000000                 1.000000   \n",
              "\n",
              "       Escolaridade     Gênero     Região  LimitedoChequeEspecial  \n",
              "count     48.000000  48.000000  48.000000               48.000000  \n",
              "mean       0.375000   0.458333   0.500000                0.148427  \n",
              "std        0.489246   0.503534   0.505291                0.177736  \n",
              "min        0.000000   0.000000   0.000000                0.000000  \n",
              "25%        0.000000   0.000000   0.000000                0.051087  \n",
              "50%        0.000000   0.000000   0.500000                0.088406  \n",
              "75%        1.000000   1.000000   1.000000                0.173913  \n",
              "max        1.000000   1.000000   1.000000                1.000000  "
            ],
            "text/html": [
              "\n",
              "  <div id=\"df-55ba4e96-361d-4bbf-9948-7408323f57a4\">\n",
              "    <div class=\"colab-df-container\">\n",
              "      <div>\n",
              "<style scoped>\n",
              "    .dataframe tbody tr th:only-of-type {\n",
              "        vertical-align: middle;\n",
              "    }\n",
              "\n",
              "    .dataframe tbody tr th {\n",
              "        vertical-align: top;\n",
              "    }\n",
              "\n",
              "    .dataframe thead th {\n",
              "        text-align: right;\n",
              "    }\n",
              "</style>\n",
              "<table border=\"1\" class=\"dataframe\">\n",
              "  <thead>\n",
              "    <tr style=\"text-align: right;\">\n",
              "      <th></th>\n",
              "      <th>Idade</th>\n",
              "      <th>RendimentoTotal</th>\n",
              "      <th>Salario</th>\n",
              "      <th>LimitedeCreditoImediato</th>\n",
              "      <th>Escolaridade</th>\n",
              "      <th>Gênero</th>\n",
              "      <th>Região</th>\n",
              "      <th>LimitedoChequeEspecial</th>\n",
              "    </tr>\n",
              "  </thead>\n",
              "  <tbody>\n",
              "    <tr>\n",
              "      <th>count</th>\n",
              "      <td>48.000000</td>\n",
              "      <td>48.000000</td>\n",
              "      <td>48.000000</td>\n",
              "      <td>48.000000</td>\n",
              "      <td>48.000000</td>\n",
              "      <td>48.000000</td>\n",
              "      <td>48.000000</td>\n",
              "      <td>48.000000</td>\n",
              "    </tr>\n",
              "    <tr>\n",
              "      <th>mean</th>\n",
              "      <td>0.491536</td>\n",
              "      <td>0.103978</td>\n",
              "      <td>0.128388</td>\n",
              "      <td>0.580762</td>\n",
              "      <td>0.375000</td>\n",
              "      <td>0.458333</td>\n",
              "      <td>0.500000</td>\n",
              "      <td>0.148427</td>\n",
              "    </tr>\n",
              "    <tr>\n",
              "      <th>std</th>\n",
              "      <td>0.238820</td>\n",
              "      <td>0.164806</td>\n",
              "      <td>0.184894</td>\n",
              "      <td>0.296865</td>\n",
              "      <td>0.489246</td>\n",
              "      <td>0.503534</td>\n",
              "      <td>0.505291</td>\n",
              "      <td>0.177736</td>\n",
              "    </tr>\n",
              "    <tr>\n",
              "      <th>min</th>\n",
              "      <td>0.000000</td>\n",
              "      <td>0.000000</td>\n",
              "      <td>0.000000</td>\n",
              "      <td>0.000000</td>\n",
              "      <td>0.000000</td>\n",
              "      <td>0.000000</td>\n",
              "      <td>0.000000</td>\n",
              "      <td>0.000000</td>\n",
              "    </tr>\n",
              "    <tr>\n",
              "      <th>25%</th>\n",
              "      <td>0.265625</td>\n",
              "      <td>0.027119</td>\n",
              "      <td>0.038100</td>\n",
              "      <td>0.501582</td>\n",
              "      <td>0.000000</td>\n",
              "      <td>0.000000</td>\n",
              "      <td>0.000000</td>\n",
              "      <td>0.051087</td>\n",
              "    </tr>\n",
              "    <tr>\n",
              "      <th>50%</th>\n",
              "      <td>0.570312</td>\n",
              "      <td>0.053455</td>\n",
              "      <td>0.066828</td>\n",
              "      <td>0.525316</td>\n",
              "      <td>0.000000</td>\n",
              "      <td>0.000000</td>\n",
              "      <td>0.500000</td>\n",
              "      <td>0.088406</td>\n",
              "    </tr>\n",
              "    <tr>\n",
              "      <th>75%</th>\n",
              "      <td>0.625000</td>\n",
              "      <td>0.105323</td>\n",
              "      <td>0.121570</td>\n",
              "      <td>0.841772</td>\n",
              "      <td>1.000000</td>\n",
              "      <td>1.000000</td>\n",
              "      <td>1.000000</td>\n",
              "      <td>0.173913</td>\n",
              "    </tr>\n",
              "    <tr>\n",
              "      <th>max</th>\n",
              "      <td>1.000000</td>\n",
              "      <td>1.000000</td>\n",
              "      <td>1.000000</td>\n",
              "      <td>1.000000</td>\n",
              "      <td>1.000000</td>\n",
              "      <td>1.000000</td>\n",
              "      <td>1.000000</td>\n",
              "      <td>1.000000</td>\n",
              "    </tr>\n",
              "  </tbody>\n",
              "</table>\n",
              "</div>\n",
              "      <button class=\"colab-df-convert\" onclick=\"convertToInteractive('df-55ba4e96-361d-4bbf-9948-7408323f57a4')\"\n",
              "              title=\"Convert this dataframe to an interactive table.\"\n",
              "              style=\"display:none;\">\n",
              "        \n",
              "  <svg xmlns=\"http://www.w3.org/2000/svg\" height=\"24px\"viewBox=\"0 0 24 24\"\n",
              "       width=\"24px\">\n",
              "    <path d=\"M0 0h24v24H0V0z\" fill=\"none\"/>\n",
              "    <path d=\"M18.56 5.44l.94 2.06.94-2.06 2.06-.94-2.06-.94-.94-2.06-.94 2.06-2.06.94zm-11 1L8.5 8.5l.94-2.06 2.06-.94-2.06-.94L8.5 2.5l-.94 2.06-2.06.94zm10 10l.94 2.06.94-2.06 2.06-.94-2.06-.94-.94-2.06-.94 2.06-2.06.94z\"/><path d=\"M17.41 7.96l-1.37-1.37c-.4-.4-.92-.59-1.43-.59-.52 0-1.04.2-1.43.59L10.3 9.45l-7.72 7.72c-.78.78-.78 2.05 0 2.83L4 21.41c.39.39.9.59 1.41.59.51 0 1.02-.2 1.41-.59l7.78-7.78 2.81-2.81c.8-.78.8-2.07 0-2.86zM5.41 20L4 18.59l7.72-7.72 1.47 1.35L5.41 20z\"/>\n",
              "  </svg>\n",
              "      </button>\n",
              "      \n",
              "  <style>\n",
              "    .colab-df-container {\n",
              "      display:flex;\n",
              "      flex-wrap:wrap;\n",
              "      gap: 12px;\n",
              "    }\n",
              "\n",
              "    .colab-df-convert {\n",
              "      background-color: #E8F0FE;\n",
              "      border: none;\n",
              "      border-radius: 50%;\n",
              "      cursor: pointer;\n",
              "      display: none;\n",
              "      fill: #1967D2;\n",
              "      height: 32px;\n",
              "      padding: 0 0 0 0;\n",
              "      width: 32px;\n",
              "    }\n",
              "\n",
              "    .colab-df-convert:hover {\n",
              "      background-color: #E2EBFA;\n",
              "      box-shadow: 0px 1px 2px rgba(60, 64, 67, 0.3), 0px 1px 3px 1px rgba(60, 64, 67, 0.15);\n",
              "      fill: #174EA6;\n",
              "    }\n",
              "\n",
              "    [theme=dark] .colab-df-convert {\n",
              "      background-color: #3B4455;\n",
              "      fill: #D2E3FC;\n",
              "    }\n",
              "\n",
              "    [theme=dark] .colab-df-convert:hover {\n",
              "      background-color: #434B5C;\n",
              "      box-shadow: 0px 1px 3px 1px rgba(0, 0, 0, 0.15);\n",
              "      filter: drop-shadow(0px 1px 2px rgba(0, 0, 0, 0.3));\n",
              "      fill: #FFFFFF;\n",
              "    }\n",
              "  </style>\n",
              "\n",
              "      <script>\n",
              "        const buttonEl =\n",
              "          document.querySelector('#df-55ba4e96-361d-4bbf-9948-7408323f57a4 button.colab-df-convert');\n",
              "        buttonEl.style.display =\n",
              "          google.colab.kernel.accessAllowed ? 'block' : 'none';\n",
              "\n",
              "        async function convertToInteractive(key) {\n",
              "          const element = document.querySelector('#df-55ba4e96-361d-4bbf-9948-7408323f57a4');\n",
              "          const dataTable =\n",
              "            await google.colab.kernel.invokeFunction('convertToInteractive',\n",
              "                                                     [key], {});\n",
              "          if (!dataTable) return;\n",
              "\n",
              "          const docLinkHtml = 'Like what you see? Visit the ' +\n",
              "            '<a target=\"_blank\" href=https://colab.research.google.com/notebooks/data_table.ipynb>data table notebook</a>'\n",
              "            + ' to learn more about interactive tables.';\n",
              "          element.innerHTML = '';\n",
              "          dataTable['output_type'] = 'display_data';\n",
              "          await google.colab.output.renderOutput(dataTable, element);\n",
              "          const docLink = document.createElement('div');\n",
              "          docLink.innerHTML = docLinkHtml;\n",
              "          element.appendChild(docLink);\n",
              "        }\n",
              "      </script>\n",
              "    </div>\n",
              "  </div>\n",
              "  "
            ]
          },
          "metadata": {},
          "execution_count": 185
        }
      ]
    },
    {
      "cell_type": "code",
      "source": [
        "import statsmodels.formula.api as smf"
      ],
      "metadata": {
        "id": "o_pLDfZ1-h1a"
      },
      "execution_count": null,
      "outputs": []
    },
    {
      "cell_type": "code",
      "source": [
        "#modelo MRLS\n",
        "function = 'LimitedoChequeEspecial~Idade+RendimentoTotal+Salario+LimitedeCreditoImediato+Escolaridade+Região+Gênero'\n",
        "model = smf.ols(formula=function, data=limite_norm).fit() \n",
        "print(model.summary())"
      ],
      "metadata": {
        "colab": {
          "base_uri": "https://localhost:8080/"
        },
        "id": "Fh8EdPBC-j6Z",
        "outputId": "b0ada217-972c-4e00-8453-60f5f1b322a4"
      },
      "execution_count": null,
      "outputs": [
        {
          "output_type": "stream",
          "name": "stdout",
          "text": [
            "                              OLS Regression Results                              \n",
            "==================================================================================\n",
            "Dep. Variable:     LimitedoChequeEspecial   R-squared:                       0.886\n",
            "Model:                                OLS   Adj. R-squared:                  0.865\n",
            "Method:                     Least Squares   F-statistic:                     44.20\n",
            "Date:                    Mon, 10 Oct 2022   Prob (F-statistic):           7.44e-17\n",
            "Time:                            14:34:45   Log-Likelihood:                 67.328\n",
            "No. Observations:                      48   AIC:                            -118.7\n",
            "Df Residuals:                          40   BIC:                            -103.7\n",
            "Df Model:                               7                                         \n",
            "Covariance Type:                nonrobust                                         \n",
            "===========================================================================================\n",
            "                              coef    std err          t      P>|t|      [0.025      0.975]\n",
            "-------------------------------------------------------------------------------------------\n",
            "Intercept                  -0.0321      0.028     -1.129      0.266      -0.089       0.025\n",
            "Idade                      -0.0093      0.042     -0.220      0.827      -0.094       0.076\n",
            "RendimentoTotal             0.3010      0.225      1.336      0.189      -0.154       0.756\n",
            "Salario                     0.4095      0.207      1.977      0.055      -0.009       0.828\n",
            "LimitedeCreditoImediato     0.0223      0.038      0.589      0.559      -0.054       0.099\n",
            "Escolaridade                0.0245      0.028      0.867      0.391      -0.033       0.082\n",
            "Região                      0.0960      0.030      3.153      0.003       0.034       0.158\n",
            "Gênero                      0.0676      0.023      2.974      0.005       0.022       0.114\n",
            "==============================================================================\n",
            "Omnibus:                       15.742   Durbin-Watson:                   1.724\n",
            "Prob(Omnibus):                  0.000   Jarque-Bera (JB):               41.550\n",
            "Skew:                          -0.679   Prob(JB):                     9.50e-10\n",
            "Kurtosis:                       7.351   Cond. No.                         49.7\n",
            "==============================================================================\n",
            "\n",
            "Notes:\n",
            "[1] Standard Errors assume that the covariance matrix of the errors is correctly specified.\n"
          ]
        }
      ]
    },
    {
      "cell_type": "code",
      "source": [
        "#modelo MRLS\n",
        "function = 'LimitedoChequeEspecial~RendimentoTotal+Salario+LimitedeCreditoImediato+Escolaridade+Região+Gênero'\n",
        "model = smf.ols(formula=function, data=limite_norm).fit() \n",
        "print(model.summary())"
      ],
      "metadata": {
        "colab": {
          "base_uri": "https://localhost:8080/"
        },
        "id": "UeCCNoyc-w5l",
        "outputId": "364a4458-52d0-4ec1-b3b4-ca24d01e2f90"
      },
      "execution_count": null,
      "outputs": [
        {
          "output_type": "stream",
          "name": "stdout",
          "text": [
            "                              OLS Regression Results                              \n",
            "==================================================================================\n",
            "Dep. Variable:     LimitedoChequeEspecial   R-squared:                       0.885\n",
            "Model:                                OLS   Adj. R-squared:                  0.869\n",
            "Method:                     Least Squares   F-statistic:                     52.78\n",
            "Date:                    Mon, 10 Oct 2022   Prob (F-statistic):           9.97e-18\n",
            "Time:                            14:34:45   Log-Likelihood:                 67.299\n",
            "No. Observations:                      48   AIC:                            -120.6\n",
            "Df Residuals:                          41   BIC:                            -107.5\n",
            "Df Model:                               6                                         \n",
            "Covariance Type:                nonrobust                                         \n",
            "===========================================================================================\n",
            "                              coef    std err          t      P>|t|      [0.025      0.975]\n",
            "-------------------------------------------------------------------------------------------\n",
            "Intercept                  -0.0357      0.023     -1.564      0.126      -0.082       0.010\n",
            "RendimentoTotal             0.2924      0.219      1.334      0.190      -0.150       0.735\n",
            "Salario                     0.4155      0.203      2.048      0.047       0.006       0.825\n",
            "LimitedeCreditoImediato     0.0221      0.037      0.589      0.559      -0.054       0.098\n",
            "Escolaridade                0.0244      0.028      0.872      0.388      -0.032       0.081\n",
            "Região                      0.0957      0.030      3.183      0.003       0.035       0.156\n",
            "Gênero                      0.0667      0.022      3.019      0.004       0.022       0.111\n",
            "==============================================================================\n",
            "Omnibus:                       15.771   Durbin-Watson:                   1.746\n",
            "Prob(Omnibus):                  0.000   Jarque-Bera (JB):               41.413\n",
            "Skew:                          -0.684   Prob(JB):                     1.02e-09\n",
            "Kurtosis:                       7.340   Cond. No.                         46.5\n",
            "==============================================================================\n",
            "\n",
            "Notes:\n",
            "[1] Standard Errors assume that the covariance matrix of the errors is correctly specified.\n"
          ]
        }
      ]
    },
    {
      "cell_type": "code",
      "source": [
        "#modelo MRLS\n",
        "function = 'LimitedoChequeEspecial~RendimentoTotal+Salario+Escolaridade+Região+Gênero'\n",
        "model = smf.ols(formula=function, data=limite_norm).fit() \n",
        "print(model.summary())"
      ],
      "metadata": {
        "colab": {
          "base_uri": "https://localhost:8080/"
        },
        "id": "7uUM4sxh-2pC",
        "outputId": "aba64951-f30f-4af2-c85d-a0c5bbb3f98b"
      },
      "execution_count": null,
      "outputs": [
        {
          "output_type": "stream",
          "name": "stdout",
          "text": [
            "                              OLS Regression Results                              \n",
            "==================================================================================\n",
            "Dep. Variable:     LimitedoChequeEspecial   R-squared:                       0.884\n",
            "Model:                                OLS   Adj. R-squared:                  0.871\n",
            "Method:                     Least Squares   F-statistic:                     64.26\n",
            "Date:                    Mon, 10 Oct 2022   Prob (F-statistic):           1.39e-18\n",
            "Time:                            14:34:45   Log-Likelihood:                 67.097\n",
            "No. Observations:                      48   AIC:                            -122.2\n",
            "Df Residuals:                          42   BIC:                            -111.0\n",
            "Df Model:                               5                                         \n",
            "Covariance Type:                nonrobust                                         \n",
            "===================================================================================\n",
            "                      coef    std err          t      P>|t|      [0.025      0.975]\n",
            "-----------------------------------------------------------------------------------\n",
            "Intercept          -0.0267      0.017     -1.590      0.119      -0.060       0.007\n",
            "RendimentoTotal     0.2689      0.214      1.257      0.216      -0.163       0.701\n",
            "Salario             0.4296      0.200      2.149      0.037       0.026       0.833\n",
            "Escolaridade        0.0228      0.028      0.828      0.413      -0.033       0.079\n",
            "Região              0.1039      0.026      3.939      0.000       0.051       0.157\n",
            "Gênero              0.0686      0.022      3.160      0.003       0.025       0.112\n",
            "==============================================================================\n",
            "Omnibus:                       18.013   Durbin-Watson:                   1.737\n",
            "Prob(Omnibus):                  0.000   Jarque-Bera (JB):               53.309\n",
            "Skew:                          -0.774   Prob(JB):                     2.66e-12\n",
            "Kurtosis:                       7.925   Cond. No.                         41.9\n",
            "==============================================================================\n",
            "\n",
            "Notes:\n",
            "[1] Standard Errors assume that the covariance matrix of the errors is correctly specified.\n"
          ]
        }
      ]
    },
    {
      "cell_type": "code",
      "source": [
        "#modelo MRLS\n",
        "function = 'LimitedoChequeEspecial~RendimentoTotal+Salario+Região+Gênero'\n",
        "model = smf.ols(formula=function, data=limite_norm).fit() \n",
        "print(model.summary())"
      ],
      "metadata": {
        "colab": {
          "base_uri": "https://localhost:8080/"
        },
        "id": "MGd8bip6-85g",
        "outputId": "f51cd654-8843-4753-ae59-0b89531db567"
      },
      "execution_count": null,
      "outputs": [
        {
          "output_type": "stream",
          "name": "stdout",
          "text": [
            "                              OLS Regression Results                              \n",
            "==================================================================================\n",
            "Dep. Variable:     LimitedoChequeEspecial   R-squared:                       0.883\n",
            "Model:                                OLS   Adj. R-squared:                  0.872\n",
            "Method:                     Least Squares   F-statistic:                     80.75\n",
            "Date:                    Mon, 10 Oct 2022   Prob (F-statistic):           2.02e-19\n",
            "Time:                            14:34:45   Log-Likelihood:                 66.709\n",
            "No. Observations:                      48   AIC:                            -123.4\n",
            "Df Residuals:                          43   BIC:                            -114.1\n",
            "Df Model:                               4                                         \n",
            "Covariance Type:                nonrobust                                         \n",
            "===================================================================================\n",
            "                      coef    std err          t      P>|t|      [0.025      0.975]\n",
            "-----------------------------------------------------------------------------------\n",
            "Intercept          -0.0286      0.017     -1.731      0.091      -0.062       0.005\n",
            "RendimentoTotal     0.2291      0.208      1.103      0.276      -0.190       0.648\n",
            "Salario             0.4739      0.192      2.469      0.018       0.087       0.861\n",
            "Região              0.1166      0.021      5.450      0.000       0.073       0.160\n",
            "Gênero              0.0743      0.020      3.631      0.001       0.033       0.116\n",
            "==============================================================================\n",
            "Omnibus:                       21.294   Durbin-Watson:                   1.615\n",
            "Prob(Omnibus):                  0.000   Jarque-Bera (JB):               65.346\n",
            "Skew:                          -0.973   Prob(JB):                     6.46e-15\n",
            "Kurtosis:                       8.374   Cond. No.                         38.1\n",
            "==============================================================================\n",
            "\n",
            "Notes:\n",
            "[1] Standard Errors assume that the covariance matrix of the errors is correctly specified.\n"
          ]
        }
      ]
    },
    {
      "cell_type": "code",
      "source": [
        "#modelo MRLS\n",
        "function = 'LimitedoChequeEspecial~Salario+Região+Gênero-1'\n",
        "model = smf.ols(formula=function, data=limite_norm).fit() \n",
        "print(model.summary())"
      ],
      "metadata": {
        "colab": {
          "base_uri": "https://localhost:8080/"
        },
        "id": "bXS4zBgU_A0U",
        "outputId": "b4de78a7-1255-47ee-fdf9-57eb235002ca"
      },
      "execution_count": null,
      "outputs": [
        {
          "output_type": "stream",
          "name": "stdout",
          "text": [
            "                                   OLS Regression Results                                  \n",
            "===========================================================================================\n",
            "Dep. Variable:     LimitedoChequeEspecial   R-squared (uncentered):                   0.925\n",
            "Model:                                OLS   Adj. R-squared (uncentered):              0.920\n",
            "Method:                     Least Squares   F-statistic:                              185.0\n",
            "Date:                    Mon, 10 Oct 2022   Prob (F-statistic):                    2.56e-25\n",
            "Time:                            14:34:45   Log-Likelihood:                          64.573\n",
            "No. Observations:                      48   AIC:                                     -123.1\n",
            "Df Residuals:                          45   BIC:                                     -117.5\n",
            "Df Model:                               3                                                  \n",
            "Covariance Type:                nonrobust                                                  \n",
            "==============================================================================\n",
            "                 coef    std err          t      P>|t|      [0.025      0.975]\n",
            "------------------------------------------------------------------------------\n",
            "Salario        0.6801      0.061     11.241      0.000       0.558       0.802\n",
            "Região         0.0938      0.018      5.339      0.000       0.058       0.129\n",
            "Gênero         0.0497      0.016      3.019      0.004       0.017       0.083\n",
            "==============================================================================\n",
            "Omnibus:                       10.368   Durbin-Watson:                   1.545\n",
            "Prob(Omnibus):                  0.006   Jarque-Bera (JB):               28.212\n",
            "Skew:                          -0.066   Prob(JB):                     7.48e-07\n",
            "Kurtosis:                       6.753   Cond. No.                         5.47\n",
            "==============================================================================\n",
            "\n",
            "Notes:\n",
            "[1] R² is computed without centering (uncentered) since the model does not contain a constant.\n",
            "[2] Standard Errors assume that the covariance matrix of the errors is correctly specified.\n"
          ]
        }
      ]
    },
    {
      "cell_type": "code",
      "source": [
        "x = limite_norm[[\"Salario\",\"Região\",\"Gênero\"]]\n",
        "\n",
        "y = limite_norm[[\"LimitedoChequeEspecial\"]]"
      ],
      "metadata": {
        "id": "cyAxRXza_EGw"
      },
      "execution_count": null,
      "outputs": []
    },
    {
      "cell_type": "code",
      "source": [
        "#Separando os dados de Treino e Teste\n",
        "x_train, x_test, y_train, y_test = train_test_split(x, y, test_size=0.2, random_state=0)\n",
        "\n",
        "#Criando um Objeto de Regressão Linear\n",
        "lr = LinearRegression()\n",
        "\n",
        "#Treinando o Modelo\n",
        "lr.fit(x_train,y_train)"
      ],
      "metadata": {
        "id": "q0M-YVfj_MKS",
        "colab": {
          "base_uri": "https://localhost:8080/"
        },
        "outputId": "e8072e36-d1a3-403c-8055-974b0b9bdb8e"
      },
      "execution_count": null,
      "outputs": [
        {
          "output_type": "execute_result",
          "data": {
            "text/plain": [
              "LinearRegression()"
            ]
          },
          "metadata": {},
          "execution_count": 193
        }
      ]
    },
    {
      "cell_type": "code",
      "source": [
        "r_sq = lr.score(x, y)\n",
        "print('Coeficiente de Determinação (R²):', r_sq)"
      ],
      "metadata": {
        "colab": {
          "base_uri": "https://localhost:8080/"
        },
        "id": "MK8RaXEvvXzR",
        "outputId": "67bd9240-9d20-450b-8858-32b9c52d8bf5"
      },
      "execution_count": null,
      "outputs": [
        {
          "output_type": "stream",
          "name": "stdout",
          "text": [
            "Coeficiente de Determinação (R²): 0.8711270257317539\n"
          ]
        }
      ]
    },
    {
      "cell_type": "code",
      "source": [
        "y_pred_train = lr.predict(x_train)\n",
        "print('MAE:', metrics.mean_absolute_error(y_train, y_pred_train))\n",
        "print('MSE:', metrics.mean_squared_error(y_train, y_pred_train))\n",
        "print('RMSE:', np.sqrt(metrics.mean_squared_error(y_train, y_pred_train)))"
      ],
      "metadata": {
        "colab": {
          "base_uri": "https://localhost:8080/"
        },
        "id": "ntuO1EPdwOAv",
        "outputId": "e980bb48-061c-49ef-e8ce-746fecf0276f"
      },
      "execution_count": null,
      "outputs": [
        {
          "output_type": "stream",
          "name": "stdout",
          "text": [
            "MAE: 0.040721453189842945\n",
            "MSE: 0.0035541550581730565\n",
            "RMSE: 0.05961673471579147\n"
          ]
        }
      ]
    },
    {
      "cell_type": "code",
      "source": [
        "y_pred = lr.predict(x_test)\n",
        "print('MAE:', metrics.mean_absolute_error(y_test, y_pred))\n",
        "print('MSE:', metrics.mean_squared_error(y_test, y_pred))\n",
        "print('RMSE:', np.sqrt(metrics.mean_squared_error(y_test, y_pred)))"
      ],
      "metadata": {
        "colab": {
          "base_uri": "https://localhost:8080/"
        },
        "id": "sv3R4K6WvaJq",
        "outputId": "dd38b24b-a705-43f1-d3e6-59b37ea26db1"
      },
      "execution_count": null,
      "outputs": [
        {
          "output_type": "stream",
          "name": "stdout",
          "text": [
            "MAE: 0.05676449812940607\n",
            "MSE: 0.005628472014227287\n",
            "RMSE: 0.07502314319080004\n"
          ]
        }
      ]
    }
  ]
}