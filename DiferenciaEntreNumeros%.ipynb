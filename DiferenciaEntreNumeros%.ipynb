{
  "nbformat": 4,
  "nbformat_minor": 0,
  "metadata": {
    "colab": {
      "provenance": [],
      "authorship_tag": "ABX9TyN4MQWh5AxFKRNrRhU7yoUn",
      "include_colab_link": true
    },
    "kernelspec": {
      "name": "python3",
      "display_name": "Python 3"
    },
    "language_info": {
      "name": "python"
    }
  },
  "cells": [
    {
      "cell_type": "markdown",
      "metadata": {
        "id": "view-in-github",
        "colab_type": "text"
      },
      "source": [
        "<a href=\"https://colab.research.google.com/github/DajeanArcila/biblioteca_pandas/blob/main/DiferenciaEntreNumeros%25.ipynb\" target=\"_parent\"><img src=\"https://colab.research.google.com/assets/colab-badge.svg\" alt=\"Open In Colab\"/></a>"
      ]
    },
    {
      "cell_type": "code",
      "execution_count": null,
      "metadata": {
        "id": "wmp1iEf_3kBR"
      },
      "outputs": [],
      "source": [
        "# Función para calcular el porcentaje de diferencia entre dos números\n",
        "def calcular_porcentaje_diferencia(num1, num2):\n",
        "    try:\n",
        "        # Calcular la diferencia absoluta entre los dos números\n",
        "        diferencia = abs(num1 - num2)\n",
        "        # Calcular el porcentaje de diferencia tomando como base el segundo número\n",
        "        porcentaje_diferencia = (diferencia / num2) * 100\n",
        "        return porcentaje_diferencia\n",
        "    except ZeroDivisionError:\n",
        "        return \"Error: El segundo número no puede ser cero.\"\n",
        "\n",
        "# Ingresar dos números\n",
        "numero1 = float(input(\"Ingresa el primer número: \"))\n",
        "numero2 = float(input(\"Ingresa el segundo número: \"))\n",
        "\n",
        "# Calcular y mostrar el porcentaje de diferencia\n",
        "resultado = calcular_porcentaje_diferencia(numero1, numero2)\n",
        "print(f\"El porcentaje de diferencia entre {numero1} y {numero2} es: {resultado:.2f}%\")"
      ]
    }
  ]
}