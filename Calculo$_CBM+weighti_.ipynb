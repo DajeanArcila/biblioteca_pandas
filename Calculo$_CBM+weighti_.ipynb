{
  "nbformat": 4,
  "nbformat_minor": 0,
  "metadata": {
    "colab": {
      "provenance": [],
      "authorship_tag": "ABX9TyMijBaO2YYM4uDuOipj01FB",
      "include_colab_link": true
    },
    "kernelspec": {
      "name": "python3",
      "display_name": "Python 3"
    },
    "language_info": {
      "name": "python"
    }
  },
  "cells": [
    {
      "cell_type": "markdown",
      "metadata": {
        "id": "view-in-github",
        "colab_type": "text"
      },
      "source": [
        "<a href=\"https://colab.research.google.com/github/DajeanArcila/biblioteca_pandas/blob/main/Calculo%24_CBM%2Bweighti_.ipynb\" target=\"_parent\"><img src=\"https://colab.research.google.com/assets/colab-badge.svg\" alt=\"Open In Colab\"/></a>"
      ]
    },
    {
      "cell_type": "code",
      "execution_count": 14,
      "metadata": {
        "id": "y1ON-TRJaZtL"
      },
      "outputs": [],
      "source": [
        "import pandas as pd\n",
        "\n",
        "# Función para calcular el costo del flete de cada producto basado en su peso y volumen (CBM)\n",
        "def calcular_costos_flete(total_flete, pesos, cbms):\n",
        "    total_peso_cbm = sum(pesos) + sum(cbms)\n",
        "    costos = []\n",
        "    for peso, cbm in zip(pesos, cbms):\n",
        "        proporcion = (peso + cbm) / total_peso_cbm\n",
        "        costo_flete = total_flete * proporcion\n",
        "        costos.append(costo_flete)\n",
        "    return costos\n",
        "\n"
      ]
    },
    {
      "cell_type": "code",
      "source": [
        "# Ingreso del costo total del flete\n",
        "while True:\n",
        "    try:\n",
        "        flete_total = float(input(\"Ingresa el costo total del flete: \"))\n",
        "        break\n",
        "    except ValueError:\n",
        "        print(\"¡Error! Ingresa un número válido.\")\n",
        "\n",
        "# Ingreso de la cantidad de productos\n",
        "while True:\n",
        "    try:\n",
        "        num_productos = int(input(\"Ingresa la cantidad de productos: \"))\n",
        "        break\n",
        "    except ValueError:\n",
        "        print(\"¡Error! Ingresa un número válido.\")\n",
        "\n",
        "productos = []\n",
        "pesos = []\n",
        "cbms = []\n",
        "\n",
        "# Ingreso de datos de cada producto\n",
        "for i in range(1, num_productos + 1):\n",
        "    producto = input(f\"Ingresa el nombre del Producto {i}: \")\n",
        "\n",
        "    while True:\n",
        "        try:\n",
        "            peso = float(input(f\"Ingresa el peso del Producto {i} (kg): \"))\n",
        "            break\n",
        "        except ValueError:\n",
        "            print(\"¡Error! Ingresa un número válido para el peso.\")\n",
        "\n",
        "    while True:\n",
        "        try:\n",
        "            cbm = float(input(f\"Ingresa el volumen del Producto {i} (CBM): \"))\n",
        "            break\n",
        "        except ValueError:\n",
        "            print(\"¡Error! Ingresa un número válido para el volumen.\")\n",
        "\n",
        "    productos.append(producto)\n",
        "    pesos.append(peso)\n",
        "    cbms.append(cbm)\n",
        "\n",
        "# Calcular el costo del flete para cada producto\n",
        "costos_flete = calcular_costos_flete(flete_total, pesos, cbms)\n",
        "\n",
        "# Crear un DataFrame con los resultados\n",
        "df = pd.DataFrame({\n",
        "    \"Producto\": productos,\n",
        "    \"Peso (kg)\": pesos,\n",
        "    \"Volumen (CBM)\": cbms,\n",
        "    \"Costo del flete\": costos_flete\n",
        "})\n",
        "\n",
        "# Mostrar los resultados\n",
        "print(\"\\nResultado:\")\n",
        "print(df)\n",
        "\n"
      ],
      "metadata": {
        "colab": {
          "base_uri": "https://localhost:8080/"
        },
        "id": "Vna1QlRDd458",
        "outputId": "447e72ba-58a3-4557-be19-b625df5bb989"
      },
      "execution_count": 17,
      "outputs": [
        {
          "output_type": "stream",
          "name": "stdout",
          "text": [
            "Ingresa el costo total del flete: 100\n",
            "Ingresa la cantidad de productos: jsjs\n",
            "¡Error! Ingresa un número válido.\n",
            "Ingresa la cantidad de productos: 2\n",
            "Ingresa el nombre del Producto 1: jaja\n",
            "Ingresa el peso del Producto 1 (kg): 20\n",
            "Ingresa el volumen del Producto 1 (CBM): 1\n",
            "Ingresa el nombre del Producto 2: jeje\n",
            "Ingresa el peso del Producto 2 (kg): 20\n",
            "Ingresa el volumen del Producto 2 (CBM): 1.25\n",
            "\n",
            "Resultado:\n",
            "  Producto  Peso (kg)  Volumen (CBM)  Costo del flete\n",
            "0     jaja       20.0           1.00        49.704142\n",
            "1     jeje       20.0           1.25        50.295858\n"
          ]
        }
      ]
    },
    {
      "cell_type": "code",
      "source": [
        "'''\n",
        "# Guardar los resultados en un archivo CSV\n",
        "nombre_archivo = \"costo_flete_productos.csv\"\n",
        "df.to_csv(nombre_archivo, index=False)\n",
        "print(f\"\\nArchivo guardado exitosamente como {nombre_archivo}.\")\n",
        "'''\n",
        "# Guardar los resultados en un archivo Excel\n",
        "nombre_archivo_excel = \"costo_flete_productos.xlsx\"\n",
        "df.to_excel(nombre_archivo_excel, index=False)\n",
        "print(f\"\\nArchivo Excel guardado exitosamente como {nombre_archivo_excel}.\")"
      ],
      "metadata": {
        "id": "vEcRtYF8fhtD"
      },
      "execution_count": null,
      "outputs": []
    }
  ]
}