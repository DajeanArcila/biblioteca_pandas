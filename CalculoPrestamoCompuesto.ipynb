{
  "nbformat": 4,
  "nbformat_minor": 0,
  "metadata": {
    "colab": {
      "provenance": [],
      "authorship_tag": "ABX9TyPFMYr7ZupMmRa/yXcgFBQf",
      "include_colab_link": true
    },
    "kernelspec": {
      "name": "python3",
      "display_name": "Python 3"
    },
    "language_info": {
      "name": "python"
    }
  },
  "cells": [
    {
      "cell_type": "markdown",
      "metadata": {
        "id": "view-in-github",
        "colab_type": "text"
      },
      "source": [
        "<a href=\"https://colab.research.google.com/github/DajeanArcila/biblioteca_pandas/blob/main/CalculoPrestamoCompuesto.ipynb\" target=\"_parent\"><img src=\"https://colab.research.google.com/assets/colab-badge.svg\" alt=\"Open In Colab\"/></a>"
      ]
    },
    {
      "cell_type": "code",
      "execution_count": 4,
      "metadata": {
        "colab": {
          "base_uri": "https://localhost:8080/"
        },
        "id": "P7eEFj58TO5k",
        "outputId": "8f315b38-664c-4ba4-95d2-2a86117e2f93"
      },
      "outputs": [
        {
          "output_type": "stream",
          "name": "stdout",
          "text": [
            "Introduce el valor del producto: 100000\n",
            "Introduce la cantidad de meses: 5\n",
            "Introduce el porcentaje mensual de interés: 2\n",
            "Tiempo total: 0 años y 5 meses.\n",
            "Cuota mensual: $21215.84\n",
            "Total a pagar al final del préstamo: $106079.20\n"
          ]
        }
      ],
      "source": [
        "# Función para calcular el total a pagar, cuota mensual y tiempo en años\n",
        "def calcular_prestamo(valor_producto, meses, interes_mensual):\n",
        "    # Convertir porcentaje de interés a decimal\n",
        "    r = interes_mensual / 100\n",
        "\n",
        "    # Calcular la cuota mensual usando la fórmula del interés compuesto\n",
        "    cuota_mensual = (valor_producto * r * (1 + r)**meses) / ((1 + r)**meses - 1)\n",
        "\n",
        "    # Calcular el total a pagar\n",
        "    total_pagar = cuota_mensual * meses\n",
        "\n",
        "    # Convertir el tiempo a años y meses\n",
        "    anos = meses // 12\n",
        "    meses_restantes = meses % 12\n",
        "\n",
        "    # Mostrar los resultados\n",
        "    print(f\"Tiempo total: {anos} años y {meses_restantes} meses.\")\n",
        "    print(f\"Cuota mensual: ${cuota_mensual:.2f}\")\n",
        "    print(f\"Total a pagar al final del préstamo: ${total_pagar:.2f}\")\n",
        "\n",
        "# Ejemplo de uso\n",
        "valor_producto = float(input(\"Introduce el valor del producto: \"))\n",
        "meses = int(input(\"Introduce la cantidad de meses: \"))\n",
        "interes_mensual = float(input(\"Introduce el porcentaje mensual de interés: \"))\n",
        "\n",
        "calcular_prestamo(valor_producto, meses, interes_mensual)\n",
        "\n"
      ]
    }
  ]
}