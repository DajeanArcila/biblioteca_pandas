{
  "nbformat": 4,
  "nbformat_minor": 0,
  "metadata": {
    "colab": {
      "provenance": [],
      "authorship_tag": "ABX9TyM9eW3Urai45RidSV2URKJt",
      "include_colab_link": true
    },
    "kernelspec": {
      "name": "python3",
      "display_name": "Python 3"
    },
    "language_info": {
      "name": "python"
    }
  },
  "cells": [
    {
      "cell_type": "markdown",
      "metadata": {
        "id": "view-in-github",
        "colab_type": "text"
      },
      "source": [
        "<a href=\"https://colab.research.google.com/github/DajeanArcila/biblioteca_pandas/blob/main/LogicaDeCalculo.ipynb\" target=\"_parent\"><img src=\"https://colab.research.google.com/assets/colab-badge.svg\" alt=\"Open In Colab\"/></a>"
      ]
    },
    {
      "cell_type": "code",
      "source": [
        "# Ejemplo de uso de condicionales y bucles\n",
        "def verificar_numero(numero):\n",
        "    if numero > 0:\n",
        "        print(\"El número es positivo\")\n",
        "    elif numero < 0:\n",
        "        print(\"El número es negativo\")\n",
        "    else:\n",
        "        print(\"El número es cero\")\n",
        "\n",
        "# Ejemplo de bucle for\n",
        "def imprimir_numeros(numero):\n",
        "    for i in range(numero):\n",
        "        print(i)\n",
        "\n",
        "# Ejecución de las funciones\n",
        "verificar_numero(5)\n",
        "verificar_numero(-3)\n",
        "verificar_numero(0)\n",
        "\n",
        "imprimir_numeros(7)\n"
      ],
      "metadata": {
        "colab": {
          "base_uri": "https://localhost:8080/"
        },
        "id": "p8x_5_3GlWem",
        "outputId": "a5bb0511-30ae-4139-bc00-0e1789946629"
      },
      "execution_count": null,
      "outputs": [
        {
          "output_type": "stream",
          "name": "stdout",
          "text": [
            "El número es positivo\n",
            "El número es negativo\n",
            "El número es cero\n",
            "0\n",
            "1\n",
            "2\n",
            "3\n",
            "4\n",
            "5\n",
            "6\n"
          ]
        }
      ]
    },
    {
      "cell_type": "code",
      "source": [
        "frutas = [\"2\", \"banana\", \"cereza\"]\n",
        "for loca in frutas:\n",
        "    print(loca)\n"
      ],
      "metadata": {
        "colab": {
          "base_uri": "https://localhost:8080/"
        },
        "id": "3N0rojjymZoy",
        "outputId": "39e41b02-7cdc-465d-b750-c7ec5bd0c5c5"
      },
      "execution_count": null,
      "outputs": [
        {
          "output_type": "stream",
          "name": "stdout",
          "text": [
            "2\n",
            "banana\n",
            "cereza\n"
          ]
        }
      ]
    },
    {
      "cell_type": "code",
      "source": [
        "numeros = [1, 2, 3,9,9,9,9,9,9,9,9,9,9,9,9, 4, 5]\n",
        "suma = 100\n",
        "for numero in numeros:\n",
        "    suma += numero\n",
        "print(\"La suma es:\", suma)\n"
      ],
      "metadata": {
        "colab": {
          "base_uri": "https://localhost:8080/"
        },
        "id": "Be1IaxFQn4f1",
        "outputId": "34ad2bb3-94a4-4060-8fd2-befbdf5542db"
      },
      "execution_count": null,
      "outputs": [
        {
          "output_type": "stream",
          "name": "stdout",
          "text": [
            "La suma es: 223\n"
          ]
        }
      ]
    },
    {
      "cell_type": "code",
      "source": [
        "contador = 5\n",
        "print(\"Cuenta regresiva:\")\n",
        "while contador > 0:\n",
        "    print(contador)\n",
        "    contador -= 1\n",
        "print(\"¡Despegue!\")\n"
      ],
      "metadata": {
        "colab": {
          "base_uri": "https://localhost:8080/"
        },
        "id": "pmmNzbtnqMwZ",
        "outputId": "a64e51e1-c882-4906-cbda-65e20b9d2504"
      },
      "execution_count": null,
      "outputs": [
        {
          "output_type": "stream",
          "name": "stdout",
          "text": [
            "Cuenta regresiva:\n",
            "5\n",
            "4\n",
            "3\n",
            "2\n",
            "1\n",
            "¡Despegue!\n"
          ]
        }
      ]
    },
    {
      "cell_type": "code",
      "source": [
        "numeros = [10, 50, 101, 150, 30]\n",
        "i = 0\n",
        "while i < len(numeros):\n",
        "    if numeros[i] > 100:\n",
        "        print(\"El primer número mayor que 100 es:\", numeros[i])\n",
        "        break\n",
        "    i += 1\n"
      ],
      "metadata": {
        "colab": {
          "base_uri": "https://localhost:8080/"
        },
        "id": "UeC4zqFCzzh9",
        "outputId": "8eba6f52-b6f2-466a-9771-616ed8d7707e"
      },
      "execution_count": null,
      "outputs": [
        {
          "output_type": "stream",
          "name": "stdout",
          "text": [
            "El primer número mayor que 100 es: 101\n"
          ]
        }
      ]
    },
    {
      "cell_type": "code",
      "source": [
        "try:\n",
        "    numerador = 10\n",
        "    denominador = 0\n",
        "    resultado = numerador / denominador\n",
        "    print(\"El resultado es:\", resultado)\n",
        "except ZeroDivisionError:\n",
        "    print(\"Error: No se puede dividir por cero.\")\n"
      ],
      "metadata": {
        "colab": {
          "base_uri": "https://localhost:8080/"
        },
        "id": "nloQ-hne4fXd",
        "outputId": "a2c71810-9106-443a-9953-d2a4b8dbb158"
      },
      "execution_count": null,
      "outputs": [
        {
          "output_type": "stream",
          "name": "stdout",
          "text": [
            "Error: No se puede dividir por cero.\n"
          ]
        }
      ]
    },
    {
      "cell_type": "code",
      "source": [
        "try:\n",
        "    numero = int(input(\"Ingresa un número: \"))\n",
        "    print(\"El número ingresado es:\", numero)\n",
        "except ValueError:\n",
        "    print(\"Error: No ingresaste un número válido.\")\n"
      ],
      "metadata": {
        "colab": {
          "base_uri": "https://localhost:8080/"
        },
        "id": "azoSJDUY7k69",
        "outputId": "348b908e-c9e6-4c6b-cb16-e47ed5845bf9"
      },
      "execution_count": null,
      "outputs": [
        {
          "output_type": "stream",
          "name": "stdout",
          "text": [
            "Ingresa un número: 222\n",
            "El número ingresado es: 222\n"
          ]
        }
      ]
    },
    {
      "cell_type": "code",
      "source": [
        "numeros_pares = []\n",
        "for i in range(1, 21):\n",
        "    if i % 2 == 0:\n",
        "        numeros_pares.append(i)\n",
        "print(\"Números pares:\", numeros_pares)\n"
      ],
      "metadata": {
        "colab": {
          "base_uri": "https://localhost:8080/"
        },
        "id": "7gJu7ENf7rDK",
        "outputId": "5a7e7005-9697-4283-86fa-1fca2c5aaace"
      },
      "execution_count": null,
      "outputs": [
        {
          "output_type": "stream",
          "name": "stdout",
          "text": [
            "Números pares: [2, 4, 6, 8, 10, 12, 14, 16, 18, 20]\n"
          ]
        }
      ]
    },
    {
      "cell_type": "code",
      "source": [
        "texto = input(\"Ingresa una cadena de texto: \").lower()\n",
        "vocales = \"aeiou\"\n",
        "contador = 0\n",
        "for letra in texto:\n",
        "    if letra in vocales:\n",
        "        contador += 1\n",
        "print(\"El número de vocales es:\", contador)\n"
      ],
      "metadata": {
        "colab": {
          "base_uri": "https://localhost:8080/"
        },
        "id": "UEVDZEtq9Lf0",
        "outputId": "d8220ecc-78db-4c2d-b5b3-9bf5eaf30c2d"
      },
      "execution_count": null,
      "outputs": [
        {
          "output_type": "stream",
          "name": "stdout",
          "text": [
            "Ingresa una cadena de texto: hola mama\n",
            "El número de vocales es: 4\n"
          ]
        }
      ]
    },
    {
      "cell_type": "code",
      "source": [
        "while True:\n",
        "    try:\n",
        "        numero = int(input(\"Ingresa un número: \"))\n",
        "        print(\"El número ingresado es:\", numero)\n",
        "        break  # Salir del bucle si la entrada es válida\n",
        "    except ValueError:\n",
        "        print(\"Error: No ingresaste un número válido. Inténtalo de nuevo.\")\n"
      ],
      "metadata": {
        "colab": {
          "base_uri": "https://localhost:8080/"
        },
        "id": "wZ-0czx_WaUV",
        "outputId": "43f61b31-6608-4822-a980-f0bf585ac576"
      },
      "execution_count": null,
      "outputs": [
        {
          "output_type": "stream",
          "name": "stdout",
          "text": [
            "Ingresa un número: dd\n",
            "Error: No ingresaste un número válido. Inténtalo de nuevo.\n",
            "Ingresa un número: dd\n",
            "Error: No ingresaste un número válido. Inténtalo de nuevo.\n",
            "Ingresa un número: dd\n",
            "Error: No ingresaste un número válido. Inténtalo de nuevo.\n",
            "Ingresa un número: dd\n",
            "Error: No ingresaste un número válido. Inténtalo de nuevo.\n",
            "Ingresa un número: 3\n",
            "El número ingresado es: 3\n"
          ]
        }
      ]
    },
    {
      "cell_type": "code",
      "source": [
        "nombre_correcto=(\"dajean\")\n",
        "while True:\n",
        "  nombre=input(\"ingresa tu nombre: \")\n",
        "  if nombre == nombre_correcto:\n",
        "    print(\"nombre correcto\")\n",
        "    break\n",
        "  else:\n",
        "    print(\"nombre incorrecto\")\n",
        "    break\n"
      ],
      "metadata": {
        "colab": {
          "base_uri": "https://localhost:8080/"
        },
        "id": "PIsRFWNcYdCq",
        "outputId": "778f16d7-4731-4de7-d933-126b97ecb14e"
      },
      "execution_count": null,
      "outputs": [
        {
          "output_type": "stream",
          "name": "stdout",
          "text": [
            "ingresa tu nombre: g\n",
            "nombre incorrecto\n"
          ]
        }
      ]
    },
    {
      "cell_type": "code",
      "source": [
        "nombre_correcto = \"dajean\"\n",
        "\n",
        "while True:\n",
        "    nombre = input(\"Dime tu nombre: \")\n",
        "\n",
        "    if nombre.lower() == nombre_correcto:\n",
        "        print(\"Nombre correcto\")\n",
        "        break\n",
        "    else:\n",
        "        print(\"Nombre incorrecto. Inténtalo de nuevo.\")\n"
      ],
      "metadata": {
        "colab": {
          "base_uri": "https://localhost:8080/"
        },
        "id": "pt32f9vodP3A",
        "outputId": "69c3616f-c306-4687-df13-74642472d46f"
      },
      "execution_count": null,
      "outputs": [
        {
          "output_type": "stream",
          "name": "stdout",
          "text": [
            "Dime tu nombre: hola\n",
            "Nombre incorrecto. Inténtalo de nuevo.\n",
            "Dime tu nombre: dajean\n",
            "Nombre correcto\n"
          ]
        }
      ]
    },
    {
      "cell_type": "code",
      "source": [
        "nombre_correcto = \"dajean\"\n",
        "\n",
        "while True:\n",
        "    #try:\n",
        "        nombre = input(\"Ingresa tu nombre: \").lower()  # Convertir la entrada a minúsculas\n",
        "        if nombre == nombre_correcto:\n",
        "            print(\"Nombre correcto\")\n",
        "            break\n",
        "        else:\n",
        "            print(\"Nombre incorrecto\")\n",
        "\n",
        "    #except ValueError:\n",
        "        #print(\"Error: No ingresaste un nombre válido.\")\n"
      ],
      "metadata": {
        "colab": {
          "base_uri": "https://localhost:8080/"
        },
        "id": "p8T0AwUPdiTC",
        "outputId": "f788329d-4aa1-4222-d2ee-70e98388a261"
      },
      "execution_count": null,
      "outputs": [
        {
          "output_type": "stream",
          "name": "stdout",
          "text": [
            "Ingresa tu nombre: dola\n",
            "Nombre incorrecto\n",
            "Ingresa tu nombre: dajean\n",
            "Nombre correcto\n"
          ]
        }
      ]
    },
    {
      "cell_type": "code",
      "source": [
        "x = True\n",
        "y = False\n",
        "print(x and y) # False\n",
        "print(x or y)  # True\n",
        "print(not x)   # False\n"
      ],
      "metadata": {
        "colab": {
          "base_uri": "https://localhost:8080/"
        },
        "id": "WbfZ5M3NkyIl",
        "outputId": "52ae114a-53a6-469c-fa2c-66830fb202cb"
      },
      "execution_count": null,
      "outputs": [
        {
          "output_type": "stream",
          "name": "stdout",
          "text": [
            "False\n",
            "True\n",
            "False\n"
          ]
        }
      ]
    },
    {
      "cell_type": "code",
      "source": [
        "\n",
        "# Operaciones de conjuntos\n",
        "conjunto1 = {1, 2, 3}\n",
        "conjunto2 = {3, 4, 5}\n",
        "print(conjunto1.union(conjunto2))       # {1, 2, 3, 4, 5}\n",
        "print(conjunto1.intersection(conjunto2)) # {3}\n",
        "print(conjunto1.difference(conjunto2))\n",
        "print(conjunto2.difference(conjunto1))"
      ],
      "metadata": {
        "colab": {
          "base_uri": "https://localhost:8080/"
        },
        "id": "WC5tB8iNk2vd",
        "outputId": "389752d1-aa90-41db-9994-17f06cc855b1"
      },
      "execution_count": null,
      "outputs": [
        {
          "output_type": "stream",
          "name": "stdout",
          "text": [
            "{1, 2, 3, 4, 5}\n",
            "{3}\n",
            "{1, 2}\n",
            "{4, 5}\n"
          ]
        }
      ]
    },
    {
      "cell_type": "markdown",
      "source": [
        " # Funciones Lambda\n",
        "Las funciones lambda son pequeñas funciones anónimas que se definen usando la palabra clave lambda. Son útiles para operaciones simples que se pueden definir en una sola línea."
      ],
      "metadata": {
        "id": "1VE475fo0aa_"
      }
    },
    {
      "cell_type": "code",
      "source": [
        "# Función lambda que suma dos números\n",
        "suma = lambda x, y: x + y\n",
        "print(suma(5, 3,9))  # 8\n",
        "\n",
        "# Función lambda para multiplicar un número por 2\n",
        "multiplicar_por_dos = lambda x: x * 2\n",
        "print(multiplicar_por_dos(4))  # 8\n"
      ],
      "metadata": {
        "colab": {
          "base_uri": "https://localhost:8080/"
        },
        "id": "AJ_ehLzZzUjz",
        "outputId": "ac6a62bc-6311-457a-9481-292f4edd589b"
      },
      "execution_count": null,
      "outputs": [
        {
          "output_type": "stream",
          "name": "stdout",
          "text": [
            "32\n",
            "8\n"
          ]
        }
      ]
    },
    {
      "cell_type": "code",
      "source": [
        "def saludar(nombre, edad):\n",
        "    print(f\"Hola, {nombre}. Tienes {edad} años.\")\n",
        "\n",
        "saludar(\"Dajean\", 25)\n"
      ],
      "metadata": {
        "colab": {
          "base_uri": "https://localhost:8080/"
        },
        "id": "CuVZLKnSAI3j",
        "outputId": "db48f266-3f09-4d77-de3b-343c8043aa0e"
      },
      "execution_count": null,
      "outputs": [
        {
          "output_type": "stream",
          "name": "stdout",
          "text": [
            "Hola, Dajean. Tienes 25 años.\n"
          ]
        }
      ]
    },
    {
      "cell_type": "code",
      "source": [
        "def saludar(nombre, edad):\n",
        "    print(f\"Hola, {nombre}. Tienes {edad} años.\")\n",
        "\n",
        "saludar(edad=25, nombre=\"Dajean\")\n"
      ],
      "metadata": {
        "colab": {
          "base_uri": "https://localhost:8080/"
        },
        "id": "TmTZlKx7ATFK",
        "outputId": "9e132450-e168-42b9-c5af-5ae51d626d56"
      },
      "execution_count": null,
      "outputs": [
        {
          "output_type": "stream",
          "name": "stdout",
          "text": [
            "Hola, Dajean. Tienes 25 años.\n"
          ]
        }
      ]
    },
    {
      "cell_type": "code",
      "source": [
        "def saludar(nombre, edad=18):\n",
        "    print(f\"Hola, {nombre}. Tienes {edad} años.\")\n",
        "\n",
        "saludar(\"Dajean\")         # Usa el valor predeterminado de edad\n",
        "saludar(\"Dajean\", 25)     # Usa el valor proporcionado\n"
      ],
      "metadata": {
        "colab": {
          "base_uri": "https://localhost:8080/"
        },
        "id": "qEYjenoVCvek",
        "outputId": "5c544bd6-9482-4fa4-c052-b25740fd6245"
      },
      "execution_count": null,
      "outputs": [
        {
          "output_type": "stream",
          "name": "stdout",
          "text": [
            "Hola, Dajean. Tienes 18 años.\n",
            "Hola, Dajean. Tienes 25 años.\n"
          ]
        }
      ]
    },
    {
      "cell_type": "code",
      "source": [
        "def sumar(*args):\n",
        "    return sum(args)\n",
        "\n",
        "print(sumar(1, 2, 3, 4))  # 10\n",
        "\n",
        "def mostrar_info(**kwargs):\n",
        "    for clave, valor in kwargs.items():\n",
        "        print(f\"{clave}: {valor}\")\n",
        "\n",
        "mostrar_info(nombre=\"Dajean\", edad=25, ciudad=\"Lima\")\n"
      ],
      "metadata": {
        "colab": {
          "base_uri": "https://localhost:8080/"
        },
        "id": "qUu7JfmoDCLT",
        "outputId": "09b0b7ea-8d27-4ce8-e04a-bb95e34918e4"
      },
      "execution_count": null,
      "outputs": [
        {
          "output_type": "stream",
          "name": "stdout",
          "text": [
            "10\n",
            "nombre: Dajean\n",
            "edad: 25\n",
            "ciudad: Lima\n"
          ]
        }
      ]
    },
    {
      "cell_type": "code",
      "source": [
        "from functools import reduce\n",
        "\n",
        "numeros = [1, 2, 3, 4]\n",
        "suma = reduce(lambda x, y: x + y, numeros)\n",
        "print(suma)  # 10\n"
      ],
      "metadata": {
        "colab": {
          "base_uri": "https://localhost:8080/"
        },
        "id": "EoasxLXTHo_k",
        "outputId": "47a006e4-e79d-407d-bb78-72b76f5aed71"
      },
      "execution_count": null,
      "outputs": [
        {
          "output_type": "stream",
          "name": "stdout",
          "text": [
            "10\n"
          ]
        }
      ]
    },
    {
      "cell_type": "code",
      "source": [
        "#funcion\n",
        "def cuadrado(x):\n",
        "    return x ** 2\n",
        "\n",
        "numeros = [1, 2, 3, 4]\n",
        "cuadrados = map(cuadrado, numeros)\n",
        "print(list(cuadrados))  # [1, 4, 9, 16]\n",
        "\n",
        "#diferencia com lambda\n",
        "numeros = [1, 2, 3, 4]\n",
        "cuadrados = map(lambda x: x ** 2, numeros)\n",
        "print(list(cuadrados))  # [1, 4, 9, 16]\n"
      ],
      "metadata": {
        "colab": {
          "base_uri": "https://localhost:8080/"
        },
        "id": "mrgn5kd6H0d8",
        "outputId": "de75c37b-11a9-4218-aaa9-b055a90480c6"
      },
      "execution_count": null,
      "outputs": [
        {
          "output_type": "stream",
          "name": "stdout",
          "text": [
            "[1, 4, 9, 16]\n",
            "[1, 4, 9, 16]\n"
          ]
        }
      ]
    },
    {
      "cell_type": "code",
      "source": [
        "texto = input(\"Ingresa una cadena de texto: \").lower()\n",
        "vocales = \"aeiou\"\n",
        "contador = 0\n",
        "\n",
        "for letra in texto:\n",
        "    if letra in vocales:\n",
        "        contador = contador + 1\n",
        "\n",
        "print(\"El número de vocales es: \",contador)\n"
      ],
      "metadata": {
        "colab": {
          "base_uri": "https://localhost:8080/"
        },
        "id": "MCaW2YuPMq6Y",
        "outputId": "3eed6eba-2c7d-4004-82cd-5fb8bf043261"
      },
      "execution_count": null,
      "outputs": [
        {
          "output_type": "stream",
          "name": "stdout",
          "text": [
            "Ingresa una cadena de texto: hola mama\n",
            "El número de vocales es:  4\n"
          ]
        }
      ]
    }
  ]
}