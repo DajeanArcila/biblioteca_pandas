{
  "nbformat": 4,
  "nbformat_minor": 0,
  "metadata": {
    "colab": {
      "provenance": [],
      "authorship_tag": "ABX9TyM2ZIZRnto8wgqQg+H3IIUb",
      "include_colab_link": true
    },
    "kernelspec": {
      "name": "python3",
      "display_name": "Python 3"
    },
    "language_info": {
      "name": "python"
    }
  },
  "cells": [
    {
      "cell_type": "markdown",
      "metadata": {
        "id": "view-in-github",
        "colab_type": "text"
      },
      "source": [
        "<a href=\"https://colab.research.google.com/github/DajeanArcila/biblioteca_pandas/blob/main/LogicaDeCalculo.ipynb\" target=\"_parent\"><img src=\"https://colab.research.google.com/assets/colab-badge.svg\" alt=\"Open In Colab\"/></a>"
      ]
    },
    {
      "cell_type": "code",
      "source": [
        "# Ejemplo de uso de condicionales y bucles\n",
        "def verificar_numero(numero):\n",
        "    if numero > 0:\n",
        "        print(\"El número es positivo\")\n",
        "    elif numero < 0:\n",
        "        print(\"El número es negativo\")\n",
        "    else:\n",
        "        print(\"El número es cero\")\n",
        "\n",
        "# Ejemplo de bucle for\n",
        "def imprimir_numeros(numero):\n",
        "    for i in range(numero):\n",
        "        print(i)\n",
        "\n",
        "# Ejecución de las funciones\n",
        "verificar_numero(5)\n",
        "verificar_numero(-3)\n",
        "verificar_numero(0)\n",
        "\n",
        "imprimir_numeros(7)\n"
      ],
      "metadata": {
        "colab": {
          "base_uri": "https://localhost:8080/"
        },
        "id": "p8x_5_3GlWem",
        "outputId": "a5bb0511-30ae-4139-bc00-0e1789946629"
      },
      "execution_count": 7,
      "outputs": [
        {
          "output_type": "stream",
          "name": "stdout",
          "text": [
            "El número es positivo\n",
            "El número es negativo\n",
            "El número es cero\n",
            "0\n",
            "1\n",
            "2\n",
            "3\n",
            "4\n",
            "5\n",
            "6\n"
          ]
        }
      ]
    },
    {
      "cell_type": "code",
      "source": [
        "frutas = [\"2\", \"banana\", \"cereza\"]\n",
        "for loca in frutas:\n",
        "    print(loca)\n"
      ],
      "metadata": {
        "colab": {
          "base_uri": "https://localhost:8080/"
        },
        "id": "3N0rojjymZoy",
        "outputId": "39e41b02-7cdc-465d-b750-c7ec5bd0c5c5"
      },
      "execution_count": 10,
      "outputs": [
        {
          "output_type": "stream",
          "name": "stdout",
          "text": [
            "2\n",
            "banana\n",
            "cereza\n"
          ]
        }
      ]
    },
    {
      "cell_type": "code",
      "source": [
        "numeros = [1, 2, 3,9,9,9,9,9,9,9,9,9,9,9,9, 4, 5]\n",
        "suma = 100\n",
        "for numero in numeros:\n",
        "    suma += numero\n",
        "print(\"La suma es:\", suma)\n"
      ],
      "metadata": {
        "colab": {
          "base_uri": "https://localhost:8080/"
        },
        "id": "Be1IaxFQn4f1",
        "outputId": "34ad2bb3-94a4-4060-8fd2-befbdf5542db"
      },
      "execution_count": 25,
      "outputs": [
        {
          "output_type": "stream",
          "name": "stdout",
          "text": [
            "La suma es: 223\n"
          ]
        }
      ]
    },
    {
      "cell_type": "code",
      "source": [
        "contador = 5\n",
        "print(\"Cuenta regresiva:\")\n",
        "while contador > 0:\n",
        "    print(contador)\n",
        "    contador -= 1\n",
        "print(\"¡Despegue!\")\n"
      ],
      "metadata": {
        "colab": {
          "base_uri": "https://localhost:8080/"
        },
        "id": "pmmNzbtnqMwZ",
        "outputId": "a64e51e1-c882-4906-cbda-65e20b9d2504"
      },
      "execution_count": 30,
      "outputs": [
        {
          "output_type": "stream",
          "name": "stdout",
          "text": [
            "Cuenta regresiva:\n",
            "5\n",
            "4\n",
            "3\n",
            "2\n",
            "1\n",
            "¡Despegue!\n"
          ]
        }
      ]
    },
    {
      "cell_type": "code",
      "source": [
        "numeros = [10, 50, 101, 150, 30]\n",
        "i = 0\n",
        "while i < len(numeros):\n",
        "    if numeros[i] > 100:\n",
        "        print(\"El primer número mayor que 100 es:\", numeros[i])\n",
        "        break\n",
        "    i += 1\n"
      ],
      "metadata": {
        "colab": {
          "base_uri": "https://localhost:8080/"
        },
        "id": "UeC4zqFCzzh9",
        "outputId": "8eba6f52-b6f2-466a-9771-616ed8d7707e"
      },
      "execution_count": 19,
      "outputs": [
        {
          "output_type": "stream",
          "name": "stdout",
          "text": [
            "El primer número mayor que 100 es: 101\n"
          ]
        }
      ]
    },
    {
      "cell_type": "code",
      "source": [
        "try:\n",
        "    numerador = 10\n",
        "    denominador = 0\n",
        "    resultado = numerador / denominador\n",
        "    print(\"El resultado es:\", resultado)\n",
        "except ZeroDivisionError:\n",
        "    print(\"Error: No se puede dividir por cero.\")\n"
      ],
      "metadata": {
        "colab": {
          "base_uri": "https://localhost:8080/"
        },
        "id": "nloQ-hne4fXd",
        "outputId": "a2c71810-9106-443a-9953-d2a4b8dbb158"
      },
      "execution_count": 49,
      "outputs": [
        {
          "output_type": "stream",
          "name": "stdout",
          "text": [
            "Error: No se puede dividir por cero.\n"
          ]
        }
      ]
    },
    {
      "cell_type": "code",
      "source": [
        "try:\n",
        "    numero = int(input(\"Ingresa un número: \"))\n",
        "    print(\"El número ingresado es:\", numero)\n",
        "except ValueError:\n",
        "    print(\"Error: No ingresaste un número válido.\")\n"
      ],
      "metadata": {
        "colab": {
          "base_uri": "https://localhost:8080/"
        },
        "id": "azoSJDUY7k69",
        "outputId": "348b908e-c9e6-4c6b-cb16-e47ed5845bf9"
      },
      "execution_count": 52,
      "outputs": [
        {
          "output_type": "stream",
          "name": "stdout",
          "text": [
            "Ingresa un número: 222\n",
            "El número ingresado es: 222\n"
          ]
        }
      ]
    },
    {
      "cell_type": "code",
      "source": [
        "numeros_pares = []\n",
        "for i in range(1, 21):\n",
        "    if i % 2 == 0:\n",
        "        numeros_pares.append(i)\n",
        "print(\"Números pares:\", numeros_pares)\n"
      ],
      "metadata": {
        "colab": {
          "base_uri": "https://localhost:8080/"
        },
        "id": "7gJu7ENf7rDK",
        "outputId": "5a7e7005-9697-4283-86fa-1fca2c5aaace"
      },
      "execution_count": 56,
      "outputs": [
        {
          "output_type": "stream",
          "name": "stdout",
          "text": [
            "Números pares: [2, 4, 6, 8, 10, 12, 14, 16, 18, 20]\n"
          ]
        }
      ]
    },
    {
      "cell_type": "code",
      "source": [
        "texto = input(\"Ingresa una cadena de texto: \").lower()\n",
        "vocales = \"aeiou\"\n",
        "contador = 0\n",
        "for letra in texto:\n",
        "    if letra in vocales:\n",
        "        contador += 1\n",
        "print(\"El número de vocales es:\", contador)\n"
      ],
      "metadata": {
        "colab": {
          "base_uri": "https://localhost:8080/"
        },
        "id": "UEVDZEtq9Lf0",
        "outputId": "d8220ecc-78db-4c2d-b5b3-9bf5eaf30c2d"
      },
      "execution_count": 1,
      "outputs": [
        {
          "output_type": "stream",
          "name": "stdout",
          "text": [
            "Ingresa una cadena de texto: hola mama\n",
            "El número de vocales es: 4\n"
          ]
        }
      ]
    },
    {
      "cell_type": "code",
      "source": [
        "while True:\n",
        "    try:\n",
        "        numero = int(input(\"Ingresa un número: \"))\n",
        "        print(\"El número ingresado es:\", numero)\n",
        "        break  # Salir del bucle si la entrada es válida\n",
        "    except ValueError:\n",
        "        print(\"Error: No ingresaste un número válido. Inténtalo de nuevo.\")\n"
      ],
      "metadata": {
        "colab": {
          "base_uri": "https://localhost:8080/"
        },
        "id": "wZ-0czx_WaUV",
        "outputId": "43f61b31-6608-4822-a980-f0bf585ac576"
      },
      "execution_count": 27,
      "outputs": [
        {
          "output_type": "stream",
          "name": "stdout",
          "text": [
            "Ingresa un número: dd\n",
            "Error: No ingresaste un número válido. Inténtalo de nuevo.\n",
            "Ingresa un número: dd\n",
            "Error: No ingresaste un número válido. Inténtalo de nuevo.\n",
            "Ingresa un número: dd\n",
            "Error: No ingresaste un número válido. Inténtalo de nuevo.\n",
            "Ingresa un número: dd\n",
            "Error: No ingresaste un número válido. Inténtalo de nuevo.\n",
            "Ingresa un número: 3\n",
            "El número ingresado es: 3\n"
          ]
        }
      ]
    },
    {
      "cell_type": "code",
      "source": [
        "nombre_correcto=(\"dajean\")\n",
        "while True:\n",
        "  nombre=input(\"ingresa tu nombre: \")\n",
        "  if nombre == nombre_correcto:\n",
        "    print(\"nombre correcto\")\n",
        "    break\n",
        "  else:\n",
        "    print(\"nombre incorrecto\")\n",
        "    break\n",
        ""
      ],
      "metadata": {
        "colab": {
          "base_uri": "https://localhost:8080/"
        },
        "id": "PIsRFWNcYdCq",
        "outputId": "778f16d7-4731-4de7-d933-126b97ecb14e"
      },
      "execution_count": 35,
      "outputs": [
        {
          "output_type": "stream",
          "name": "stdout",
          "text": [
            "ingresa tu nombre: g\n",
            "nombre incorrecto\n"
          ]
        }
      ]
    },
    {
      "cell_type": "code",
      "source": [
        "nombre_correcto = \"dajean\"\n",
        "\n",
        "while True:\n",
        "    nombre = input(\"Dime tu nombre: \")\n",
        "\n",
        "    if nombre.lower() == nombre_correcto:\n",
        "        print(\"Nombre correcto\")\n",
        "        break\n",
        "    else:\n",
        "        print(\"Nombre incorrecto. Inténtalo de nuevo.\")\n"
      ],
      "metadata": {
        "colab": {
          "base_uri": "https://localhost:8080/"
        },
        "id": "pt32f9vodP3A",
        "outputId": "69c3616f-c306-4687-df13-74642472d46f"
      },
      "execution_count": 48,
      "outputs": [
        {
          "output_type": "stream",
          "name": "stdout",
          "text": [
            "Dime tu nombre: hola\n",
            "Nombre incorrecto. Inténtalo de nuevo.\n",
            "Dime tu nombre: dajean\n",
            "Nombre correcto\n"
          ]
        }
      ]
    },
    {
      "cell_type": "code",
      "source": [
        "nombre_correcto = \"dajean\"\n",
        "\n",
        "while True:\n",
        "    #try:\n",
        "        nombre = input(\"Ingresa tu nombre: \").lower()  # Convertir la entrada a minúsculas\n",
        "        if nombre == nombre_correcto:\n",
        "            print(\"Nombre correcto\")\n",
        "            break\n",
        "        else:\n",
        "            print(\"Nombre incorrecto\")\n",
        "\n",
        "    #except ValueError:\n",
        "        #print(\"Error: No ingresaste un nombre válido.\")\n"
      ],
      "metadata": {
        "colab": {
          "base_uri": "https://localhost:8080/"
        },
        "id": "p8T0AwUPdiTC",
        "outputId": "f788329d-4aa1-4222-d2ee-70e98388a261"
      },
      "execution_count": 49,
      "outputs": [
        {
          "output_type": "stream",
          "name": "stdout",
          "text": [
            "Ingresa tu nombre: dola\n",
            "Nombre incorrecto\n",
            "Ingresa tu nombre: dajean\n",
            "Nombre correcto\n"
          ]
        }
      ]
    }
  ]
}