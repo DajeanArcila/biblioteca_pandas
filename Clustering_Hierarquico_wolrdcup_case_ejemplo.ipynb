{
  "nbformat": 4,
  "nbformat_minor": 0,
  "metadata": {
    "colab": {
      "provenance": [],
      "toc_visible": true
    },
    "kernelspec": {
      "name": "python3",
      "display_name": "Python 3"
    },
    "language_info": {
      "name": "python"
    }
  },
  "cells": [
    {
      "cell_type": "markdown",
      "source": [
        "# Contextualização\n",
        "\n",
        "## **Objetivo geral:**\n",
        "\n",
        "- Agrupar países dado seus respectivos desempenhos nas copas de 1930 a 2018, **utilizando a técnica de clusterização hierárquica**.\n",
        "\n",
        "**Dataset:**\n",
        "\n",
        "Os dados foram coletados através [deste link](https://www.kaggle.com/datasets/iamsouravbanerjee/fifa-football-world-cup-dataset) e contém vários arquivos csv, um para cada copa mundial, mais um arquivo de resumo das copas (que não será utilizado neste case).\n",
        "\n",
        "Dicionário dos dados:\n",
        "\n",
        "|Variável         | Descrição|\n",
        "|:----------------|:---------|\n",
        "|Position         | Posição (rank da copa) |\n",
        "|Team             | Time |\n",
        "|Games Played     | Quantidades de jogos na copa que o time participou |\n",
        "|Win              | Quantidade de jogos na copa que o time ganhou |\n",
        "|Draw             | Quantidade de jogos na copa que o time empatou |\n",
        "|Loss             | Quantidade de jogos na copa que o time perdeu |\n",
        "|Goals For        | Quantidade de gols feitos pelo time na copa |\n",
        "|Goals Against    | Quantidade de gols recebidos contra o time na copa |\n",
        "|Goals Difference | Quantidade de gols feitos menos a quantidade de gols recebidos |\n",
        "|Points           | Pontos do time na copa |\n",
        "\n",
        "\n",
        "## **Instruções**\n",
        "\n",
        "- Faça um pré-processamento dos dados, de forma que os dados fiquem comparáveis entre os times.\n",
        "- Plot um dendrograma testando diferentes métodos da abordagem bottom-up e inspecione os gráficos, tirando suas conclusões.\n",
        "- Avalie a quantidade \"ideal\" de cluster pelas métricas estudadas no módulo.\n",
        "- Escolha uma quantidade de grupos e descreva os grupos estudados, bem como os times presentes em cada grupo.\n",
        "\n",
        "**Considere apenas os times que participaram de mais de 3 copas.**"
      ],
      "metadata": {
        "id": "_fP1thphTdtD"
      }
    },
    {
      "cell_type": "markdown",
      "source": [
        "# Setup"
      ],
      "metadata": {
        "id": "R3TrZa5Ya82i"
      }
    },
    {
      "cell_type": "markdown",
      "source": [
        "## Libraries"
      ],
      "metadata": {
        "id": "frFAYkGza_ta"
      }
    },
    {
      "cell_type": "code",
      "source": [
        "import re\n",
        "import glob\n",
        "import numpy as np\n",
        "import pandas as pd\n",
        "\n",
        "from ipywidgets import interact\n",
        "from sklearn.cluster import AgglomerativeClustering\n",
        "from scipy.cluster.hierarchy import linkage, dendrogram, fcluster\n",
        "from sklearn.preprocessing import MinMaxScaler, minmax_scale, scale\n",
        "from sklearn.metrics import silhouette_score, davies_bouldin_score, calinski_harabasz_score\n",
        "\n",
        "import seaborn as sns\n",
        "import matplotlib.pyplot as plt"
      ],
      "metadata": {
        "id": "n7NCcOW0a_DP"
      },
      "execution_count": null,
      "outputs": []
    },
    {
      "cell_type": "markdown",
      "source": [
        "## Custom functions"
      ],
      "metadata": {
        "id": "1YTK_eaubFzF"
      }
    },
    {
      "cell_type": "markdown",
      "source": [
        "## Load data"
      ],
      "metadata": {
        "id": "pjO4a7_8bHd2"
      }
    },
    {
      "cell_type": "markdown",
      "source": [
        "# Pré-processamento"
      ],
      "metadata": {
        "id": "IT5w_Anncrht"
      }
    },
    {
      "cell_type": "markdown",
      "source": [
        "# Modeling"
      ],
      "metadata": {
        "id": "FCsC-dyveHBv"
      }
    },
    {
      "cell_type": "markdown",
      "source": [
        "# Conclusões"
      ],
      "metadata": {
        "id": "FPzInc54n6QM"
      }
    },
    {
      "cell_type": "markdown",
      "source": [
        "# Sugestões adicionais\n",
        "\n",
        "Outro dataset interessante para aplicar clusterização é dos jogadores das seleções.  \n",
        "Vide este [dataset](https://www.kaggle.com/datasets/stefanoleone992/fifa-22-complete-player-dataset)."
      ],
      "metadata": {
        "id": "pogB1K1UoAzp"
      }
    }
  ]
}