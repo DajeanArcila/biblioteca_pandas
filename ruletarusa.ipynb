{
  "nbformat": 4,
  "nbformat_minor": 0,
  "metadata": {
    "colab": {
      "provenance": [],
      "authorship_tag": "ABX9TyN4wySG+ucitJHcmDmbCaqI",
      "include_colab_link": true
    },
    "kernelspec": {
      "name": "python3",
      "display_name": "Python 3"
    },
    "language_info": {
      "name": "python"
    }
  },
  "cells": [
    {
      "cell_type": "markdown",
      "metadata": {
        "id": "view-in-github",
        "colab_type": "text"
      },
      "source": [
        "<a href=\"https://colab.research.google.com/github/DajeanArcila/biblioteca_pandas/blob/main/ruletarusa.ipynb\" target=\"_parent\"><img src=\"https://colab.research.google.com/assets/colab-badge.svg\" alt=\"Open In Colab\"/></a>"
      ]
    },
    {
      "cell_type": "code",
      "execution_count": 10,
      "metadata": {
        "colab": {
          "base_uri": "https://localhost:8080/"
        },
        "id": "6QcYVBFA2xcX",
        "outputId": "9f0110df-aef7-47d3-f579-9c8cf41216a9"
      },
      "outputs": [
        {
          "output_type": "stream",
          "name": "stdout",
          "text": [
            "Adivina el número (entre 1 y 10): 5\n",
            "Lo siento, el número era 7. ¡Mejor suerte la próxima vez!\n"
          ]
        }
      ],
      "source": [
        "import random\n",
        "\n",
        "# Generar un número aleatorio entre 1 y 6\n",
        "numero_aleatorio = random.randint(1, 10)\n",
        "\n",
        "# Pedir al usuario que adivine el número\n",
        "adivinanza = int(input(\"Adivina el número (entre 1 y 10): \"))\n",
        "\n",
        "# Comprobar si la adivinanza es correcta\n",
        "if adivinanza == numero_aleatorio:\n",
        "    print(\"¡Felicidades! Adivinaste el número.\")\n",
        "else:\n",
        "    print(f\"Lo siento, el número era {numero_aleatorio}. ¡Mejor suerte la próxima vez!\")\n"
      ]
    }
  ]
}