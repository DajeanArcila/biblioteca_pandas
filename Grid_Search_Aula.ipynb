{
  "nbformat": 4,
  "nbformat_minor": 0,
  "metadata": {
    "colab": {
      "provenance": []
    },
    "kernelspec": {
      "name": "python3",
      "display_name": "Python 3"
    },
    "language_info": {
      "name": "python"
    }
  },
  "cells": [
    {
      "cell_type": "code",
      "execution_count": 1,
      "metadata": {
        "id": "sTE2HeXRelm_"
      },
      "outputs": [],
      "source": [
        "import pandas as pd\n",
        "import numpy as np"
      ]
    },
    {
      "cell_type": "code",
      "source": [
        "features = pd.read_excel(\"temps.xlsx\")\n",
        "features.head()\n"
      ],
      "metadata": {
        "colab": {
          "base_uri": "https://localhost:8080/",
          "height": 206
        },
        "id": "evxVaAYQeytt",
        "outputId": "547c1ebb-e7d1-4a3d-86d7-ce16f93d60a6"
      },
      "execution_count": 2,
      "outputs": [
        {
          "output_type": "execute_result",
          "data": {
            "text/plain": [
              "   year  month  day  week  temp_2  temp_1  average  actual\n",
              "0  2016      1    1   Fri      45      45     45.6      45\n",
              "1  2016      1    2   Sat      44      45     45.7      44\n",
              "2  2016      1    3   Sun      45      44     45.8      41\n",
              "3  2016      1    4   Mon      44      41     45.9      40\n",
              "4  2016      1    5  Tues      41      40     46.0      44"
            ],
            "text/html": [
              "\n",
              "  <div id=\"df-6cfa01a5-82aa-4776-a1f3-db00b25fd254\">\n",
              "    <div class=\"colab-df-container\">\n",
              "      <div>\n",
              "<style scoped>\n",
              "    .dataframe tbody tr th:only-of-type {\n",
              "        vertical-align: middle;\n",
              "    }\n",
              "\n",
              "    .dataframe tbody tr th {\n",
              "        vertical-align: top;\n",
              "    }\n",
              "\n",
              "    .dataframe thead th {\n",
              "        text-align: right;\n",
              "    }\n",
              "</style>\n",
              "<table border=\"1\" class=\"dataframe\">\n",
              "  <thead>\n",
              "    <tr style=\"text-align: right;\">\n",
              "      <th></th>\n",
              "      <th>year</th>\n",
              "      <th>month</th>\n",
              "      <th>day</th>\n",
              "      <th>week</th>\n",
              "      <th>temp_2</th>\n",
              "      <th>temp_1</th>\n",
              "      <th>average</th>\n",
              "      <th>actual</th>\n",
              "    </tr>\n",
              "  </thead>\n",
              "  <tbody>\n",
              "    <tr>\n",
              "      <th>0</th>\n",
              "      <td>2016</td>\n",
              "      <td>1</td>\n",
              "      <td>1</td>\n",
              "      <td>Fri</td>\n",
              "      <td>45</td>\n",
              "      <td>45</td>\n",
              "      <td>45.6</td>\n",
              "      <td>45</td>\n",
              "    </tr>\n",
              "    <tr>\n",
              "      <th>1</th>\n",
              "      <td>2016</td>\n",
              "      <td>1</td>\n",
              "      <td>2</td>\n",
              "      <td>Sat</td>\n",
              "      <td>44</td>\n",
              "      <td>45</td>\n",
              "      <td>45.7</td>\n",
              "      <td>44</td>\n",
              "    </tr>\n",
              "    <tr>\n",
              "      <th>2</th>\n",
              "      <td>2016</td>\n",
              "      <td>1</td>\n",
              "      <td>3</td>\n",
              "      <td>Sun</td>\n",
              "      <td>45</td>\n",
              "      <td>44</td>\n",
              "      <td>45.8</td>\n",
              "      <td>41</td>\n",
              "    </tr>\n",
              "    <tr>\n",
              "      <th>3</th>\n",
              "      <td>2016</td>\n",
              "      <td>1</td>\n",
              "      <td>4</td>\n",
              "      <td>Mon</td>\n",
              "      <td>44</td>\n",
              "      <td>41</td>\n",
              "      <td>45.9</td>\n",
              "      <td>40</td>\n",
              "    </tr>\n",
              "    <tr>\n",
              "      <th>4</th>\n",
              "      <td>2016</td>\n",
              "      <td>1</td>\n",
              "      <td>5</td>\n",
              "      <td>Tues</td>\n",
              "      <td>41</td>\n",
              "      <td>40</td>\n",
              "      <td>46.0</td>\n",
              "      <td>44</td>\n",
              "    </tr>\n",
              "  </tbody>\n",
              "</table>\n",
              "</div>\n",
              "      <button class=\"colab-df-convert\" onclick=\"convertToInteractive('df-6cfa01a5-82aa-4776-a1f3-db00b25fd254')\"\n",
              "              title=\"Convert this dataframe to an interactive table.\"\n",
              "              style=\"display:none;\">\n",
              "        \n",
              "  <svg xmlns=\"http://www.w3.org/2000/svg\" height=\"24px\"viewBox=\"0 0 24 24\"\n",
              "       width=\"24px\">\n",
              "    <path d=\"M0 0h24v24H0V0z\" fill=\"none\"/>\n",
              "    <path d=\"M18.56 5.44l.94 2.06.94-2.06 2.06-.94-2.06-.94-.94-2.06-.94 2.06-2.06.94zm-11 1L8.5 8.5l.94-2.06 2.06-.94-2.06-.94L8.5 2.5l-.94 2.06-2.06.94zm10 10l.94 2.06.94-2.06 2.06-.94-2.06-.94-.94-2.06-.94 2.06-2.06.94z\"/><path d=\"M17.41 7.96l-1.37-1.37c-.4-.4-.92-.59-1.43-.59-.52 0-1.04.2-1.43.59L10.3 9.45l-7.72 7.72c-.78.78-.78 2.05 0 2.83L4 21.41c.39.39.9.59 1.41.59.51 0 1.02-.2 1.41-.59l7.78-7.78 2.81-2.81c.8-.78.8-2.07 0-2.86zM5.41 20L4 18.59l7.72-7.72 1.47 1.35L5.41 20z\"/>\n",
              "  </svg>\n",
              "      </button>\n",
              "      \n",
              "  <style>\n",
              "    .colab-df-container {\n",
              "      display:flex;\n",
              "      flex-wrap:wrap;\n",
              "      gap: 12px;\n",
              "    }\n",
              "\n",
              "    .colab-df-convert {\n",
              "      background-color: #E8F0FE;\n",
              "      border: none;\n",
              "      border-radius: 50%;\n",
              "      cursor: pointer;\n",
              "      display: none;\n",
              "      fill: #1967D2;\n",
              "      height: 32px;\n",
              "      padding: 0 0 0 0;\n",
              "      width: 32px;\n",
              "    }\n",
              "\n",
              "    .colab-df-convert:hover {\n",
              "      background-color: #E2EBFA;\n",
              "      box-shadow: 0px 1px 2px rgba(60, 64, 67, 0.3), 0px 1px 3px 1px rgba(60, 64, 67, 0.15);\n",
              "      fill: #174EA6;\n",
              "    }\n",
              "\n",
              "    [theme=dark] .colab-df-convert {\n",
              "      background-color: #3B4455;\n",
              "      fill: #D2E3FC;\n",
              "    }\n",
              "\n",
              "    [theme=dark] .colab-df-convert:hover {\n",
              "      background-color: #434B5C;\n",
              "      box-shadow: 0px 1px 3px 1px rgba(0, 0, 0, 0.15);\n",
              "      filter: drop-shadow(0px 1px 2px rgba(0, 0, 0, 0.3));\n",
              "      fill: #FFFFFF;\n",
              "    }\n",
              "  </style>\n",
              "\n",
              "      <script>\n",
              "        const buttonEl =\n",
              "          document.querySelector('#df-6cfa01a5-82aa-4776-a1f3-db00b25fd254 button.colab-df-convert');\n",
              "        buttonEl.style.display =\n",
              "          google.colab.kernel.accessAllowed ? 'block' : 'none';\n",
              "\n",
              "        async function convertToInteractive(key) {\n",
              "          const element = document.querySelector('#df-6cfa01a5-82aa-4776-a1f3-db00b25fd254');\n",
              "          const dataTable =\n",
              "            await google.colab.kernel.invokeFunction('convertToInteractive',\n",
              "                                                     [key], {});\n",
              "          if (!dataTable) return;\n",
              "\n",
              "          const docLinkHtml = 'Like what you see? Visit the ' +\n",
              "            '<a target=\"_blank\" href=https://colab.research.google.com/notebooks/data_table.ipynb>data table notebook</a>'\n",
              "            + ' to learn more about interactive tables.';\n",
              "          element.innerHTML = '';\n",
              "          dataTable['output_type'] = 'display_data';\n",
              "          await google.colab.output.renderOutput(dataTable, element);\n",
              "          const docLink = document.createElement('div');\n",
              "          docLink.innerHTML = docLinkHtml;\n",
              "          element.appendChild(docLink);\n",
              "        }\n",
              "      </script>\n",
              "    </div>\n",
              "  </div>\n",
              "  "
            ]
          },
          "metadata": {},
          "execution_count": 2
        }
      ]
    },
    {
      "cell_type": "code",
      "source": [
        "features.describe()"
      ],
      "metadata": {
        "colab": {
          "base_uri": "https://localhost:8080/",
          "height": 300
        },
        "id": "3YT1HqpBfCXI",
        "outputId": "0b0a6b02-c738-49a5-dbac-a2e7d55ba6f7"
      },
      "execution_count": 3,
      "outputs": [
        {
          "output_type": "execute_result",
          "data": {
            "text/plain": [
              "         year       month         day      temp_2      temp_1     average  \\\n",
              "count   348.0  348.000000  348.000000  348.000000  348.000000  348.000000   \n",
              "mean   2016.0    6.477011   15.514368   62.652299   62.701149   59.760632   \n",
              "std       0.0    3.498380    8.772982   12.165398   12.120542   10.527306   \n",
              "min    2016.0    1.000000    1.000000   35.000000   35.000000   45.100000   \n",
              "25%    2016.0    3.000000    8.000000   54.000000   54.000000   49.975000   \n",
              "50%    2016.0    6.000000   15.000000   62.500000   62.500000   58.200000   \n",
              "75%    2016.0   10.000000   23.000000   71.000000   71.000000   69.025000   \n",
              "max    2016.0   12.000000   31.000000  117.000000  117.000000   77.400000   \n",
              "\n",
              "           actual  \n",
              "count  348.000000  \n",
              "mean    62.543103  \n",
              "std     11.794146  \n",
              "min     35.000000  \n",
              "25%     54.000000  \n",
              "50%     62.500000  \n",
              "75%     71.000000  \n",
              "max     92.000000  "
            ],
            "text/html": [
              "\n",
              "  <div id=\"df-3b529f8f-d725-4a65-a591-bc17dd406e54\">\n",
              "    <div class=\"colab-df-container\">\n",
              "      <div>\n",
              "<style scoped>\n",
              "    .dataframe tbody tr th:only-of-type {\n",
              "        vertical-align: middle;\n",
              "    }\n",
              "\n",
              "    .dataframe tbody tr th {\n",
              "        vertical-align: top;\n",
              "    }\n",
              "\n",
              "    .dataframe thead th {\n",
              "        text-align: right;\n",
              "    }\n",
              "</style>\n",
              "<table border=\"1\" class=\"dataframe\">\n",
              "  <thead>\n",
              "    <tr style=\"text-align: right;\">\n",
              "      <th></th>\n",
              "      <th>year</th>\n",
              "      <th>month</th>\n",
              "      <th>day</th>\n",
              "      <th>temp_2</th>\n",
              "      <th>temp_1</th>\n",
              "      <th>average</th>\n",
              "      <th>actual</th>\n",
              "    </tr>\n",
              "  </thead>\n",
              "  <tbody>\n",
              "    <tr>\n",
              "      <th>count</th>\n",
              "      <td>348.0</td>\n",
              "      <td>348.000000</td>\n",
              "      <td>348.000000</td>\n",
              "      <td>348.000000</td>\n",
              "      <td>348.000000</td>\n",
              "      <td>348.000000</td>\n",
              "      <td>348.000000</td>\n",
              "    </tr>\n",
              "    <tr>\n",
              "      <th>mean</th>\n",
              "      <td>2016.0</td>\n",
              "      <td>6.477011</td>\n",
              "      <td>15.514368</td>\n",
              "      <td>62.652299</td>\n",
              "      <td>62.701149</td>\n",
              "      <td>59.760632</td>\n",
              "      <td>62.543103</td>\n",
              "    </tr>\n",
              "    <tr>\n",
              "      <th>std</th>\n",
              "      <td>0.0</td>\n",
              "      <td>3.498380</td>\n",
              "      <td>8.772982</td>\n",
              "      <td>12.165398</td>\n",
              "      <td>12.120542</td>\n",
              "      <td>10.527306</td>\n",
              "      <td>11.794146</td>\n",
              "    </tr>\n",
              "    <tr>\n",
              "      <th>min</th>\n",
              "      <td>2016.0</td>\n",
              "      <td>1.000000</td>\n",
              "      <td>1.000000</td>\n",
              "      <td>35.000000</td>\n",
              "      <td>35.000000</td>\n",
              "      <td>45.100000</td>\n",
              "      <td>35.000000</td>\n",
              "    </tr>\n",
              "    <tr>\n",
              "      <th>25%</th>\n",
              "      <td>2016.0</td>\n",
              "      <td>3.000000</td>\n",
              "      <td>8.000000</td>\n",
              "      <td>54.000000</td>\n",
              "      <td>54.000000</td>\n",
              "      <td>49.975000</td>\n",
              "      <td>54.000000</td>\n",
              "    </tr>\n",
              "    <tr>\n",
              "      <th>50%</th>\n",
              "      <td>2016.0</td>\n",
              "      <td>6.000000</td>\n",
              "      <td>15.000000</td>\n",
              "      <td>62.500000</td>\n",
              "      <td>62.500000</td>\n",
              "      <td>58.200000</td>\n",
              "      <td>62.500000</td>\n",
              "    </tr>\n",
              "    <tr>\n",
              "      <th>75%</th>\n",
              "      <td>2016.0</td>\n",
              "      <td>10.000000</td>\n",
              "      <td>23.000000</td>\n",
              "      <td>71.000000</td>\n",
              "      <td>71.000000</td>\n",
              "      <td>69.025000</td>\n",
              "      <td>71.000000</td>\n",
              "    </tr>\n",
              "    <tr>\n",
              "      <th>max</th>\n",
              "      <td>2016.0</td>\n",
              "      <td>12.000000</td>\n",
              "      <td>31.000000</td>\n",
              "      <td>117.000000</td>\n",
              "      <td>117.000000</td>\n",
              "      <td>77.400000</td>\n",
              "      <td>92.000000</td>\n",
              "    </tr>\n",
              "  </tbody>\n",
              "</table>\n",
              "</div>\n",
              "      <button class=\"colab-df-convert\" onclick=\"convertToInteractive('df-3b529f8f-d725-4a65-a591-bc17dd406e54')\"\n",
              "              title=\"Convert this dataframe to an interactive table.\"\n",
              "              style=\"display:none;\">\n",
              "        \n",
              "  <svg xmlns=\"http://www.w3.org/2000/svg\" height=\"24px\"viewBox=\"0 0 24 24\"\n",
              "       width=\"24px\">\n",
              "    <path d=\"M0 0h24v24H0V0z\" fill=\"none\"/>\n",
              "    <path d=\"M18.56 5.44l.94 2.06.94-2.06 2.06-.94-2.06-.94-.94-2.06-.94 2.06-2.06.94zm-11 1L8.5 8.5l.94-2.06 2.06-.94-2.06-.94L8.5 2.5l-.94 2.06-2.06.94zm10 10l.94 2.06.94-2.06 2.06-.94-2.06-.94-.94-2.06-.94 2.06-2.06.94z\"/><path d=\"M17.41 7.96l-1.37-1.37c-.4-.4-.92-.59-1.43-.59-.52 0-1.04.2-1.43.59L10.3 9.45l-7.72 7.72c-.78.78-.78 2.05 0 2.83L4 21.41c.39.39.9.59 1.41.59.51 0 1.02-.2 1.41-.59l7.78-7.78 2.81-2.81c.8-.78.8-2.07 0-2.86zM5.41 20L4 18.59l7.72-7.72 1.47 1.35L5.41 20z\"/>\n",
              "  </svg>\n",
              "      </button>\n",
              "      \n",
              "  <style>\n",
              "    .colab-df-container {\n",
              "      display:flex;\n",
              "      flex-wrap:wrap;\n",
              "      gap: 12px;\n",
              "    }\n",
              "\n",
              "    .colab-df-convert {\n",
              "      background-color: #E8F0FE;\n",
              "      border: none;\n",
              "      border-radius: 50%;\n",
              "      cursor: pointer;\n",
              "      display: none;\n",
              "      fill: #1967D2;\n",
              "      height: 32px;\n",
              "      padding: 0 0 0 0;\n",
              "      width: 32px;\n",
              "    }\n",
              "\n",
              "    .colab-df-convert:hover {\n",
              "      background-color: #E2EBFA;\n",
              "      box-shadow: 0px 1px 2px rgba(60, 64, 67, 0.3), 0px 1px 3px 1px rgba(60, 64, 67, 0.15);\n",
              "      fill: #174EA6;\n",
              "    }\n",
              "\n",
              "    [theme=dark] .colab-df-convert {\n",
              "      background-color: #3B4455;\n",
              "      fill: #D2E3FC;\n",
              "    }\n",
              "\n",
              "    [theme=dark] .colab-df-convert:hover {\n",
              "      background-color: #434B5C;\n",
              "      box-shadow: 0px 1px 3px 1px rgba(0, 0, 0, 0.15);\n",
              "      filter: drop-shadow(0px 1px 2px rgba(0, 0, 0, 0.3));\n",
              "      fill: #FFFFFF;\n",
              "    }\n",
              "  </style>\n",
              "\n",
              "      <script>\n",
              "        const buttonEl =\n",
              "          document.querySelector('#df-3b529f8f-d725-4a65-a591-bc17dd406e54 button.colab-df-convert');\n",
              "        buttonEl.style.display =\n",
              "          google.colab.kernel.accessAllowed ? 'block' : 'none';\n",
              "\n",
              "        async function convertToInteractive(key) {\n",
              "          const element = document.querySelector('#df-3b529f8f-d725-4a65-a591-bc17dd406e54');\n",
              "          const dataTable =\n",
              "            await google.colab.kernel.invokeFunction('convertToInteractive',\n",
              "                                                     [key], {});\n",
              "          if (!dataTable) return;\n",
              "\n",
              "          const docLinkHtml = 'Like what you see? Visit the ' +\n",
              "            '<a target=\"_blank\" href=https://colab.research.google.com/notebooks/data_table.ipynb>data table notebook</a>'\n",
              "            + ' to learn more about interactive tables.';\n",
              "          element.innerHTML = '';\n",
              "          dataTable['output_type'] = 'display_data';\n",
              "          await google.colab.output.renderOutput(dataTable, element);\n",
              "          const docLink = document.createElement('div');\n",
              "          docLink.innerHTML = docLinkHtml;\n",
              "          element.appendChild(docLink);\n",
              "        }\n",
              "      </script>\n",
              "    </div>\n",
              "  </div>\n",
              "  "
            ]
          },
          "metadata": {},
          "execution_count": 3
        }
      ]
    },
    {
      "cell_type": "code",
      "source": [
        "# One-hot encode the data using pandas get_dummies\n",
        "features = pd.get_dummies(features)\n",
        "features.head()"
      ],
      "metadata": {
        "colab": {
          "base_uri": "https://localhost:8080/",
          "height": 206
        },
        "id": "PNJh9wWkfgLW",
        "outputId": "e4967a34-125a-4dfa-8ba2-380cceb4e3ae"
      },
      "execution_count": 4,
      "outputs": [
        {
          "output_type": "execute_result",
          "data": {
            "text/plain": [
              "   year  month  day  temp_2  temp_1  average  actual  week_Fri  week_Mon  \\\n",
              "0  2016      1    1      45      45     45.6      45         1         0   \n",
              "1  2016      1    2      44      45     45.7      44         0         0   \n",
              "2  2016      1    3      45      44     45.8      41         0         0   \n",
              "3  2016      1    4      44      41     45.9      40         0         1   \n",
              "4  2016      1    5      41      40     46.0      44         0         0   \n",
              "\n",
              "   week_Sat  week_Sun  week_Thurs  week_Tues  week_Wed  \n",
              "0         0         0           0          0         0  \n",
              "1         1         0           0          0         0  \n",
              "2         0         1           0          0         0  \n",
              "3         0         0           0          0         0  \n",
              "4         0         0           0          1         0  "
            ],
            "text/html": [
              "\n",
              "  <div id=\"df-856215a4-ab6b-4de3-bcd9-0851446a2fbd\">\n",
              "    <div class=\"colab-df-container\">\n",
              "      <div>\n",
              "<style scoped>\n",
              "    .dataframe tbody tr th:only-of-type {\n",
              "        vertical-align: middle;\n",
              "    }\n",
              "\n",
              "    .dataframe tbody tr th {\n",
              "        vertical-align: top;\n",
              "    }\n",
              "\n",
              "    .dataframe thead th {\n",
              "        text-align: right;\n",
              "    }\n",
              "</style>\n",
              "<table border=\"1\" class=\"dataframe\">\n",
              "  <thead>\n",
              "    <tr style=\"text-align: right;\">\n",
              "      <th></th>\n",
              "      <th>year</th>\n",
              "      <th>month</th>\n",
              "      <th>day</th>\n",
              "      <th>temp_2</th>\n",
              "      <th>temp_1</th>\n",
              "      <th>average</th>\n",
              "      <th>actual</th>\n",
              "      <th>week_Fri</th>\n",
              "      <th>week_Mon</th>\n",
              "      <th>week_Sat</th>\n",
              "      <th>week_Sun</th>\n",
              "      <th>week_Thurs</th>\n",
              "      <th>week_Tues</th>\n",
              "      <th>week_Wed</th>\n",
              "    </tr>\n",
              "  </thead>\n",
              "  <tbody>\n",
              "    <tr>\n",
              "      <th>0</th>\n",
              "      <td>2016</td>\n",
              "      <td>1</td>\n",
              "      <td>1</td>\n",
              "      <td>45</td>\n",
              "      <td>45</td>\n",
              "      <td>45.6</td>\n",
              "      <td>45</td>\n",
              "      <td>1</td>\n",
              "      <td>0</td>\n",
              "      <td>0</td>\n",
              "      <td>0</td>\n",
              "      <td>0</td>\n",
              "      <td>0</td>\n",
              "      <td>0</td>\n",
              "    </tr>\n",
              "    <tr>\n",
              "      <th>1</th>\n",
              "      <td>2016</td>\n",
              "      <td>1</td>\n",
              "      <td>2</td>\n",
              "      <td>44</td>\n",
              "      <td>45</td>\n",
              "      <td>45.7</td>\n",
              "      <td>44</td>\n",
              "      <td>0</td>\n",
              "      <td>0</td>\n",
              "      <td>1</td>\n",
              "      <td>0</td>\n",
              "      <td>0</td>\n",
              "      <td>0</td>\n",
              "      <td>0</td>\n",
              "    </tr>\n",
              "    <tr>\n",
              "      <th>2</th>\n",
              "      <td>2016</td>\n",
              "      <td>1</td>\n",
              "      <td>3</td>\n",
              "      <td>45</td>\n",
              "      <td>44</td>\n",
              "      <td>45.8</td>\n",
              "      <td>41</td>\n",
              "      <td>0</td>\n",
              "      <td>0</td>\n",
              "      <td>0</td>\n",
              "      <td>1</td>\n",
              "      <td>0</td>\n",
              "      <td>0</td>\n",
              "      <td>0</td>\n",
              "    </tr>\n",
              "    <tr>\n",
              "      <th>3</th>\n",
              "      <td>2016</td>\n",
              "      <td>1</td>\n",
              "      <td>4</td>\n",
              "      <td>44</td>\n",
              "      <td>41</td>\n",
              "      <td>45.9</td>\n",
              "      <td>40</td>\n",
              "      <td>0</td>\n",
              "      <td>1</td>\n",
              "      <td>0</td>\n",
              "      <td>0</td>\n",
              "      <td>0</td>\n",
              "      <td>0</td>\n",
              "      <td>0</td>\n",
              "    </tr>\n",
              "    <tr>\n",
              "      <th>4</th>\n",
              "      <td>2016</td>\n",
              "      <td>1</td>\n",
              "      <td>5</td>\n",
              "      <td>41</td>\n",
              "      <td>40</td>\n",
              "      <td>46.0</td>\n",
              "      <td>44</td>\n",
              "      <td>0</td>\n",
              "      <td>0</td>\n",
              "      <td>0</td>\n",
              "      <td>0</td>\n",
              "      <td>0</td>\n",
              "      <td>1</td>\n",
              "      <td>0</td>\n",
              "    </tr>\n",
              "  </tbody>\n",
              "</table>\n",
              "</div>\n",
              "      <button class=\"colab-df-convert\" onclick=\"convertToInteractive('df-856215a4-ab6b-4de3-bcd9-0851446a2fbd')\"\n",
              "              title=\"Convert this dataframe to an interactive table.\"\n",
              "              style=\"display:none;\">\n",
              "        \n",
              "  <svg xmlns=\"http://www.w3.org/2000/svg\" height=\"24px\"viewBox=\"0 0 24 24\"\n",
              "       width=\"24px\">\n",
              "    <path d=\"M0 0h24v24H0V0z\" fill=\"none\"/>\n",
              "    <path d=\"M18.56 5.44l.94 2.06.94-2.06 2.06-.94-2.06-.94-.94-2.06-.94 2.06-2.06.94zm-11 1L8.5 8.5l.94-2.06 2.06-.94-2.06-.94L8.5 2.5l-.94 2.06-2.06.94zm10 10l.94 2.06.94-2.06 2.06-.94-2.06-.94-.94-2.06-.94 2.06-2.06.94z\"/><path d=\"M17.41 7.96l-1.37-1.37c-.4-.4-.92-.59-1.43-.59-.52 0-1.04.2-1.43.59L10.3 9.45l-7.72 7.72c-.78.78-.78 2.05 0 2.83L4 21.41c.39.39.9.59 1.41.59.51 0 1.02-.2 1.41-.59l7.78-7.78 2.81-2.81c.8-.78.8-2.07 0-2.86zM5.41 20L4 18.59l7.72-7.72 1.47 1.35L5.41 20z\"/>\n",
              "  </svg>\n",
              "      </button>\n",
              "      \n",
              "  <style>\n",
              "    .colab-df-container {\n",
              "      display:flex;\n",
              "      flex-wrap:wrap;\n",
              "      gap: 12px;\n",
              "    }\n",
              "\n",
              "    .colab-df-convert {\n",
              "      background-color: #E8F0FE;\n",
              "      border: none;\n",
              "      border-radius: 50%;\n",
              "      cursor: pointer;\n",
              "      display: none;\n",
              "      fill: #1967D2;\n",
              "      height: 32px;\n",
              "      padding: 0 0 0 0;\n",
              "      width: 32px;\n",
              "    }\n",
              "\n",
              "    .colab-df-convert:hover {\n",
              "      background-color: #E2EBFA;\n",
              "      box-shadow: 0px 1px 2px rgba(60, 64, 67, 0.3), 0px 1px 3px 1px rgba(60, 64, 67, 0.15);\n",
              "      fill: #174EA6;\n",
              "    }\n",
              "\n",
              "    [theme=dark] .colab-df-convert {\n",
              "      background-color: #3B4455;\n",
              "      fill: #D2E3FC;\n",
              "    }\n",
              "\n",
              "    [theme=dark] .colab-df-convert:hover {\n",
              "      background-color: #434B5C;\n",
              "      box-shadow: 0px 1px 3px 1px rgba(0, 0, 0, 0.15);\n",
              "      filter: drop-shadow(0px 1px 2px rgba(0, 0, 0, 0.3));\n",
              "      fill: #FFFFFF;\n",
              "    }\n",
              "  </style>\n",
              "\n",
              "      <script>\n",
              "        const buttonEl =\n",
              "          document.querySelector('#df-856215a4-ab6b-4de3-bcd9-0851446a2fbd button.colab-df-convert');\n",
              "        buttonEl.style.display =\n",
              "          google.colab.kernel.accessAllowed ? 'block' : 'none';\n",
              "\n",
              "        async function convertToInteractive(key) {\n",
              "          const element = document.querySelector('#df-856215a4-ab6b-4de3-bcd9-0851446a2fbd');\n",
              "          const dataTable =\n",
              "            await google.colab.kernel.invokeFunction('convertToInteractive',\n",
              "                                                     [key], {});\n",
              "          if (!dataTable) return;\n",
              "\n",
              "          const docLinkHtml = 'Like what you see? Visit the ' +\n",
              "            '<a target=\"_blank\" href=https://colab.research.google.com/notebooks/data_table.ipynb>data table notebook</a>'\n",
              "            + ' to learn more about interactive tables.';\n",
              "          element.innerHTML = '';\n",
              "          dataTable['output_type'] = 'display_data';\n",
              "          await google.colab.output.renderOutput(dataTable, element);\n",
              "          const docLink = document.createElement('div');\n",
              "          docLink.innerHTML = docLinkHtml;\n",
              "          element.appendChild(docLink);\n",
              "        }\n",
              "      </script>\n",
              "    </div>\n",
              "  </div>\n",
              "  "
            ]
          },
          "metadata": {},
          "execution_count": 4
        }
      ]
    },
    {
      "cell_type": "code",
      "source": [
        "import numpy as np\n",
        "# Labels are the values we want to predict\n",
        "labels = np.array(features['actual'])\n",
        "# Remove the labels from the features\n",
        "# axis 1 refers to the columns\n",
        "features= features.drop('actual', axis = 1)\n",
        "# Saving feature names for later use\n",
        "feature_list = list(features.columns)\n",
        "# Convert to numpy array\n",
        "features = np.array(features)"
      ],
      "metadata": {
        "id": "5RPrArvOiSMt"
      },
      "execution_count": 5,
      "outputs": []
    },
    {
      "cell_type": "code",
      "source": [
        "# Using Skicit-learn to split data into training and testing sets\n",
        "from sklearn.model_selection import train_test_split\n",
        "# Split the data into training and testing sets\n",
        "train_features, test_features, train_labels, test_labels = train_test_split(features, labels, test_size = 0.25, random_state = 42)"
      ],
      "metadata": {
        "id": "MS4UBHMxgr6N"
      },
      "execution_count": 6,
      "outputs": []
    },
    {
      "cell_type": "markdown",
      "source": [
        "## Bibiliotecas"
      ],
      "metadata": {
        "id": "VISQQAcJxlY_"
      }
    },
    {
      "cell_type": "code",
      "source": [
        "from sklearn.datasets import make_moons\n",
        "from sklearn.metrics import accuracy_score\n",
        "from sklearn.model_selection import train_test_split\n",
        "from sklearn.tree import DecisionTreeRegressor\n",
        "from sklearn.ensemble import RandomForestRegressor,AdaBoostRegressor,GradientBoostingRegressor\n",
        "from sklearn import metrics"
      ],
      "metadata": {
        "id": "-Z_a6LNkpOyD"
      },
      "execution_count": 13,
      "outputs": []
    },
    {
      "cell_type": "markdown",
      "source": [
        "## Treino com GradientBoostingRegressor"
      ],
      "metadata": {
        "id": "yRYCgLn4x_fX"
      }
    },
    {
      "cell_type": "code",
      "source": [
        "grb = GradientBoostingRegressor(n_estimators=100)\n",
        "grb.fit(train_features, train_labels)\n",
        "gbr_pred = grb.predict(test_features)"
      ],
      "metadata": {
        "id": "l9Wgavt6wKUP"
      },
      "execution_count": 44,
      "outputs": []
    },
    {
      "cell_type": "code",
      "source": [
        "# Calculate the absolute errors\n",
        "errors_gbr = abs(gbr_pred - test_labels)\n",
        "\n",
        "# Print out the mean absolute error (mae)\n",
        "r_sq = grb.score(test_features, test_labels)\n",
        "print('Coeficiente de Determinação (R²):', r_sq)\n",
        "\n",
        "print('MAE:', metrics.mean_absolute_error(test_labels, gbr_pred))\n",
        "print('MSE:', metrics.mean_squared_error(test_labels, gbr_pred))\n",
        "print('RMSE:', np.sqrt(metrics.mean_squared_error(test_labels, gbr_pred)))"
      ],
      "metadata": {
        "colab": {
          "base_uri": "https://localhost:8080/"
        },
        "id": "ShZWZ-43waLf",
        "outputId": "1613677e-e952-469a-e899-f52ec5e9c4b7"
      },
      "execution_count": 70,
      "outputs": [
        {
          "output_type": "stream",
          "name": "stdout",
          "text": [
            "Coeficiente de Determinação (R²): 0.794432421563143\n",
            "MAE: 4.084064229203863\n",
            "MSE: 28.58804331795176\n",
            "RMSE: 5.346778779597279\n"
          ]
        }
      ]
    },
    {
      "cell_type": "markdown",
      "source": [
        "## GridSearch GradientBoosting"
      ],
      "metadata": {
        "id": "zcHqtmXxqniH"
      }
    },
    {
      "cell_type": "code",
      "source": [
        "from sklearn.model_selection import GridSearchCV\n",
        "\n",
        "\n",
        "parameters = {'learning_rate': [0.03],\n",
        "                  'subsample'    : [0.2],\n",
        "                  'n_estimators' : [100,500,1000, 1500],\n",
        "                  'max_depth'    : [8]\n",
        "                 }\n",
        "\n",
        "grid_search = GridSearchCV(grb, parameters, scoring='r2', cv=2, n_jobs=-1)"
      ],
      "metadata": {
        "id": "KKSFXyqYJjQ5"
      },
      "execution_count": 74,
      "outputs": []
    },
    {
      "cell_type": "code",
      "source": [
        "grid_search.fit(train_features, train_labels)"
      ],
      "metadata": {
        "colab": {
          "base_uri": "https://localhost:8080/"
        },
        "id": "LUcheBBMi9xb",
        "outputId": "b7cab06d-245f-497b-879b-359a51b7d479"
      },
      "execution_count": 75,
      "outputs": [
        {
          "output_type": "execute_result",
          "data": {
            "text/plain": [
              "GridSearchCV(cv=2, estimator=GradientBoostingRegressor(), n_jobs=-1,\n",
              "             param_grid={'learning_rate': [0.03], 'max_depth': [8],\n",
              "                         'n_estimators': [100, 500, 1000, 1500],\n",
              "                         'subsample': [0.2]},\n",
              "             scoring='r2')"
            ]
          },
          "metadata": {},
          "execution_count": 75
        }
      ]
    },
    {
      "cell_type": "code",
      "source": [
        "    print(\" Results from Grid Search \" )\n",
        "    print(\"\\n The best estimator across ALL searched params:\\n\",grid_search.best_estimator_)\n",
        "    print(\"\\n The best score across ALL searched params:\\n\",grid_search.best_score_)\n",
        "    print(\"\\n The best parameters across ALL searched params:\\n\",grid_search.best_params_)\n"
      ],
      "metadata": {
        "colab": {
          "base_uri": "https://localhost:8080/"
        },
        "id": "7T5lCg_uLr9O",
        "outputId": "58d495f7-e035-423e-89ff-d2e06aac172a"
      },
      "execution_count": 73,
      "outputs": [
        {
          "output_type": "stream",
          "name": "stdout",
          "text": [
            " Results from Grid Search \n",
            "\n",
            " The best estimator across ALL searched params:\n",
            " GradientBoostingRegressor(learning_rate=0.03, max_depth=8, subsample=0.2)\n",
            "\n",
            " The best score across ALL searched params:\n",
            " 0.8309023953314276\n",
            "\n",
            " The best parameters across ALL searched params:\n",
            " {'learning_rate': 0.03, 'max_depth': 8, 'n_estimators': 100, 'subsample': 0.2}\n"
          ]
        }
      ]
    },
    {
      "cell_type": "code",
      "source": [
        "best_model = grid_search.best_estimator_"
      ],
      "metadata": {
        "id": "NpniL7PgjGo-"
      },
      "execution_count": 76,
      "outputs": []
    },
    {
      "cell_type": "code",
      "source": [
        "best_model.get_params()"
      ],
      "metadata": {
        "colab": {
          "base_uri": "https://localhost:8080/"
        },
        "id": "06cVp-QEjdwk",
        "outputId": "36c965ed-304c-4358-89a2-74d13b1ea3e8"
      },
      "execution_count": 77,
      "outputs": [
        {
          "output_type": "execute_result",
          "data": {
            "text/plain": [
              "{'alpha': 0.9,\n",
              " 'ccp_alpha': 0.0,\n",
              " 'criterion': 'friedman_mse',\n",
              " 'init': None,\n",
              " 'learning_rate': 0.03,\n",
              " 'loss': 'squared_error',\n",
              " 'max_depth': 8,\n",
              " 'max_features': None,\n",
              " 'max_leaf_nodes': None,\n",
              " 'min_impurity_decrease': 0.0,\n",
              " 'min_samples_leaf': 1,\n",
              " 'min_samples_split': 2,\n",
              " 'min_weight_fraction_leaf': 0.0,\n",
              " 'n_estimators': 100,\n",
              " 'n_iter_no_change': None,\n",
              " 'random_state': None,\n",
              " 'subsample': 0.2,\n",
              " 'tol': 0.0001,\n",
              " 'validation_fraction': 0.1,\n",
              " 'verbose': 0,\n",
              " 'warm_start': False}"
            ]
          },
          "metadata": {},
          "execution_count": 77
        }
      ]
    },
    {
      "cell_type": "code",
      "source": [
        "grb_tunned = GradientBoostingRegressor(alpha = 0.9,  ccp_alpha = 0.0,\n",
        " criterion = 'friedman_mse',\n",
        " init = None,\n",
        " learning_rate = 0.03,\n",
        " loss = 'squared_error',\n",
        " max_depth = 8,\n",
        " max_features = None,\n",
        " max_leaf_nodes = None,\n",
        " min_impurity_decrease = 0.0,\n",
        " min_samples_leaf = 1,\n",
        " min_samples_split = 2,\n",
        " min_weight_fraction_leaf = 0.0,\n",
        " n_estimators = 100,\n",
        " n_iter_no_change = None,\n",
        " random_state = None,\n",
        " subsample = 0.2,\n",
        " tol = 0.0001,\n",
        " validation_fraction = 0.1,\n",
        " verbose = 0,\n",
        " warm_start = False)\n",
        "grb_tunned.fit(train_features, train_labels)\n",
        "gbr_tunned_pred = grb_tunned.predict(test_features)"
      ],
      "metadata": {
        "id": "zxpscXwhlURN"
      },
      "execution_count": 78,
      "outputs": []
    },
    {
      "cell_type": "code",
      "source": [
        "# Calculate the absolute errors\n",
        "errors_gbr = abs(gbr_tunned_pred - test_labels)\n",
        "\n",
        "# Print out the mean absolute error (mae)\n",
        "r_sq = grb_tunned.score(test_features, test_labels)\n",
        "print('Coeficiente de Determinação (R²):', r_sq)\n",
        "\n",
        "print('MAE:', metrics.mean_absolute_error(test_labels, gbr_tunned_pred))\n",
        "print('MSE:', metrics.mean_squared_error(test_labels, gbr_tunned_pred))\n",
        "print('RMSE:', np.sqrt(metrics.mean_squared_error(test_labels, gbr_tunned_pred)))"
      ],
      "metadata": {
        "colab": {
          "base_uri": "https://localhost:8080/"
        },
        "id": "kKzx_NrsmSAN",
        "outputId": "12b31326-05df-4b22-ff1f-a32f8e1aa4d8"
      },
      "execution_count": 79,
      "outputs": [
        {
          "output_type": "stream",
          "name": "stdout",
          "text": [
            "Coeficiente de Determinação (R²): 0.8054993428090218\n",
            "MAE: 3.998186956567576\n",
            "MSE: 27.04897949096445\n",
            "RMSE: 5.20086334092374\n"
          ]
        }
      ]
    },
    {
      "cell_type": "code",
      "source": [],
      "metadata": {
        "id": "A6EdH4PYoW3v"
      },
      "execution_count": null,
      "outputs": []
    }
  ]
}